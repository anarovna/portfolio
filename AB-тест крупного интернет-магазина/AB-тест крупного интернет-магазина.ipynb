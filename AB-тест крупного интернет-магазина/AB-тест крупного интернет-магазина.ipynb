{
 "cells": [
  {
   "cell_type": "markdown",
   "metadata": {},
   "source": [
    "# A/B-тест крупного интернет-магазина.    \n",
    "Есть список гипотез для увеличения выручки крупного интернет-магазина. Необходимо приоритизировать гипотезы, запустить A/B-тест и проанализировать результаты. \n",
    "\n",
    "**В нашем распоряжении:**\n",
    "- /datasets/hypothesis.csv - 9 гипотез по увеличению выручки интернет-магазина,\n",
    "- /datasets/orders.csv -результаты A/B-теста,\n",
    "- /datasets/visitors.csv -результаты A/B-теста.\n",
    "\n",
    "**Цель исследования:**\n",
    "1. Приоритизировать гипотезы,\n",
    "2. Запустить A/B-тест,\n",
    "3. Проанализировать результаты,\n",
    "4. Подготовить список гипотез для увеличения выручки.\n",
    "\n",
    "**Исследование пройдет в 4 шага:**       \n",
    "\n",
    "**1 шаг.** [Подготовка данных](#one)   \n",
    "  \n",
    "**2 шаг.** [Приоритизация гипотез.](#two)    \n",
    "    2.1 [Приоритизация гипотез с применением фреймворка ICE](#two1)        \n",
    "    2.2 [Приоритизация гипотез с применением фреймворка RICE](#two2)     \n",
    "    2.3 [Изменение приоритизации гипотез при применении RICE вместо ICE](#two3)   \n",
    "\n",
    "**3 шаг.** [Анализ A/B-теста](#three)      \n",
    "    3.1 [График кумулятивной выручки по группам](#three1)      \n",
    "    3.2 [График кумулятивного среднего чека по группам](#three2)       \n",
    "    3.3 [График относительного изменения кумулятивного среднего чека группы B к группе A. ](#three3)        \n",
    "    3.4 [График кумулятивного среднего количества заказов на посетителя по группам](#three4)   \n",
    "    3.5 [График относительного изменения кумулятивного среднего количества заказов на посетителя группы B к группе A.](#three5)    \n",
    "    3.6 [Точечный график количества заказов по пользователям.](#three6)    \n",
    "    3.7 [95-й и 99-й перцентили количества заказов на пользователя.](#three7)    \n",
    "    3.8 [Точечный график стоимостей заказов](#three8)   \n",
    "    3.9 [95-й и 99-й перцентили стоимости заказов](#three9)    \n",
    "    3.10 [Статистическая значимость различий в среднем количестве заказов на посетителя между группами по «сырым» данным.](#three10)    \n",
    "    3.11 [Статистическая значимость различий в среднем чеке заказа между группами по «сырым» данным](#three11)     \n",
    "    3.12 [Статистическая значимость различий в среднем количестве заказов на посетителя между группами по «очищенным» данным.](#three12)      \n",
    "    3.13 [Статистическая значимость различий в среднем чеке заказа между группами по «очищенным» данным](#three13)   \n",
    "         \n",
    "**4 шаг.** [Общий вывод](#four)"
   ]
  },
  {
   "cell_type": "markdown",
   "metadata": {},
   "source": [
    "# <a id=\"one\"></a> **1 шаг.** Подготовка данных"
   ]
  },
  {
   "cell_type": "code",
   "execution_count": 1,
   "metadata": {},
   "outputs": [],
   "source": [
    "import pandas as pd\n",
    "from datetime import datetime, timedelta\n",
    "from matplotlib import pyplot as plt\n",
    "import numpy as np\n",
    "import seaborn as sb \n",
    "import scipy.stats as stats"
   ]
  },
  {
   "cell_type": "code",
   "execution_count": 2,
   "metadata": {},
   "outputs": [],
   "source": [
    "try:\n",
    "    hypothesis, orders, visitors = (\n",
    "                            pd.read_csv('hypothesis.csv'),\n",
    "                            pd.read_csv('orders.csv'),\n",
    "                            pd.read_csv('visitors.csv')\n",
    "                            )\n",
    "except:\n",
    "    hypothesis, orders, visitors = (\n",
    "                            pd.read_csv('/datasets/hypothesis.csv'),\n",
    "                            pd.read_csv('/datasets/orders.csv'),\n",
    "                            pd.read_csv('/datasets/visitors.csv')\n",
    "                            )\n",
    "pd.set_option('display.max_colwidth', 255)"
   ]
  },
  {
   "cell_type": "code",
   "execution_count": 3,
   "metadata": {},
   "outputs": [
    {
     "data": {
      "text/html": [
       "<div>\n",
       "<style scoped>\n",
       "    .dataframe tbody tr th:only-of-type {\n",
       "        vertical-align: middle;\n",
       "    }\n",
       "\n",
       "    .dataframe tbody tr th {\n",
       "        vertical-align: top;\n",
       "    }\n",
       "\n",
       "    .dataframe thead th {\n",
       "        text-align: right;\n",
       "    }\n",
       "</style>\n",
       "<table border=\"1\" class=\"dataframe\">\n",
       "  <thead>\n",
       "    <tr style=\"text-align: right;\">\n",
       "      <th></th>\n",
       "      <th>Hypothesis</th>\n",
       "      <th>Reach</th>\n",
       "      <th>Impact</th>\n",
       "      <th>Confidence</th>\n",
       "      <th>Efforts</th>\n",
       "    </tr>\n",
       "  </thead>\n",
       "  <tbody>\n",
       "    <tr>\n",
       "      <th>0</th>\n",
       "      <td>Добавить два новых канала привлечения трафика, что позволит привлекать на 30% больше пользователей</td>\n",
       "      <td>3</td>\n",
       "      <td>10</td>\n",
       "      <td>8</td>\n",
       "      <td>6</td>\n",
       "    </tr>\n",
       "    <tr>\n",
       "      <th>1</th>\n",
       "      <td>Запустить собственную службу доставки, что сократит срок доставки заказов</td>\n",
       "      <td>2</td>\n",
       "      <td>5</td>\n",
       "      <td>4</td>\n",
       "      <td>10</td>\n",
       "    </tr>\n",
       "    <tr>\n",
       "      <th>2</th>\n",
       "      <td>Добавить блоки рекомендаций товаров на сайт интернет магазина, чтобы повысить конверсию и средний чек заказа</td>\n",
       "      <td>8</td>\n",
       "      <td>3</td>\n",
       "      <td>7</td>\n",
       "      <td>3</td>\n",
       "    </tr>\n",
       "    <tr>\n",
       "      <th>3</th>\n",
       "      <td>Изменить структура категорий, что увеличит конверсию, т.к. пользователи быстрее найдут нужный товар</td>\n",
       "      <td>8</td>\n",
       "      <td>3</td>\n",
       "      <td>3</td>\n",
       "      <td>8</td>\n",
       "    </tr>\n",
       "    <tr>\n",
       "      <th>4</th>\n",
       "      <td>Изменить цвет фона главной страницы, чтобы увеличить вовлеченность пользователей</td>\n",
       "      <td>3</td>\n",
       "      <td>1</td>\n",
       "      <td>1</td>\n",
       "      <td>1</td>\n",
       "    </tr>\n",
       "    <tr>\n",
       "      <th>5</th>\n",
       "      <td>Добавить страницу отзывов клиентов о магазине, что позволит увеличить количество заказов</td>\n",
       "      <td>3</td>\n",
       "      <td>2</td>\n",
       "      <td>2</td>\n",
       "      <td>3</td>\n",
       "    </tr>\n",
       "    <tr>\n",
       "      <th>6</th>\n",
       "      <td>Показать на главной странице баннеры с актуальными акциями и распродажами, чтобы увеличить конверсию</td>\n",
       "      <td>5</td>\n",
       "      <td>3</td>\n",
       "      <td>8</td>\n",
       "      <td>3</td>\n",
       "    </tr>\n",
       "    <tr>\n",
       "      <th>7</th>\n",
       "      <td>Добавить форму подписки на все основные страницы, чтобы собрать базу клиентов для email-рассылок</td>\n",
       "      <td>10</td>\n",
       "      <td>7</td>\n",
       "      <td>8</td>\n",
       "      <td>5</td>\n",
       "    </tr>\n",
       "    <tr>\n",
       "      <th>8</th>\n",
       "      <td>Запустить акцию, дающую скидку на товар в день рождения</td>\n",
       "      <td>1</td>\n",
       "      <td>9</td>\n",
       "      <td>9</td>\n",
       "      <td>5</td>\n",
       "    </tr>\n",
       "  </tbody>\n",
       "</table>\n",
       "</div>"
      ],
      "text/plain": [
       "                                                                                                     Hypothesis  \\\n",
       "0            Добавить два новых канала привлечения трафика, что позволит привлекать на 30% больше пользователей   \n",
       "1                                     Запустить собственную службу доставки, что сократит срок доставки заказов   \n",
       "2  Добавить блоки рекомендаций товаров на сайт интернет магазина, чтобы повысить конверсию и средний чек заказа   \n",
       "3           Изменить структура категорий, что увеличит конверсию, т.к. пользователи быстрее найдут нужный товар   \n",
       "4                              Изменить цвет фона главной страницы, чтобы увеличить вовлеченность пользователей   \n",
       "5                      Добавить страницу отзывов клиентов о магазине, что позволит увеличить количество заказов   \n",
       "6          Показать на главной странице баннеры с актуальными акциями и распродажами, чтобы увеличить конверсию   \n",
       "7              Добавить форму подписки на все основные страницы, чтобы собрать базу клиентов для email-рассылок   \n",
       "8                                                       Запустить акцию, дающую скидку на товар в день рождения   \n",
       "\n",
       "   Reach  Impact  Confidence  Efforts  \n",
       "0      3      10           8        6  \n",
       "1      2       5           4       10  \n",
       "2      8       3           7        3  \n",
       "3      8       3           3        8  \n",
       "4      3       1           1        1  \n",
       "5      3       2           2        3  \n",
       "6      5       3           8        3  \n",
       "7     10       7           8        5  \n",
       "8      1       9           9        5  "
      ]
     },
     "execution_count": 3,
     "metadata": {},
     "output_type": "execute_result"
    }
   ],
   "source": [
    "hypothesis"
   ]
  },
  {
   "cell_type": "markdown",
   "metadata": {},
   "source": [
    "Структура hypothesis:   \n",
    "`Hypothesis` — краткое описание гипотезы;       \n",
    "`Reach` — охват пользователей по 10-балльной шкале;   \n",
    "`Impact` — влияние на пользователей по 10-балльной шкале;    \n",
    "`Confidence` — уверенность в гипотезе по 10-балльной шкале;    \n",
    "`Efforts` — затраты ресурсов на проверку гипотезы по 10-балльной шкале. Чем больше значение Efforts, тем дороже проверка гипотезы.  "
   ]
  },
  {
   "cell_type": "code",
   "execution_count": 4,
   "metadata": {},
   "outputs": [],
   "source": [
    "#приведем к нижнему регистру\n",
    "hypothesis.columns = hypothesis.columns.str.lower()"
   ]
  },
  {
   "cell_type": "code",
   "execution_count": 5,
   "metadata": {},
   "outputs": [
    {
     "name": "stdout",
     "output_type": "stream",
     "text": [
      "<class 'pandas.core.frame.DataFrame'>\n",
      "RangeIndex: 9 entries, 0 to 8\n",
      "Data columns (total 5 columns):\n",
      " #   Column      Non-Null Count  Dtype \n",
      "---  ------      --------------  ----- \n",
      " 0   hypothesis  9 non-null      object\n",
      " 1   reach       9 non-null      int64 \n",
      " 2   impact      9 non-null      int64 \n",
      " 3   confidence  9 non-null      int64 \n",
      " 4   efforts     9 non-null      int64 \n",
      "dtypes: int64(4), object(1)\n",
      "memory usage: 488.0+ bytes\n"
     ]
    }
   ],
   "source": [
    "hypothesis.info()"
   ]
  },
  {
   "cell_type": "code",
   "execution_count": 6,
   "metadata": {},
   "outputs": [
    {
     "data": {
      "text/plain": [
       "hypothesis    0\n",
       "reach         0\n",
       "impact        0\n",
       "confidence    0\n",
       "efforts       0\n",
       "dtype: int64"
      ]
     },
     "execution_count": 6,
     "metadata": {},
     "output_type": "execute_result"
    }
   ],
   "source": [
    "# проверяем пропуски\n",
    "hypothesis.isna().sum()"
   ]
  },
  {
   "cell_type": "code",
   "execution_count": 7,
   "metadata": {},
   "outputs": [
    {
     "name": "stdout",
     "output_type": "stream",
     "text": [
      "Количество дубликатов в таблице hypothesis: 0\n"
     ]
    }
   ],
   "source": [
    "print('Количество дубликатов в таблице hypothesis:',hypothesis.duplicated().sum())"
   ]
  },
  {
   "cell_type": "code",
   "execution_count": 8,
   "metadata": {},
   "outputs": [
    {
     "data": {
      "text/html": [
       "<div>\n",
       "<style scoped>\n",
       "    .dataframe tbody tr th:only-of-type {\n",
       "        vertical-align: middle;\n",
       "    }\n",
       "\n",
       "    .dataframe tbody tr th {\n",
       "        vertical-align: top;\n",
       "    }\n",
       "\n",
       "    .dataframe thead th {\n",
       "        text-align: right;\n",
       "    }\n",
       "</style>\n",
       "<table border=\"1\" class=\"dataframe\">\n",
       "  <thead>\n",
       "    <tr style=\"text-align: right;\">\n",
       "      <th></th>\n",
       "      <th>transactionId</th>\n",
       "      <th>visitorId</th>\n",
       "      <th>date</th>\n",
       "      <th>revenue</th>\n",
       "      <th>group</th>\n",
       "    </tr>\n",
       "  </thead>\n",
       "  <tbody>\n",
       "    <tr>\n",
       "      <th>0</th>\n",
       "      <td>3667963787</td>\n",
       "      <td>3312258926</td>\n",
       "      <td>2019-08-15</td>\n",
       "      <td>1650</td>\n",
       "      <td>B</td>\n",
       "    </tr>\n",
       "    <tr>\n",
       "      <th>1</th>\n",
       "      <td>2804400009</td>\n",
       "      <td>3642806036</td>\n",
       "      <td>2019-08-15</td>\n",
       "      <td>730</td>\n",
       "      <td>B</td>\n",
       "    </tr>\n",
       "    <tr>\n",
       "      <th>2</th>\n",
       "      <td>2961555356</td>\n",
       "      <td>4069496402</td>\n",
       "      <td>2019-08-15</td>\n",
       "      <td>400</td>\n",
       "      <td>A</td>\n",
       "    </tr>\n",
       "    <tr>\n",
       "      <th>3</th>\n",
       "      <td>3797467345</td>\n",
       "      <td>1196621759</td>\n",
       "      <td>2019-08-15</td>\n",
       "      <td>9759</td>\n",
       "      <td>B</td>\n",
       "    </tr>\n",
       "    <tr>\n",
       "      <th>4</th>\n",
       "      <td>2282983706</td>\n",
       "      <td>2322279887</td>\n",
       "      <td>2019-08-15</td>\n",
       "      <td>2308</td>\n",
       "      <td>B</td>\n",
       "    </tr>\n",
       "    <tr>\n",
       "      <th>...</th>\n",
       "      <td>...</td>\n",
       "      <td>...</td>\n",
       "      <td>...</td>\n",
       "      <td>...</td>\n",
       "      <td>...</td>\n",
       "    </tr>\n",
       "    <tr>\n",
       "      <th>1192</th>\n",
       "      <td>2662137336</td>\n",
       "      <td>3733762160</td>\n",
       "      <td>2019-08-14</td>\n",
       "      <td>6490</td>\n",
       "      <td>B</td>\n",
       "    </tr>\n",
       "    <tr>\n",
       "      <th>1193</th>\n",
       "      <td>2203539145</td>\n",
       "      <td>370388673</td>\n",
       "      <td>2019-08-14</td>\n",
       "      <td>3190</td>\n",
       "      <td>A</td>\n",
       "    </tr>\n",
       "    <tr>\n",
       "      <th>1194</th>\n",
       "      <td>1807773912</td>\n",
       "      <td>573423106</td>\n",
       "      <td>2019-08-14</td>\n",
       "      <td>10550</td>\n",
       "      <td>A</td>\n",
       "    </tr>\n",
       "    <tr>\n",
       "      <th>1195</th>\n",
       "      <td>1947021204</td>\n",
       "      <td>1614305549</td>\n",
       "      <td>2019-08-14</td>\n",
       "      <td>100</td>\n",
       "      <td>A</td>\n",
       "    </tr>\n",
       "    <tr>\n",
       "      <th>1196</th>\n",
       "      <td>3936777065</td>\n",
       "      <td>2108080724</td>\n",
       "      <td>2019-08-15</td>\n",
       "      <td>202740</td>\n",
       "      <td>B</td>\n",
       "    </tr>\n",
       "  </tbody>\n",
       "</table>\n",
       "<p>1197 rows × 5 columns</p>\n",
       "</div>"
      ],
      "text/plain": [
       "      transactionId   visitorId        date  revenue group\n",
       "0        3667963787  3312258926  2019-08-15     1650     B\n",
       "1        2804400009  3642806036  2019-08-15      730     B\n",
       "2        2961555356  4069496402  2019-08-15      400     A\n",
       "3        3797467345  1196621759  2019-08-15     9759     B\n",
       "4        2282983706  2322279887  2019-08-15     2308     B\n",
       "...             ...         ...         ...      ...   ...\n",
       "1192     2662137336  3733762160  2019-08-14     6490     B\n",
       "1193     2203539145   370388673  2019-08-14     3190     A\n",
       "1194     1807773912   573423106  2019-08-14    10550     A\n",
       "1195     1947021204  1614305549  2019-08-14      100     A\n",
       "1196     3936777065  2108080724  2019-08-15   202740     B\n",
       "\n",
       "[1197 rows x 5 columns]"
      ]
     },
     "execution_count": 8,
     "metadata": {},
     "output_type": "execute_result"
    }
   ],
   "source": [
    "orders"
   ]
  },
  {
   "cell_type": "markdown",
   "metadata": {},
   "source": [
    "Структура orders:    \n",
    "`transactionId` — идентификатор заказа;     \n",
    "`visitorId` — идентификатор пользователя, совершившего заказ;    \n",
    "`date` — дата, когда был совершён заказ;    \n",
    "`revenue` — выручка заказа;    \n",
    "`group` — группа A/B-теста, в которую попал заказ.   "
   ]
  },
  {
   "cell_type": "code",
   "execution_count": 9,
   "metadata": {},
   "outputs": [
    {
     "name": "stdout",
     "output_type": "stream",
     "text": [
      "<class 'pandas.core.frame.DataFrame'>\n",
      "RangeIndex: 1197 entries, 0 to 1196\n",
      "Data columns (total 5 columns):\n",
      " #   Column         Non-Null Count  Dtype \n",
      "---  ------         --------------  ----- \n",
      " 0   transactionId  1197 non-null   int64 \n",
      " 1   visitorId      1197 non-null   int64 \n",
      " 2   date           1197 non-null   object\n",
      " 3   revenue        1197 non-null   int64 \n",
      " 4   group          1197 non-null   object\n",
      "dtypes: int64(3), object(2)\n",
      "memory usage: 46.9+ KB\n"
     ]
    }
   ],
   "source": [
    "orders.info()"
   ]
  },
  {
   "cell_type": "code",
   "execution_count": 10,
   "metadata": {},
   "outputs": [],
   "source": [
    "# меняем тип данных у столбца date на тип дата \n",
    "orders['date'] = pd.to_datetime(orders['date'])"
   ]
  },
  {
   "cell_type": "code",
   "execution_count": 11,
   "metadata": {},
   "outputs": [
    {
     "name": "stdout",
     "output_type": "stream",
     "text": [
      "<class 'pandas.core.frame.DataFrame'>\n",
      "RangeIndex: 1197 entries, 0 to 1196\n",
      "Data columns (total 5 columns):\n",
      " #   Column         Non-Null Count  Dtype         \n",
      "---  ------         --------------  -----         \n",
      " 0   transactionId  1197 non-null   int64         \n",
      " 1   visitorId      1197 non-null   int64         \n",
      " 2   date           1197 non-null   datetime64[ns]\n",
      " 3   revenue        1197 non-null   int64         \n",
      " 4   group          1197 non-null   object        \n",
      "dtypes: datetime64[ns](1), int64(3), object(1)\n",
      "memory usage: 46.9+ KB\n"
     ]
    }
   ],
   "source": [
    "orders.info()"
   ]
  },
  {
   "cell_type": "code",
   "execution_count": 12,
   "metadata": {},
   "outputs": [
    {
     "data": {
      "text/plain": [
       "transactionId    0\n",
       "visitorId        0\n",
       "date             0\n",
       "revenue          0\n",
       "group            0\n",
       "dtype: int64"
      ]
     },
     "execution_count": 12,
     "metadata": {},
     "output_type": "execute_result"
    }
   ],
   "source": [
    "# проверяем пропуски\n",
    "orders.isna().sum()"
   ]
  },
  {
   "cell_type": "code",
   "execution_count": 13,
   "metadata": {},
   "outputs": [
    {
     "name": "stdout",
     "output_type": "stream",
     "text": [
      "Количество дубликатов в таблице orders: 0\n"
     ]
    }
   ],
   "source": [
    "# проверяем дубликаты\n",
    "print('Количество дубликатов в таблице orders:', orders.duplicated().sum())"
   ]
  },
  {
   "cell_type": "code",
   "execution_count": 14,
   "metadata": {},
   "outputs": [
    {
     "data": {
      "text/html": [
       "<div>\n",
       "<style scoped>\n",
       "    .dataframe tbody tr th:only-of-type {\n",
       "        vertical-align: middle;\n",
       "    }\n",
       "\n",
       "    .dataframe tbody tr th {\n",
       "        vertical-align: top;\n",
       "    }\n",
       "\n",
       "    .dataframe thead th {\n",
       "        text-align: right;\n",
       "    }\n",
       "</style>\n",
       "<table border=\"1\" class=\"dataframe\">\n",
       "  <thead>\n",
       "    <tr style=\"text-align: right;\">\n",
       "      <th></th>\n",
       "      <th>date</th>\n",
       "      <th>group</th>\n",
       "      <th>visitors</th>\n",
       "    </tr>\n",
       "  </thead>\n",
       "  <tbody>\n",
       "    <tr>\n",
       "      <th>0</th>\n",
       "      <td>2019-08-01</td>\n",
       "      <td>A</td>\n",
       "      <td>719</td>\n",
       "    </tr>\n",
       "    <tr>\n",
       "      <th>1</th>\n",
       "      <td>2019-08-02</td>\n",
       "      <td>A</td>\n",
       "      <td>619</td>\n",
       "    </tr>\n",
       "    <tr>\n",
       "      <th>2</th>\n",
       "      <td>2019-08-03</td>\n",
       "      <td>A</td>\n",
       "      <td>507</td>\n",
       "    </tr>\n",
       "    <tr>\n",
       "      <th>3</th>\n",
       "      <td>2019-08-04</td>\n",
       "      <td>A</td>\n",
       "      <td>717</td>\n",
       "    </tr>\n",
       "    <tr>\n",
       "      <th>4</th>\n",
       "      <td>2019-08-05</td>\n",
       "      <td>A</td>\n",
       "      <td>756</td>\n",
       "    </tr>\n",
       "    <tr>\n",
       "      <th>...</th>\n",
       "      <td>...</td>\n",
       "      <td>...</td>\n",
       "      <td>...</td>\n",
       "    </tr>\n",
       "    <tr>\n",
       "      <th>57</th>\n",
       "      <td>2019-08-27</td>\n",
       "      <td>B</td>\n",
       "      <td>720</td>\n",
       "    </tr>\n",
       "    <tr>\n",
       "      <th>58</th>\n",
       "      <td>2019-08-28</td>\n",
       "      <td>B</td>\n",
       "      <td>654</td>\n",
       "    </tr>\n",
       "    <tr>\n",
       "      <th>59</th>\n",
       "      <td>2019-08-29</td>\n",
       "      <td>B</td>\n",
       "      <td>531</td>\n",
       "    </tr>\n",
       "    <tr>\n",
       "      <th>60</th>\n",
       "      <td>2019-08-30</td>\n",
       "      <td>B</td>\n",
       "      <td>490</td>\n",
       "    </tr>\n",
       "    <tr>\n",
       "      <th>61</th>\n",
       "      <td>2019-08-31</td>\n",
       "      <td>B</td>\n",
       "      <td>718</td>\n",
       "    </tr>\n",
       "  </tbody>\n",
       "</table>\n",
       "<p>62 rows × 3 columns</p>\n",
       "</div>"
      ],
      "text/plain": [
       "          date group  visitors\n",
       "0   2019-08-01     A       719\n",
       "1   2019-08-02     A       619\n",
       "2   2019-08-03     A       507\n",
       "3   2019-08-04     A       717\n",
       "4   2019-08-05     A       756\n",
       "..         ...   ...       ...\n",
       "57  2019-08-27     B       720\n",
       "58  2019-08-28     B       654\n",
       "59  2019-08-29     B       531\n",
       "60  2019-08-30     B       490\n",
       "61  2019-08-31     B       718\n",
       "\n",
       "[62 rows x 3 columns]"
      ]
     },
     "execution_count": 14,
     "metadata": {},
     "output_type": "execute_result"
    }
   ],
   "source": [
    "visitors"
   ]
  },
  {
   "cell_type": "markdown",
   "metadata": {},
   "source": [
    "Структура visitors:   \n",
    "`date` — дата;    \n",
    "`group` — группа A/B-теста;    \n",
    "`visitors` — количество пользователей в указанную дату в указанной группе A/B-тест   "
   ]
  },
  {
   "cell_type": "code",
   "execution_count": 15,
   "metadata": {},
   "outputs": [
    {
     "name": "stdout",
     "output_type": "stream",
     "text": [
      "<class 'pandas.core.frame.DataFrame'>\n",
      "RangeIndex: 62 entries, 0 to 61\n",
      "Data columns (total 3 columns):\n",
      " #   Column    Non-Null Count  Dtype \n",
      "---  ------    --------------  ----- \n",
      " 0   date      62 non-null     object\n",
      " 1   group     62 non-null     object\n",
      " 2   visitors  62 non-null     int64 \n",
      "dtypes: int64(1), object(2)\n",
      "memory usage: 1.6+ KB\n"
     ]
    }
   ],
   "source": [
    "visitors.info()"
   ]
  },
  {
   "cell_type": "code",
   "execution_count": 16,
   "metadata": {},
   "outputs": [],
   "source": [
    "# меняем тип данных у столбца date на тип дата \n",
    "visitors['date'] = pd.to_datetime(visitors['date'])"
   ]
  },
  {
   "cell_type": "code",
   "execution_count": 17,
   "metadata": {},
   "outputs": [
    {
     "name": "stdout",
     "output_type": "stream",
     "text": [
      "<class 'pandas.core.frame.DataFrame'>\n",
      "RangeIndex: 62 entries, 0 to 61\n",
      "Data columns (total 3 columns):\n",
      " #   Column    Non-Null Count  Dtype         \n",
      "---  ------    --------------  -----         \n",
      " 0   date      62 non-null     datetime64[ns]\n",
      " 1   group     62 non-null     object        \n",
      " 2   visitors  62 non-null     int64         \n",
      "dtypes: datetime64[ns](1), int64(1), object(1)\n",
      "memory usage: 1.6+ KB\n"
     ]
    }
   ],
   "source": [
    "visitors.info()"
   ]
  },
  {
   "cell_type": "code",
   "execution_count": 18,
   "metadata": {},
   "outputs": [
    {
     "data": {
      "text/plain": [
       "date        0\n",
       "group       0\n",
       "visitors    0\n",
       "dtype: int64"
      ]
     },
     "execution_count": 18,
     "metadata": {},
     "output_type": "execute_result"
    }
   ],
   "source": [
    "# проверяем пропуски\n",
    "visitors.isna().sum()"
   ]
  },
  {
   "cell_type": "code",
   "execution_count": 19,
   "metadata": {},
   "outputs": [
    {
     "name": "stdout",
     "output_type": "stream",
     "text": [
      "Количество дубликатов в таблице visitors: 0\n"
     ]
    }
   ],
   "source": [
    "# проверяем дубликаты\n",
    "print('Количество дубликатов в таблице visitors:',visitors.duplicated().sum())"
   ]
  },
  {
   "cell_type": "markdown",
   "metadata": {},
   "source": [
    "**Вывод по шагу №1: Подготовка данных**\n",
    "\n",
    "Структура hypothesis:   \n",
    "`Hypothesis` — краткое описание гипотезы;       \n",
    "`Reach` — охват пользователей по 10-балльной шкале;   \n",
    "`Impact` — влияние на пользователей по 10-балльной шкале;    \n",
    "`Confidence` — уверенность в гипотезе по 10-балльной шкале;    \n",
    "`Efforts` — затраты ресурсов на проверку гипотезы по 10-балльной шкале. Чем больше значение Efforts, тем дороже проверка гипотезы.    \n",
    "\n",
    "Структура orders:    \n",
    "`transactionId` — идентификатор заказа;     \n",
    "`visitorId` — идентификатор пользователя, совершившего заказ;    \n",
    "`date` — дата, когда был совершён заказ;    \n",
    "`revenue` — выручка заказа;    \n",
    "`group` — группа A/B-теста, в которую попал заказ.    \n",
    "\n",
    "Структура visitors:   \n",
    "`date` — дата;    \n",
    "`group` — группа A/B-теста;    \n",
    "`visitors` — количество пользователей в указанную дату в указанной группе A/B-тест   \n",
    "\n",
    " В данном разделе мы:\n",
    "- Названия столбцов привели к нижнему регистру\n",
    "- Все столбцы с датами перевели на формат datetime\n",
    "- Дубликатов и пропусков не обнаружили"
   ]
  },
  {
   "cell_type": "markdown",
   "metadata": {},
   "source": [
    "# **2 шаг.** <a id=\"two\"></a> Приоритизация гипотез."
   ]
  },
  {
   "cell_type": "markdown",
   "metadata": {},
   "source": [
    "## 2.1 <a id=\"two1\"></a> Приоритизация гипотез с применением фреймворка ICE\n",
    "\n",
    "Формула: `ICE score = (Impact x Confidence) / Efforts`"
   ]
  },
  {
   "cell_type": "code",
   "execution_count": 20,
   "metadata": {},
   "outputs": [
    {
     "data": {
      "text/html": [
       "<div>\n",
       "<style scoped>\n",
       "    .dataframe tbody tr th:only-of-type {\n",
       "        vertical-align: middle;\n",
       "    }\n",
       "\n",
       "    .dataframe tbody tr th {\n",
       "        vertical-align: top;\n",
       "    }\n",
       "\n",
       "    .dataframe thead th {\n",
       "        text-align: right;\n",
       "    }\n",
       "</style>\n",
       "<table border=\"1\" class=\"dataframe\">\n",
       "  <thead>\n",
       "    <tr style=\"text-align: right;\">\n",
       "      <th></th>\n",
       "      <th>hypothesis</th>\n",
       "      <th>reach</th>\n",
       "      <th>impact</th>\n",
       "      <th>confidence</th>\n",
       "      <th>efforts</th>\n",
       "      <th>ice</th>\n",
       "    </tr>\n",
       "  </thead>\n",
       "  <tbody>\n",
       "    <tr>\n",
       "      <th>8</th>\n",
       "      <td>Запустить акцию, дающую скидку на товар в день рождения</td>\n",
       "      <td>1</td>\n",
       "      <td>9</td>\n",
       "      <td>9</td>\n",
       "      <td>5</td>\n",
       "      <td>16.200000</td>\n",
       "    </tr>\n",
       "    <tr>\n",
       "      <th>0</th>\n",
       "      <td>Добавить два новых канала привлечения трафика, что позволит привлекать на 30% больше пользователей</td>\n",
       "      <td>3</td>\n",
       "      <td>10</td>\n",
       "      <td>8</td>\n",
       "      <td>6</td>\n",
       "      <td>13.333333</td>\n",
       "    </tr>\n",
       "    <tr>\n",
       "      <th>7</th>\n",
       "      <td>Добавить форму подписки на все основные страницы, чтобы собрать базу клиентов для email-рассылок</td>\n",
       "      <td>10</td>\n",
       "      <td>7</td>\n",
       "      <td>8</td>\n",
       "      <td>5</td>\n",
       "      <td>11.200000</td>\n",
       "    </tr>\n",
       "    <tr>\n",
       "      <th>6</th>\n",
       "      <td>Показать на главной странице баннеры с актуальными акциями и распродажами, чтобы увеличить конверсию</td>\n",
       "      <td>5</td>\n",
       "      <td>3</td>\n",
       "      <td>8</td>\n",
       "      <td>3</td>\n",
       "      <td>8.000000</td>\n",
       "    </tr>\n",
       "    <tr>\n",
       "      <th>2</th>\n",
       "      <td>Добавить блоки рекомендаций товаров на сайт интернет магазина, чтобы повысить конверсию и средний чек заказа</td>\n",
       "      <td>8</td>\n",
       "      <td>3</td>\n",
       "      <td>7</td>\n",
       "      <td>3</td>\n",
       "      <td>7.000000</td>\n",
       "    </tr>\n",
       "    <tr>\n",
       "      <th>1</th>\n",
       "      <td>Запустить собственную службу доставки, что сократит срок доставки заказов</td>\n",
       "      <td>2</td>\n",
       "      <td>5</td>\n",
       "      <td>4</td>\n",
       "      <td>10</td>\n",
       "      <td>2.000000</td>\n",
       "    </tr>\n",
       "    <tr>\n",
       "      <th>5</th>\n",
       "      <td>Добавить страницу отзывов клиентов о магазине, что позволит увеличить количество заказов</td>\n",
       "      <td>3</td>\n",
       "      <td>2</td>\n",
       "      <td>2</td>\n",
       "      <td>3</td>\n",
       "      <td>1.333333</td>\n",
       "    </tr>\n",
       "    <tr>\n",
       "      <th>3</th>\n",
       "      <td>Изменить структура категорий, что увеличит конверсию, т.к. пользователи быстрее найдут нужный товар</td>\n",
       "      <td>8</td>\n",
       "      <td>3</td>\n",
       "      <td>3</td>\n",
       "      <td>8</td>\n",
       "      <td>1.125000</td>\n",
       "    </tr>\n",
       "    <tr>\n",
       "      <th>4</th>\n",
       "      <td>Изменить цвет фона главной страницы, чтобы увеличить вовлеченность пользователей</td>\n",
       "      <td>3</td>\n",
       "      <td>1</td>\n",
       "      <td>1</td>\n",
       "      <td>1</td>\n",
       "      <td>1.000000</td>\n",
       "    </tr>\n",
       "  </tbody>\n",
       "</table>\n",
       "</div>"
      ],
      "text/plain": [
       "                                                                                                     hypothesis  \\\n",
       "8                                                       Запустить акцию, дающую скидку на товар в день рождения   \n",
       "0            Добавить два новых канала привлечения трафика, что позволит привлекать на 30% больше пользователей   \n",
       "7              Добавить форму подписки на все основные страницы, чтобы собрать базу клиентов для email-рассылок   \n",
       "6          Показать на главной странице баннеры с актуальными акциями и распродажами, чтобы увеличить конверсию   \n",
       "2  Добавить блоки рекомендаций товаров на сайт интернет магазина, чтобы повысить конверсию и средний чек заказа   \n",
       "1                                     Запустить собственную службу доставки, что сократит срок доставки заказов   \n",
       "5                      Добавить страницу отзывов клиентов о магазине, что позволит увеличить количество заказов   \n",
       "3           Изменить структура категорий, что увеличит конверсию, т.к. пользователи быстрее найдут нужный товар   \n",
       "4                              Изменить цвет фона главной страницы, чтобы увеличить вовлеченность пользователей   \n",
       "\n",
       "   reach  impact  confidence  efforts        ice  \n",
       "8      1       9           9        5  16.200000  \n",
       "0      3      10           8        6  13.333333  \n",
       "7     10       7           8        5  11.200000  \n",
       "6      5       3           8        3   8.000000  \n",
       "2      8       3           7        3   7.000000  \n",
       "1      2       5           4       10   2.000000  \n",
       "5      3       2           2        3   1.333333  \n",
       "3      8       3           3        8   1.125000  \n",
       "4      3       1           1        1   1.000000  "
      ]
     },
     "execution_count": 20,
     "metadata": {},
     "output_type": "execute_result"
    }
   ],
   "source": [
    "hypothesis['ice'] = (hypothesis['impact'] * hypothesis['confidence'])/hypothesis['efforts']\n",
    "hypothesis.sort_values(by = 'ice', ascending=False)"
   ]
  },
  {
   "cell_type": "markdown",
   "metadata": {},
   "source": [
    "## 2.2 <a id=\"two2\"></a>Приоритизация гипотез с применением фреймворка RICE\n",
    "\n",
    "Формула: `RICE score = (Reach x Impact x Confidence) / Efforts`"
   ]
  },
  {
   "cell_type": "code",
   "execution_count": 21,
   "metadata": {},
   "outputs": [
    {
     "data": {
      "text/html": [
       "<div>\n",
       "<style scoped>\n",
       "    .dataframe tbody tr th:only-of-type {\n",
       "        vertical-align: middle;\n",
       "    }\n",
       "\n",
       "    .dataframe tbody tr th {\n",
       "        vertical-align: top;\n",
       "    }\n",
       "\n",
       "    .dataframe thead th {\n",
       "        text-align: right;\n",
       "    }\n",
       "</style>\n",
       "<table border=\"1\" class=\"dataframe\">\n",
       "  <thead>\n",
       "    <tr style=\"text-align: right;\">\n",
       "      <th></th>\n",
       "      <th>hypothesis</th>\n",
       "      <th>reach</th>\n",
       "      <th>impact</th>\n",
       "      <th>confidence</th>\n",
       "      <th>efforts</th>\n",
       "      <th>ice</th>\n",
       "      <th>rice</th>\n",
       "    </tr>\n",
       "  </thead>\n",
       "  <tbody>\n",
       "    <tr>\n",
       "      <th>7</th>\n",
       "      <td>Добавить форму подписки на все основные страницы, чтобы собрать базу клиентов для email-рассылок</td>\n",
       "      <td>10</td>\n",
       "      <td>7</td>\n",
       "      <td>8</td>\n",
       "      <td>5</td>\n",
       "      <td>11.200000</td>\n",
       "      <td>112.0</td>\n",
       "    </tr>\n",
       "    <tr>\n",
       "      <th>2</th>\n",
       "      <td>Добавить блоки рекомендаций товаров на сайт интернет магазина, чтобы повысить конверсию и средний чек заказа</td>\n",
       "      <td>8</td>\n",
       "      <td>3</td>\n",
       "      <td>7</td>\n",
       "      <td>3</td>\n",
       "      <td>7.000000</td>\n",
       "      <td>56.0</td>\n",
       "    </tr>\n",
       "    <tr>\n",
       "      <th>0</th>\n",
       "      <td>Добавить два новых канала привлечения трафика, что позволит привлекать на 30% больше пользователей</td>\n",
       "      <td>3</td>\n",
       "      <td>10</td>\n",
       "      <td>8</td>\n",
       "      <td>6</td>\n",
       "      <td>13.333333</td>\n",
       "      <td>40.0</td>\n",
       "    </tr>\n",
       "    <tr>\n",
       "      <th>6</th>\n",
       "      <td>Показать на главной странице баннеры с актуальными акциями и распродажами, чтобы увеличить конверсию</td>\n",
       "      <td>5</td>\n",
       "      <td>3</td>\n",
       "      <td>8</td>\n",
       "      <td>3</td>\n",
       "      <td>8.000000</td>\n",
       "      <td>40.0</td>\n",
       "    </tr>\n",
       "    <tr>\n",
       "      <th>8</th>\n",
       "      <td>Запустить акцию, дающую скидку на товар в день рождения</td>\n",
       "      <td>1</td>\n",
       "      <td>9</td>\n",
       "      <td>9</td>\n",
       "      <td>5</td>\n",
       "      <td>16.200000</td>\n",
       "      <td>16.2</td>\n",
       "    </tr>\n",
       "    <tr>\n",
       "      <th>3</th>\n",
       "      <td>Изменить структура категорий, что увеличит конверсию, т.к. пользователи быстрее найдут нужный товар</td>\n",
       "      <td>8</td>\n",
       "      <td>3</td>\n",
       "      <td>3</td>\n",
       "      <td>8</td>\n",
       "      <td>1.125000</td>\n",
       "      <td>9.0</td>\n",
       "    </tr>\n",
       "    <tr>\n",
       "      <th>1</th>\n",
       "      <td>Запустить собственную службу доставки, что сократит срок доставки заказов</td>\n",
       "      <td>2</td>\n",
       "      <td>5</td>\n",
       "      <td>4</td>\n",
       "      <td>10</td>\n",
       "      <td>2.000000</td>\n",
       "      <td>4.0</td>\n",
       "    </tr>\n",
       "    <tr>\n",
       "      <th>5</th>\n",
       "      <td>Добавить страницу отзывов клиентов о магазине, что позволит увеличить количество заказов</td>\n",
       "      <td>3</td>\n",
       "      <td>2</td>\n",
       "      <td>2</td>\n",
       "      <td>3</td>\n",
       "      <td>1.333333</td>\n",
       "      <td>4.0</td>\n",
       "    </tr>\n",
       "    <tr>\n",
       "      <th>4</th>\n",
       "      <td>Изменить цвет фона главной страницы, чтобы увеличить вовлеченность пользователей</td>\n",
       "      <td>3</td>\n",
       "      <td>1</td>\n",
       "      <td>1</td>\n",
       "      <td>1</td>\n",
       "      <td>1.000000</td>\n",
       "      <td>3.0</td>\n",
       "    </tr>\n",
       "  </tbody>\n",
       "</table>\n",
       "</div>"
      ],
      "text/plain": [
       "                                                                                                     hypothesis  \\\n",
       "7              Добавить форму подписки на все основные страницы, чтобы собрать базу клиентов для email-рассылок   \n",
       "2  Добавить блоки рекомендаций товаров на сайт интернет магазина, чтобы повысить конверсию и средний чек заказа   \n",
       "0            Добавить два новых канала привлечения трафика, что позволит привлекать на 30% больше пользователей   \n",
       "6          Показать на главной странице баннеры с актуальными акциями и распродажами, чтобы увеличить конверсию   \n",
       "8                                                       Запустить акцию, дающую скидку на товар в день рождения   \n",
       "3           Изменить структура категорий, что увеличит конверсию, т.к. пользователи быстрее найдут нужный товар   \n",
       "1                                     Запустить собственную службу доставки, что сократит срок доставки заказов   \n",
       "5                      Добавить страницу отзывов клиентов о магазине, что позволит увеличить количество заказов   \n",
       "4                              Изменить цвет фона главной страницы, чтобы увеличить вовлеченность пользователей   \n",
       "\n",
       "   reach  impact  confidence  efforts        ice   rice  \n",
       "7     10       7           8        5  11.200000  112.0  \n",
       "2      8       3           7        3   7.000000   56.0  \n",
       "0      3      10           8        6  13.333333   40.0  \n",
       "6      5       3           8        3   8.000000   40.0  \n",
       "8      1       9           9        5  16.200000   16.2  \n",
       "3      8       3           3        8   1.125000    9.0  \n",
       "1      2       5           4       10   2.000000    4.0  \n",
       "5      3       2           2        3   1.333333    4.0  \n",
       "4      3       1           1        1   1.000000    3.0  "
      ]
     },
     "execution_count": 21,
     "metadata": {},
     "output_type": "execute_result"
    }
   ],
   "source": [
    "hypothesis['rice'] = (hypothesis['reach'] *hypothesis['impact'] * hypothesis['confidence'])/hypothesis['efforts']\n",
    "hypothesis.sort_values(by = 'rice', ascending=False)"
   ]
  },
  {
   "cell_type": "markdown",
   "metadata": {},
   "source": [
    "## 2.3 <a id=\"two3\"></a>Изменение приоритизации гипотез при применении RICE вместо ICE"
   ]
  },
  {
   "cell_type": "markdown",
   "metadata": {},
   "source": [
    "\n",
    " ICE (влияние, уверенность, усилия) — один из самых популярных способов приоритизации задач.\n",
    " \n",
    "$ICE score = (Impact*Confidence) / Efforts$    \n",
    "\n",
    " У этого метода есть модификация RICE (влияние, уверенность, усилия, охват)   \n",
    "  \n",
    "$RICE score = (Reach * Impact * Confidence) / Efforts$    \n",
    "\n",
    " Фреймворк RICE состоит из четырёх компонент:   \n",
    "- Reach — скольких пользователей затронет изменение, которое вы хотите внести;\n",
    "- Impact — насколько сильно изменение повлияет на пользователей, их опыт и удовлетворение от продукта;\n",
    "- Confidence — насколько вы уверены, что это изменение повлияет на пользователей именно так;\n",
    "- Efforts — сколько стоит протестировать эту гипотезу.\n",
    "\n",
    "Параметры фреймворков ICE и RICE оценивают в удобных шкалах: например, от 0 до 10.  \n",
    "\n",
    "Параметр RICE в отличие от ICE учитывает охват. Если охват низкий, то RICE падает.И наоборот.\n",
    "\n",
    "Рассмотрим лидеров\n",
    "\n",
    "- \"Запустить акцию, дающую скидку на товар в день рождения\" Самый высокий ICE. Но охват всего лишь 1 (видиом связно с тем, что день рождения раз в году). Поэтому по параметру RICE 5 место \n",
    "\n",
    "- \" Добавить два новых канала привлечения трафика, что позволит привлекать на 30% больше пользователей\". Хорошие показатели RICE (3 место) и ICE (2 место). Минус что по охвату стоит 3, что низкий показатель.\n",
    "\n",
    "- \"Добавить форму подписки на все основные страницы, чтобы собрать базу клиентов для email-рассылок\". 1 место по RICE и 3 место по ICE. По Матрице Эйзенхауэра ее можно включить в гипотезы квадранта A (важные и срочные) \n",
    "\n",
    "- \"Добавить блоки рекомендаций товаров на сайт интернет магазина, чтобы повысить конверсию и средний чек заказа\t\" 5 место по ICE и 2  место по  RICE. Не затратный способ, который не принесет большого удовлетворения пользователей, но охватит большой круг"
   ]
  },
  {
   "cell_type": "markdown",
   "metadata": {},
   "source": [
    "# **3 шаг.** <a id=\"three\"></a> Анализ A/B-теста"
   ]
  },
  {
   "cell_type": "code",
   "execution_count": 22,
   "metadata": {},
   "outputs": [
    {
     "name": "stdout",
     "output_type": "stream",
     "text": [
      "Группе А в таблице orders: 557\n",
      "Группе B в таблице orders: 640\n",
      "Всего строк в таблице orders: 1197\n",
      "Уникальные значения в таблице orders: ['B' 'A']\n",
      "Разница между группой А и В: 83\n"
     ]
    }
   ],
   "source": [
    "print('Группе А в таблице orders:' ,  orders.query('group == \"A\"').shape[0])\n",
    "print('Группе B в таблице orders:' , orders.query('group == \"B\"').shape[0])\n",
    "print('Всего строк в таблице orders:' , orders['group'].shape[0])\n",
    "print('Уникальные значения в таблице orders:', orders['group'].unique())\n",
    "print('Разница между группой А и В:', orders.query('group == \"B\"').shape[0]- orders.query('group == \"A\"').shape[0])\n"
   ]
  },
  {
   "cell_type": "code",
   "execution_count": 23,
   "metadata": {},
   "outputs": [
    {
     "name": "stdout",
     "output_type": "stream",
     "text": [
      "Пользователи из группы А, сделавшие заказы: 503\n",
      "Пользователи из группы В, сделавшие заказы: 586\n",
      "Разница между группой А и В: 83\n"
     ]
    }
   ],
   "source": [
    "print('Пользователи из группы А, сделавшие заказы:' ,  orders.query('group == \"A\"')['visitorId'].unique().shape[0])\n",
    "print('Пользователи из группы В, сделавшие заказы:' ,  orders.query('group == \"B\"')['visitorId'].unique().shape[0])\n",
    "print('Разница между группой А и В:', orders.query('group == \"B\"')['visitorId'].unique().shape[0]-orders.query('group == \"A\"')['visitorId'].unique().shape[0])\n"
   ]
  },
  {
   "cell_type": "code",
   "execution_count": 24,
   "metadata": {},
   "outputs": [
    {
     "name": "stdout",
     "output_type": "stream",
     "text": [
      "Число пользователей, находящихся в 2 группах одновременно:  58\n"
     ]
    }
   ],
   "source": [
    "dubl=orders.pivot_table(index='visitorId', values= 'group', aggfunc = 'nunique').reset_index()\n",
    "\n",
    "print('Число пользователей, находящихся в 2 группах одновременно: ' ,dubl.query('group == 2')['visitorId'].count())"
   ]
  },
  {
   "cell_type": "code",
   "execution_count": 25,
   "metadata": {},
   "outputs": [],
   "source": [
    "# Исключим этих пользователей\n",
    "dubl_list = list(dubl[dubl.group == 2]['visitorId'])\n",
    "orders = orders.query('visitorId not in @dubl_list')"
   ]
  },
  {
   "cell_type": "code",
   "execution_count": 26,
   "metadata": {},
   "outputs": [
    {
     "name": "stdout",
     "output_type": "stream",
     "text": [
      "Число пользователей, находящихся в 2 группах одновременно:  0\n"
     ]
    }
   ],
   "source": [
    "dubl_2=orders.pivot_table(index='visitorId', values= 'group', aggfunc = 'nunique').reset_index()\n",
    "\n",
    "print('Число пользователей, находящихся в 2 группах одновременно: ' ,dubl_2.query('group == 2')['visitorId'].count())"
   ]
  },
  {
   "cell_type": "code",
   "execution_count": 27,
   "metadata": {},
   "outputs": [
    {
     "name": "stdout",
     "output_type": "stream",
     "text": [
      "Дата начала теста: 2019-08-01 00:00:00\n",
      "Дата окончания теста: 2019-08-31 00:00:00\n"
     ]
    }
   ],
   "source": [
    "print('Дата начала теста:',orders['date'].min())\n",
    "print('Дата окончания теста:',orders['date'].max())"
   ]
  },
  {
   "cell_type": "code",
   "execution_count": 28,
   "metadata": {},
   "outputs": [
    {
     "name": "stdout",
     "output_type": "stream",
     "text": [
      "Группе А в таблице orders: 468\n",
      "Группе B в таблице orders: 548\n",
      "Всего строк в таблице orders: 1016\n",
      "Уникальные значения в таблице orders: ['B' 'A']\n",
      "Разница между группой А и В: 80\n"
     ]
    }
   ],
   "source": [
    "print('Группе А в таблице orders:' ,  orders.query('group == \"A\"').shape[0])\n",
    "print('Группе B в таблице orders:' , orders.query('group == \"B\"').shape[0])\n",
    "print('Всего строк в таблице orders:' , orders['group'].shape[0])\n",
    "print('Уникальные значения в таблице orders:', orders['group'].unique())\n",
    "print('Разница между группой А и В:', orders.query('group == \"B\"').shape[0]- orders.query('group == \"A\"').shape[0])"
   ]
  },
  {
   "cell_type": "code",
   "execution_count": 29,
   "metadata": {},
   "outputs": [
    {
     "name": "stdout",
     "output_type": "stream",
     "text": [
      "Пользователи из группы А, сделавшие заказы: 445\n",
      "Пользователи из группы В, сделавшие заказы: 528\n",
      "Разница между группой А и В: 83\n"
     ]
    }
   ],
   "source": [
    "print('Пользователи из группы А, сделавшие заказы:' ,  orders.query('group == \"A\"')['visitorId'].unique().shape[0])\n",
    "print('Пользователи из группы В, сделавшие заказы:' ,  orders.query('group == \"B\"')['visitorId'].unique().shape[0])\n",
    "print('Разница между группой А и В:', orders.query('group == \"B\"')['visitorId'].unique().shape[0]-orders.query('group == \"A\"')['visitorId'].unique().shape[0])"
   ]
  },
  {
   "cell_type": "markdown",
   "metadata": {},
   "source": [
    "Вывод:   \n",
    "- Есть 2 группы : А и В\n",
    "    \n",
    "- Дата начала теста 1 августа 2019год. Дата окончание теста 31 августа 2019 год. Период: 31 день\n",
    "    \n",
    "- в группе А: 445 пользователей, которые сделали заказ. В группе B: 528 пользователей, которые сделали заказ.В группе В на 80 пользователей больше, чем в группе А.\n",
    "    \n",
    "- Число пользователей, находящихся в 2 группах одновременно:58. Приняла решение, не учитывать этих пользователей при оценке A/B-теста. \n"
   ]
  },
  {
   "cell_type": "markdown",
   "metadata": {},
   "source": [
    "## 3.1 <a id=\"three1\"></a> График кумулятивной выручки по группам"
   ]
  },
  {
   "cell_type": "code",
   "execution_count": 30,
   "metadata": {},
   "outputs": [],
   "source": [
    "datesGroups = orders[['date', 'group']].drop_duplicates()\n",
    "\n",
    "ordersAggregated = datesGroups.apply(\n",
    "    lambda x: orders[\n",
    "        np.logical_and(\n",
    "            orders['date'] <= x['date'], orders['group'] == x['group']\n",
    "        )\n",
    "    ].agg(\n",
    "        {\n",
    "            'date': 'max',\n",
    "            'group': 'max',\n",
    "            'visitorId': 'nunique',\n",
    "            'transactionId': 'nunique',\n",
    "            'revenue': 'sum',\n",
    "        }\n",
    "    ),\n",
    "    axis=1,\n",
    ").sort_values(by=['date', 'group'])\n",
    "\n",
    "visitorsAggregated = datesGroups.apply(\n",
    "    lambda x: visitors[\n",
    "        np.logical_and(\n",
    "            visitors['date'] <= x['date'], visitors['group'] == x['group']\n",
    "        )\n",
    "    ].agg({'date': 'max', 'group': 'max', 'visitors': 'sum'}),\n",
    "    axis=1,\n",
    ").sort_values(by=['date', 'group'])\n",
    "\n",
    "cumulativeData = ordersAggregated.merge(\n",
    "    visitorsAggregated, left_on=['date', 'group'], right_on=['date', 'group']\n",
    ")\n",
    "cumulativeData.columns = [\n",
    "    'date',\n",
    "    'group',\n",
    "    'orders',\n",
    "    'buyers',\n",
    "    'revenue',\n",
    "    'visitors',\n",
    "]\n",
    "\n",
    "cumulativeRevenueA = cumulativeData[cumulativeData['group']=='A'][['date','revenue', 'orders']]\n",
    "\n",
    "# датафрейм с кумулятивным количеством заказов и кумулятивной выручкой по дням в группе B\n",
    "cumulativeRevenueB = cumulativeData[cumulativeData['group']=='B'][['date','revenue', 'orders']]\n"
   ]
  },
  {
   "cell_type": "code",
   "execution_count": 31,
   "metadata": {},
   "outputs": [
    {
     "data": {
      "text/plain": [
       "<matplotlib.legend.Legend at 0x268e7245ab0>"
      ]
     },
     "execution_count": 31,
     "metadata": {},
     "output_type": "execute_result"
    },
    {
     "data": {
      "image/png": "[encoded data removed]",
      "text/plain": [
       "<Figure size 640x480 with 1 Axes>"
      ]
     },
     "metadata": {},
     "output_type": "display_data"
    }
   ],
   "source": [
    "#  Настраиваем вид основных тиков:\n",
    "fig, ax = plt.subplots()\n",
    "ax.tick_params(axis = 'x',    #  Применяем параметры к обеим осям\n",
    "               direction = 'inout',    #  Рисуем деления внутри и снаружи графика\n",
    "               bottom = True,    #  Рисуем метки снизу\n",
    "               left = True,    #  слева\n",
    "               labelbottom = True,    #  Рисуем подписи снизу\n",
    "               labelleft = True,    #  слева\n",
    "               labelrotation = 45)    #  Поворот подписей\n",
    "\n",
    "# Строим график выручки группы А\n",
    "plt.plot(cumulativeRevenueA['date'], cumulativeRevenueA['revenue'], label='группа A')\n",
    "\n",
    "# Строим график выручки группы B\n",
    "plt.plot(cumulativeRevenueB['date'], cumulativeRevenueB['revenue'], label='группа B')\n",
    "plt.title('Кумулятивная выручка по группам')\n",
    "plt.xlabel(\"Дата, когда был совершён заказ\")\n",
    "plt.ylabel(\"Выручка заказа\")\n",
    "plt.legend() "
   ]
  },
  {
   "cell_type": "markdown",
   "metadata": {},
   "source": [
    "У группы А и В рост выручки в течение всего теста. До 2019-08-17 у обоих групп равномерный рост (лидирует группа В). Затем у B произошел резкий скачок, который может быть связан с дорогим заказом."
   ]
  },
  {
   "cell_type": "markdown",
   "metadata": {},
   "source": [
    "## 3.2 <a id=\"three2\"></a> График кумулятивного среднего чека по группам"
   ]
  },
  {
   "cell_type": "code",
   "execution_count": 32,
   "metadata": {},
   "outputs": [
    {
     "data": {
      "text/plain": [
       "<matplotlib.legend.Legend at 0x268e73bbb50>"
      ]
     },
     "execution_count": 32,
     "metadata": {},
     "output_type": "execute_result"
    },
    {
     "data": {
      "image/png": "[encoded data removed]",
      "text/plain": [
       "<Figure size 640x480 with 1 Axes>"
      ]
     },
     "metadata": {},
     "output_type": "display_data"
    }
   ],
   "source": [
    "#  Настраиваем вид основных тиков:\n",
    "fig, ax = plt.subplots()\n",
    "ax.tick_params(axis = 'x',    #  Применяем параметры к обеим осям\n",
    "               direction = 'inout',    #  Рисуем деления внутри и снаружи графика\n",
    "               bottom = True,    #  Рисуем метки снизу\n",
    "               left = True,    #  слева\n",
    "               labelbottom = True,    #  Рисуем подписи снизу\n",
    "               labelleft = True,    #  слева\n",
    "               labelrotation = 45)    #  Поворот подписей\n",
    "plt.plot(cumulativeRevenueA['date'], cumulativeRevenueA['revenue']/cumulativeRevenueA['orders'], label='A')\n",
    "plt.plot(cumulativeRevenueB['date'], cumulativeRevenueB['revenue']/cumulativeRevenueB['orders'], label='B')\n",
    "plt.title('Кумулятивный средний чек')\n",
    "plt.xlabel(\"Дата, когда был совершён заказ\")\n",
    "plt.ylabel(\"Средний чек\")\n",
    "plt.legend() "
   ]
  },
  {
   "cell_type": "markdown",
   "metadata": {},
   "source": [
    "У группы В был резкий скачок 2019-08-07, что может быть связано с дорогим и крупным заказом.Дальше идет на спадение. У группы B идет сначала повышение, затем стабилизируется."
   ]
  },
  {
   "cell_type": "markdown",
   "metadata": {},
   "source": [
    "## 3.3 <a id=\"three3\"></a> График относительного изменения кумулятивного среднего чека группы B к группе A."
   ]
  },
  {
   "cell_type": "code",
   "execution_count": 33,
   "metadata": {},
   "outputs": [
    {
     "data": {
      "text/plain": [
       "<matplotlib.lines.Line2D at 0x268e7203ca0>"
      ]
     },
     "execution_count": 33,
     "metadata": {},
     "output_type": "execute_result"
    },
    {
     "data": {
      "image/png": "[encoded data removed]",
      "text/plain": [
       "<Figure size 640x480 with 1 Axes>"
      ]
     },
     "metadata": {},
     "output_type": "display_data"
    }
   ],
   "source": [
    "mergedCumulativeRevenue = cumulativeRevenueA.merge(cumulativeRevenueB, left_on='date', right_on='date', how='left', suffixes=['A', 'B'])\n",
    "\n",
    "#  Настраиваем вид основных тиков:\n",
    "fig, ax = plt.subplots()\n",
    "ax.tick_params(axis = 'x',    #  Применяем параметры к обеим осям\n",
    "               direction = 'inout',    #  Рисуем деления внутри и снаружи графика\n",
    "               bottom = True,    #  Рисуем метки снизу\n",
    "               left = True,    #  слева\n",
    "               labelbottom = True,    #  Рисуем подписи снизу\n",
    "               labelleft = True,    #  слева\n",
    "               labelrotation = 45)    #  Поворот подписей\n",
    "# cтроим отношение средних чеков\n",
    "plt.plot(mergedCumulativeRevenue['date'], (mergedCumulativeRevenue['revenueB']/mergedCumulativeRevenue['ordersB'])/(mergedCumulativeRevenue['revenueA']/mergedCumulativeRevenue['ordersA'])-1)\n",
    "plt.xlabel(\"Дата, когда был совершён заказ\")\n",
    "plt.title('Относительный средний чек')\n",
    "# добавляем ось X\n",
    "plt.axhline(y=0, color='black', linestyle='--') "
   ]
  },
  {
   "cell_type": "markdown",
   "metadata": {},
   "source": [
    " В начале идет рост, потом на спад (группа А в один момент превышала на 10%) и большой скачок 2019-08-17 подтверждает что был большой заказ в группе В. Затем стабильно группа B превышает больше чем на 20%"
   ]
  },
  {
   "cell_type": "markdown",
   "metadata": {},
   "source": [
    "## 3.4 <a id=\"three4\"></a> График кумулятивного среднего количества заказов на посетителя по группам"
   ]
  },
  {
   "cell_type": "code",
   "execution_count": 34,
   "metadata": {},
   "outputs": [
    {
     "data": {
      "text/plain": [
       "Text(0, 0.5, 'Конверсия')"
      ]
     },
     "execution_count": 34,
     "metadata": {},
     "output_type": "execute_result"
    },
    {
     "data": {
      "image/png": "[encoded data removed]",
      "text/plain": [
       "<Figure size 640x480 with 1 Axes>"
      ]
     },
     "metadata": {},
     "output_type": "display_data"
    }
   ],
   "source": [
    "# считаем кумулятивную конверсию\n",
    "cumulativeData['conversion'] = cumulativeData['orders']/cumulativeData['visitors']\n",
    "\n",
    "# отделяем данные по группе A\n",
    "cumulativeDataA = cumulativeData[cumulativeData['group']=='A']\n",
    "\n",
    "# отделяем данные по группе B\n",
    "cumulativeDataB = cumulativeData[cumulativeData['group']=='B']\n",
    "\n",
    "#  Настраиваем вид основных тиков:\n",
    "fig, ax = plt.subplots()\n",
    "ax.tick_params(axis = 'x',    #  Применяем параметры к обеим осям\n",
    "               direction = 'inout',    #  Рисуем деления внутри и снаружи графика\n",
    "               bottom = True,    #  Рисуем метки снизу\n",
    "               left = True,    #  слева\n",
    "               labelbottom = True,    #  Рисуем подписи снизу\n",
    "               labelleft = True,    #  слева\n",
    "               labelrotation = 45)    #  Поворот подписей\n",
    "# строим графики\n",
    "plt.plot(cumulativeDataA['date'], cumulativeDataA['conversion'], label='A')\n",
    "plt.plot(cumulativeDataB['date'], cumulativeDataB['conversion'], label='B')\n",
    "plt.legend()\n",
    "plt.title('График кумулятивного среднего количества заказов на посетителя по группам')\n",
    "plt.xlabel(\"Дата, когда был совершён заказ\")\n",
    "plt.ylabel(\"Конверсия\")\n"
   ]
  },
  {
   "cell_type": "markdown",
   "metadata": {},
   "source": [
    "Первоначально конверсия колебалась, после девятого августа немного стабилизировалась.Результат у В выше чем у А."
   ]
  },
  {
   "cell_type": "markdown",
   "metadata": {},
   "source": [
    "## 3.5 <a id=\"three5\"></a> График относительного изменения кумулятивного среднего количества заказов на посетителя группы B к группе A."
   ]
  },
  {
   "cell_type": "code",
   "execution_count": 35,
   "metadata": {},
   "outputs": [
    {
     "name": "stderr",
     "output_type": "stream",
     "text": [
      "No artists with labels found to put in legend.  Note that artists whose label start with an underscore are ignored when legend() is called with no argument.\n"
     ]
    },
    {
     "data": {
      "text/plain": [
       "Text(0, 0.5, 'Конверсия')"
      ]
     },
     "execution_count": 35,
     "metadata": {},
     "output_type": "execute_result"
    },
    {
     "data": {
      "image/png": "[encoded data removed]",
      "text/plain": [
       "<Figure size 640x480 with 1 Axes>"
      ]
     },
     "metadata": {},
     "output_type": "display_data"
    }
   ],
   "source": [
    "mergedCumulativeConversions = cumulativeDataA[['date','conversion']].merge(cumulativeDataB[['date','conversion']], left_on='date', right_on='date', how='left', suffixes=['A', 'B'])\n",
    "#  Настраиваем вид основных тиков:\n",
    "fig, ax = plt.subplots()\n",
    "ax.tick_params(axis = 'x',    #  Применяем параметры к обеим осям\n",
    "               direction = 'inout',    #  Рисуем деления внутри и снаружи графика\n",
    "               bottom = True,    #  Рисуем метки снизу\n",
    "               left = True,    #  слева\n",
    "               labelbottom = True,    #  Рисуем подписи снизу\n",
    "               labelleft = True,    #  слева\n",
    "               labelrotation = 45)    #  Поворот подписей\n",
    "plt.plot(mergedCumulativeConversions['date'], mergedCumulativeConversions['conversionB']/mergedCumulativeConversions['conversionA']-1)\n",
    "plt.legend()\n",
    "\n",
    "plt.axhline(y=0, color='black', linestyle='--')\n",
    "plt.title('График относительного изменения кумулятивного среднего количества заказов на посетителя группы B к группе A')\n",
    "plt.xlabel(\"Дата, когда был совершён заказ\")\n",
    "plt.ylabel(\"Конверсия\")"
   ]
  },
  {
   "cell_type": "markdown",
   "metadata": {},
   "source": [
    "Группа B вначале падает, но затем начинает лидировать относительно группы А. "
   ]
  },
  {
   "cell_type": "markdown",
   "metadata": {},
   "source": [
    "## 3.6 <a id=\"three6\"></a> Точечный график количества заказов по пользователям."
   ]
  },
  {
   "cell_type": "code",
   "execution_count": 36,
   "metadata": {},
   "outputs": [
    {
     "data": {
      "text/plain": [
       "Text(0, 0.5, 'Количество заказов')"
      ]
     },
     "execution_count": 36,
     "metadata": {},
     "output_type": "execute_result"
    },
    {
     "data": {
      "image/png": "[encoded data removed]",
      "text/plain": [
       "<Figure size 640x480 with 1 Axes>"
      ]
     },
     "metadata": {},
     "output_type": "display_data"
    }
   ],
   "source": [
    "\n",
    "ordersByUsers = (\n",
    "    orders.groupby('visitorId', as_index=False)\n",
    "    .agg({'transactionId': 'nunique'})\n",
    ")\n",
    "ordersByUsers.columns = ['visitorId', 'orders']\n",
    "\n",
    "# серия из чисел от 0 до количества наблюдений в ordersByUsers\n",
    "x_values = pd.Series(range(0, len(ordersByUsers)))\n",
    "\n",
    "plt.scatter(x_values, ordersByUsers ['orders']) \n",
    "\n",
    "plt.title(\"Точечный график количества заказов по пользователям\")\n",
    "plt.xlabel('Количество пользователей')\n",
    "plt.ylabel(\"Количество заказов\")"
   ]
  },
  {
   "cell_type": "markdown",
   "metadata": {},
   "source": [
    "Чаще всего делают один заказ.Пользователи, заказавшие более 2-х раз, совсем мало"
   ]
  },
  {
   "cell_type": "markdown",
   "metadata": {},
   "source": [
    "## 3.7 <a id=\"three7\"></a> 95-й и 99-й перцентили количества заказов на пользователя."
   ]
  },
  {
   "cell_type": "code",
   "execution_count": 37,
   "metadata": {},
   "outputs": [
    {
     "name": "stdout",
     "output_type": "stream",
     "text": [
      "95-й перцентиль количества заказов на пользователя:  1.0\n",
      "99-й перцентиль количества заказов на пользователя:  2.0\n"
     ]
    }
   ],
   "source": [
    "print ('95-й перцентиль количества заказов на пользователя: ', np.percentile(ordersByUsers['orders'], 95)) \n",
    "print ('99-й перцентиль количества заказов на пользователя: ', np.percentile(ordersByUsers['orders'], 99)) "
   ]
  },
  {
   "cell_type": "markdown",
   "metadata": {},
   "source": [
    "Не более 5% пользователей оформляли больше чем 2 заказа и не более 1% пользователей оформляли больше чем 4 заказа\n"
   ]
  },
  {
   "cell_type": "markdown",
   "metadata": {},
   "source": [
    "## 3.8 <a id=\"three8\"></a>Точечный график стоимостей заказов"
   ]
  },
  {
   "cell_type": "code",
   "execution_count": 38,
   "metadata": {},
   "outputs": [
    {
     "data": {
      "text/plain": [
       "(0.0, 1300000.0)"
      ]
     },
     "execution_count": 38,
     "metadata": {},
     "output_type": "execute_result"
    },
    {
     "data": {
      "image/png": "[encoded data removed]",
      "text/plain": [
       "<Figure size 640x480 with 1 Axes>"
      ]
     },
     "metadata": {},
     "output_type": "display_data"
    }
   ],
   "source": [
    "#по группе А\n",
    "revenue_A = orders.query('group == \"A\"')['revenue']\n",
    "x_values = pd.Series(range(0, len(revenue_A)))\n",
    "\n",
    "plt.scatter(x_values, revenue_A) \n",
    "plt.title(\"Стоимость заказов группы А \")\n",
    "plt.xlabel('Количество пользователей')\n",
    "plt.ylabel(\"Сумма\")\n",
    "plt.ylim(0,1300000)"
   ]
  },
  {
   "cell_type": "code",
   "execution_count": 39,
   "metadata": {},
   "outputs": [
    {
     "data": {
      "text/plain": [
       "Text(0, 0.5, 'Сумма')"
      ]
     },
     "execution_count": 39,
     "metadata": {},
     "output_type": "execute_result"
    },
    {
     "data": {
      "image/png": "[encoded data removed]",
      "text/plain": [
       "<Figure size 640x480 with 1 Axes>"
      ]
     },
     "metadata": {},
     "output_type": "display_data"
    }
   ],
   "source": [
    "\n",
    "revenue_A = orders.query('group == \"A\"')['revenue']\n",
    "x_values = pd.Series(range(0, len(revenue_A)))\n",
    "\n",
    "plt.scatter(x_values, revenue_A) \n",
    "plt.title(\"Стоимость заказов группы А \")\n",
    "plt.xlabel('Количество пользователей')\n",
    "plt.ylabel(\"Сумма\")\n",
    "\n"
   ]
  },
  {
   "cell_type": "code",
   "execution_count": 40,
   "metadata": {},
   "outputs": [
    {
     "data": {
      "text/plain": [
       "Text(0, 0.5, 'Сумма')"
      ]
     },
     "execution_count": 40,
     "metadata": {},
     "output_type": "execute_result"
    },
    {
     "data": {
      "image/png": "[encoded data removed]",
      "text/plain": [
       "<Figure size 640x480 with 1 Axes>"
      ]
     },
     "metadata": {},
     "output_type": "display_data"
    }
   ],
   "source": [
    "#по группе B\n",
    "revenue_B = orders.query('group == \"B\"')['revenue']\n",
    "x_values = pd.Series(range(0, len(revenue_B)))\n",
    "\n",
    "plt.scatter(x_values, revenue_B) \n",
    "\n",
    "plt.title(\"Стоимость заказов группы B \")\n",
    "plt.xlabel('Количество пользователей')\n",
    "plt.ylabel(\"Сумма\")"
   ]
  },
  {
   "cell_type": "code",
   "execution_count": 41,
   "metadata": {},
   "outputs": [
    {
     "data": {
      "text/plain": [
       "Text(0, 0.5, 'Сумма')"
      ]
     },
     "execution_count": 41,
     "metadata": {},
     "output_type": "execute_result"
    },
    {
     "data": {
      "image/png": "[encoded data removed]",
      "text/plain": [
       "<Figure size 640x480 with 1 Axes>"
      ]
     },
     "metadata": {},
     "output_type": "display_data"
    }
   ],
   "source": [
    "revenue_B = orders.query('group == \"B\"')['revenue']\n",
    "x_values = pd.Series(range(0, len(revenue_B)))\n",
    "\n",
    "plt.scatter(x_values, revenue_B) \n",
    "plt.ylim(0,100000)\n",
    "plt.title(\"Стоимость заказов группы B \")\n",
    "plt.xlabel('Количество пользователей')\n",
    "plt.ylabel(\"Сумма\")"
   ]
  },
  {
   "cell_type": "markdown",
   "metadata": {},
   "source": [
    "У графика В нашелся заказ, который стоимостью выше 1,2 млн.руб. По остальным заказам и у группы А и В наблюдаются заказы не выше 100 тыс. руб "
   ]
  },
  {
   "cell_type": "markdown",
   "metadata": {},
   "source": [
    "## 3.9 <a id=\"three9\"></a> 95-й и 99-й перцентили стоимости заказов"
   ]
  },
  {
   "cell_type": "code",
   "execution_count": 42,
   "metadata": {},
   "outputs": [
    {
     "name": "stdout",
     "output_type": "stream",
     "text": [
      "95-й перцентиль стоимости заказов:  24944.5\n",
      "99-й перцентиль стоимости заказов:  56064.18\n"
     ]
    }
   ],
   "source": [
    "print ('95-й перцентиль стоимости заказов: ', round(np.percentile(revenue_A, 95),2)) \n",
    "print ('99-й перцентиль стоимости заказов: ', round(np.percentile(revenue_A, 99),2)) "
   ]
  },
  {
   "cell_type": "code",
   "execution_count": 43,
   "metadata": {},
   "outputs": [
    {
     "name": "stdout",
     "output_type": "stream",
     "text": [
      "95-й перцентиль стоимости заказов:  27561.5\n",
      "99-й перцентиль стоимости заказов:  49553.6\n"
     ]
    }
   ],
   "source": [
    "print ('95-й перцентиль стоимости заказов: ', round(np.percentile(revenue_B, 95),2)) \n",
    "print ('99-й перцентиль стоимости заказов: ', round(np.percentile(revenue_B, 99),2)) "
   ]
  },
  {
   "cell_type": "markdown",
   "metadata": {},
   "source": [
    "- По группе A не более 5% пользователей оформляли на сумму свыше 29944.5 руб  и не более 1% пользователей оформляли на сумму свыше 56064.18 руб.\n",
    "- По группе В не более 5% пользователей оформляли на сумму свыше 27561.5 руб  и не более 1% пользователей оформляли на сумму свыше 49553.6 руб."
   ]
  },
  {
   "cell_type": "markdown",
   "metadata": {},
   "source": [
    "## 3.10 <a id=\"three10\"></a> Статистическая значимость различий в среднем количестве заказов на посетителя между группами по «сырым» данным.\n",
    "\n",
    " Нулевая гипотеза: различий в среднем количестве заказов на посетителя между группами нет. \n",
    " \n",
    " Альтернативная гипотеза: различия в среднем между группами есть."
   ]
  },
  {
   "cell_type": "code",
   "execution_count": 44,
   "metadata": {},
   "outputs": [],
   "source": [
    "\n",
    "ordersByUsersA = (\n",
    "    orders[orders['group'] == 'A']\n",
    "    .groupby('visitorId', as_index=False)\n",
    "    .agg({'transactionId': pd.Series.nunique})\n",
    ")\n",
    "ordersByUsersA.columns = ['visitorId', 'orders']\n",
    "\n",
    "ordersByUsersB = (\n",
    "    orders[orders['group'] == 'B']\n",
    "    .groupby('visitorId', as_index=False)\n",
    "    .agg({'transactionId': pd.Series.nunique})\n",
    ")\n",
    "ordersByUsersB.columns = ['visitorId', 'orders']\n",
    "\n",
    "sampleA = pd.concat([ordersByUsersA['orders'],\n",
    "        pd.Series(0, index=np.arange\n",
    "            (visitors[visitors['group']=='A']['visitors'].sum() - len(ordersByUsersA['orders'])), name='orders')])\n",
    "\n",
    "sampleB = pd.concat([ordersByUsersB['orders'],\n",
    "        pd.Series( 0,index=np.arange\n",
    "            (visitors[visitors['group']=='B']['visitors'].sum() - len(ordersByUsersB ['orders'])),name='orders')])\n"
   ]
  },
  {
   "cell_type": "code",
   "execution_count": 45,
   "metadata": {},
   "outputs": [
    {
     "name": "stdout",
     "output_type": "stream",
     "text": [
      "p_value:0.011\n",
      "Относительное различие в среднем количестве заказов на посетителя между группами:0.160\n"
     ]
    }
   ],
   "source": [
    "print('p_value:' \"{0:.3f}\".format(stats.mannwhitneyu(sampleA, sampleB)[1]))\n",
    "\n",
    "print('Относительное различие в среднем количестве заказов на посетителя между группами:'\"{0:.3f}\".format(sampleB.mean() / sampleA.mean() - 1))"
   ]
  },
  {
   "cell_type": "markdown",
   "metadata": {},
   "source": [
    "Вывод: p-value меньше 0.05, и нулевую гипотезу о том, что различий в среднем количестве заказов на посетителя между группами нет, следует отвергнуть. Относительный выигрыш группы B равен 16%."
   ]
  },
  {
   "cell_type": "markdown",
   "metadata": {},
   "source": [
    "## 3.11 <a id=\"three11\"></a> Статистическая значимость различий в среднем чеке заказа между группами по «сырым» данным\n",
    "\n",
    "Нулевая гипотеза: различий в среднем чеке между группами нет. \n",
    "\n",
    "Альтернативная гипотеза: различия в среднем чеке между группами есть. "
   ]
  },
  {
   "cell_type": "code",
   "execution_count": 46,
   "metadata": {},
   "outputs": [
    {
     "name": "stdout",
     "output_type": "stream",
     "text": [
      "p_value:0.829\n",
      "Относительное различие в среднем чеке заказа между группами:0.287\n"
     ]
    }
   ],
   "source": [
    "print('p_value:' '{0:.3f}'.format(stats.mannwhitneyu(orders[orders['group']=='A']['revenue'], orders[orders['group']=='B']['revenue'])[1]))\n",
    "print('Относительное различие в среднем чеке заказа между группами:' '{0:.3f}'.format(orders[orders['group']=='B']['revenue'].mean()/orders[orders['group']=='A']['revenue'].mean()-1)) "
   ]
  },
  {
   "cell_type": "markdown",
   "metadata": {},
   "source": [
    "P-value значительно больше 0.05. Значит, причин отвергать нулевую гипотезу и считать, что в среднем чеке есть различия, нет. Впрочем, средний чек группы B значительно выше среднего чека группы A."
   ]
  },
  {
   "cell_type": "markdown",
   "metadata": {},
   "source": [
    "## 3.12 <a id=\"three12\"></a> Статистическая значимость различий в среднем количестве заказов на посетителя между группами по «очищенным» данным.\n",
    "\n",
    "\n",
    "Приступаем к подготовке очищенных от аномалий данных."
   ]
  },
  {
   "cell_type": "code",
   "execution_count": 47,
   "metadata": {},
   "outputs": [],
   "source": [
    "ordersByUsersА = (\n",
    "    orders.query('group == \"A\"').groupby('visitorId', as_index=False)\n",
    "    .agg({'transactionId': 'nunique'})\n",
    ")\n",
    "ordersByUsersА .columns = ['visitorId', 'orders']\n",
    "\n",
    "x_values = pd.Series(range(0, len(ordersByUsersА)))\n",
    "\n",
    "ordersByUsersB = (\n",
    "    orders.query('group == \"B\"').groupby('visitorId', as_index=False)\n",
    "    .agg({'transactionId': 'nunique'})\n",
    ")\n",
    "ordersByUsersB .columns = ['visitorId', 'orders']\n",
    "\n",
    "\n",
    "x_values = pd.Series(range(0, len(ordersByUsersB)))"
   ]
  },
  {
   "cell_type": "code",
   "execution_count": 48,
   "metadata": {},
   "outputs": [
    {
     "name": "stdout",
     "output_type": "stream",
     "text": [
      "Количество аномальных пользователей группы: (16,)\n"
     ]
    }
   ],
   "source": [
    "A99=np.percentile(ordersByUsersА['orders'], [99])[0]\n",
    "B99=np.percentile(ordersByUsersB['orders'], [99])[0]\n",
    "rev_99=np.percentile(orders['revenue'], [99])[0]\n",
    "\n",
    "usersWithManyOrders = pd.concat(\n",
    "    [\n",
    "        ordersByUsersA[ordersByUsersA['orders'] > A99]['visitorId'],\n",
    "        ordersByUsersB[ordersByUsersB['orders'] > B99]['visitorId'],\n",
    "    ],\n",
    "    axis=0,\n",
    ")\n",
    "usersWithExpensiveOrders = orders[orders['revenue'] > rev_99]['visitorId']\n",
    "abnormalUsers = (\n",
    "    pd.concat([usersWithManyOrders, usersWithExpensiveOrders], axis=0)\n",
    "    .drop_duplicates()\n",
    "    .sort_values()\n",
    ")\n",
    "print('Количество аномальных пользователей группы:', abnormalUsers.shape) "
   ]
  },
  {
   "cell_type": "code",
   "execution_count": 49,
   "metadata": {},
   "outputs": [
    {
     "name": "stdout",
     "output_type": "stream",
     "text": [
      "p_value:0.007\n",
      "Относительное различие в среднем количестве заказов на посетителя между группами после очистки данных:0.189\n"
     ]
    }
   ],
   "source": [
    "#У нас есть множество аномальных пользователей. \n",
    "#надо выяснить, есть ли существенные различия между группами с очищенными даннами \n",
    "\n",
    "sampleAFiltered = pd.concat(\n",
    "    [\n",
    "        ordersByUsersA[\n",
    "            np.logical_not(ordersByUsersA['visitorId'].isin(abnormalUsers))\n",
    "        ]['orders'],\n",
    "        pd.Series(\n",
    "            0,\n",
    "            index=np.arange(\n",
    "                visitors[visitors['group']=='A']['visitors'].sum() - len(ordersByUsersA['orders'])\n",
    "            ),\n",
    "            name='orders',\n",
    "        ),\n",
    "    ],\n",
    "    axis=0,\n",
    ")\n",
    "\n",
    "sampleBFiltered = pd.concat(\n",
    "    [\n",
    "        ordersByUsersB[\n",
    "            np.logical_not(ordersByUsersB['visitorId'].isin(abnormalUsers))\n",
    "        ]['orders'],\n",
    "        pd.Series(\n",
    "            0,\n",
    "            index=np.arange(\n",
    "                visitors[visitors['group']=='B']['visitors'].sum()  - len(ordersByUsersB['orders'])\n",
    "            ),\n",
    "            name='orders',\n",
    "        ),\n",
    "    ],\n",
    "    axis=0,\n",
    ")\n",
    "\n",
    "print('p_value:''{0:.3f}'.format(stats.mannwhitneyu(sampleAFiltered, sampleBFiltered)[1]))\n",
    "print('Относительное различие в среднем количестве заказов на посетителя между группами после очистки данных:''{0:.3f}'.format(sampleBFiltered.mean()/sampleAFiltered.mean()-1)) "
   ]
  },
  {
   "cell_type": "markdown",
   "metadata": {},
   "source": [
    "Результаты по среднему количеству заказов практически не изменились."
   ]
  },
  {
   "cell_type": "markdown",
   "metadata": {},
   "source": [
    "## 3.13 <a id=\"three13\"></a> Статистическая значимость различий в среднем чеке заказа между группами по «очищенным» данным"
   ]
  },
  {
   "cell_type": "code",
   "execution_count": 50,
   "metadata": {},
   "outputs": [
    {
     "name": "stdout",
     "output_type": "stream",
     "text": [
      "p_value:0.788\n",
      "Относительное различие в среднем чеке заказа между группами после очистки данных:-0.032\n"
     ]
    }
   ],
   "source": [
    "print('p_value:' \n",
    "    '{0:.3f}'.format(\n",
    "        stats.mannwhitneyu(\n",
    "            orders[\n",
    "                np.logical_and(\n",
    "                    orders['group'] == 'A',\n",
    "                    np.logical_not(orders['visitorId'].isin(abnormalUsers)),\n",
    "                )\n",
    "            ]['revenue'],\n",
    "            orders[\n",
    "                np.logical_and(\n",
    "                    orders['group'] == 'B',\n",
    "                    np.logical_not(orders['visitorId'].isin(abnormalUsers)),\n",
    "                )\n",
    "            ]['revenue'],\n",
    "        )[1]\n",
    "    )\n",
    ")\n",
    "\n",
    "print('Относительное различие в среднем чеке заказа между группами после очистки данных:' \n",
    "    \"{0:.3f}\".format(\n",
    "        orders[\n",
    "            np.logical_and(\n",
    "                orders['group'] == 'B',\n",
    "                np.logical_not(orders['visitorId'].isin(abnormalUsers)),\n",
    "            )\n",
    "        ]['revenue'].mean()\n",
    "        / orders[\n",
    "            np.logical_and(\n",
    "                orders['group'] == 'A',\n",
    "                np.logical_not(orders['visitorId'].isin(abnormalUsers)),\n",
    "            )\n",
    "        ]['revenue'].mean()\n",
    "        - 1\n",
    "    )\n",
    ")"
   ]
  },
  {
   "cell_type": "markdown",
   "metadata": {},
   "source": [
    " P-value увеличился. Значит, причин отвергать нулевую гипотезу и считать, что в среднем чеке есть различия, по-прежнему нет."
   ]
  },
  {
   "cell_type": "markdown",
   "metadata": {},
   "source": [
    "# **4 шаг.** <a id=\"four\"></a> Общий вывод\n",
    "\n",
    "**Шаг №1: Подготовка данных**\n",
    "\n",
    "Структура hypothesis:   \n",
    "`Hypothesis` — краткое описание гипотезы;       \n",
    "`Reach` — охват пользователей по 10-балльной шкале;   \n",
    "`Impact` — влияние на пользователей по 10-балльной шкале;    \n",
    "`Confidence` — уверенность в гипотезе по 10-балльной шкале;    \n",
    "`Efforts` — затраты ресурсов на проверку гипотезы по 10-балльной шкале. Чем больше значение Efforts, тем дороже проверка гипотезы.    \n",
    "\n",
    "Структура orders:    \n",
    "`transactionId` — идентификатор заказа;     \n",
    "`visitorId` — идентификатор пользователя, совершившего заказ;    \n",
    "`date` — дата, когда был совершён заказ;    \n",
    "`revenue` — выручка заказа;    \n",
    "`group` — группа A/B-теста, в которую попал заказ.    \n",
    "\n",
    "Структура visitors:   \n",
    "`date` — дата;    \n",
    "`group` — группа A/B-теста;    \n",
    "`visitors` — количество пользователей в указанную дату в указанной группе A/B-тест   \n",
    "\n",
    " В данном разделе мы:\n",
    "- Названия столбцов привели к нижнему регистру\n",
    "- Все столбцы с датами перевели на формат datetime\n",
    "- Дубликатов и пропусков не обнаружили\n",
    "\n",
    "**Шаг №2: Приоритизация гипотез.**       \n",
    "    \n",
    "Выделили 4 гипотезы, которые стоят для рассмотрения: \n",
    "- \"Запустить акцию, дающую скидку на товар в день рождения\" Самый высокий ICE. Но охват всего лишь 1 (видимо связно с тем, что день рождения раз в году). Поэтому по параметру RICE 5 место\n",
    "- \" Добавить два новых канала привлечения трафика, что позволит привлекать на 30% больше пользователей\". Хорошие показатели RICE (3 место) и ICE (2 место). Минус что по охвату стоит 3, что низкий показатель.\n",
    "- \"Добавить форму подписки на все основные страницы, чтобы собрать базу клиентов для email-рассылок\". 1 место по RICE и 3 место по ICE. По Матрице Эйзенхауэра ее можно включить в гипотезы квадранта A (важные и срочные)\n",
    "- \"Добавить блоки рекомендаций товаров на сайт интернет магазина, чтобы повысить конверсию и средний чек заказа \" 5 место по ICE и 2 место по RICE. Не затратный способ, который не принесет большого удовлетворения пользователей, но охватит большой круг\n",
    "\n",
    "**Шаг №3: Анализ A/B-теста.** \n",
    "- *Информация о АВ-тесте:*\n",
    "    - Есть 2 группы : А и В\n",
    "    - Дата начала теста 1 августа 2019год. Дата окончание теста 31 августа 2019 год. Период: 31 день\n",
    "    - в группе А: 445 пользователей, которые сделали заказ. В группе B: 528 пользователей, которые сделали заказ.В группе В на 80 пользователей больше, чем в группе А.\n",
    "    - Число пользователей, находящихся в 2 группах одновременно:58. Приняла решение, не учитывать этих пользователей при оценке A\n",
    "- *График кумулятивной выручки по группам:*   \n",
    " У группы А и В рост выручки в течение всего теста. До 2019-08-17 у обоих групп равномерный рост (лидирует группа В). Затем у B произошел резкий скачок.\n",
    "- *График кумулятивного среднего чека по группам:*      \n",
    "У группы В был резкий скачок 2019-08-07, что может быть связано с дорогим и крупным заказом.Дальше идет на спадение. У группы B идет сначала повышение, затем стабилизируется.\n",
    "-  *График относительного изменения кумулятивного среднего чека группы B к группе A:*     \n",
    "В начале идет рост, потом на спад (группа А в один момент превышала на 10%) и большой скачок 2019-08-17 подтверждает что был большой заказ в группе В. затем стабильно группа B превышает больше чем на 20% \n",
    "- *График кумулятивного среднего количества заказов на посетителя по группам:*        \n",
    "Первоначально конверсия колебалась, после девятого августа немного стабилизировалась.Результат у В выше чем у А.\n",
    "- *График относительного изменения кумулятивного среднего количества заказов на посетителя группы B к группе A:*        \n",
    "Группа B вначале падает, но затем начинает лидировать относительно группы А. \n",
    "- *Точечный график количества заказов по пользователям:*       \n",
    "Чаще всего делают один заказ.Пользователи, заказавшие более 2-х раз, совсем мало.\n",
    "-  *95-й и 99-й перцентили количества заказов на пользователя:*   \n",
    "Не более 5% пользователей оформляли больше чем 2 заказа и не более 1% пользователей оформляли больше чем 4 заказа\n",
    "-  *Точечный график стоимостей заказов:*     \n",
    "У графика В нашелся заказ, который стоимостью выше 1,2 млн.руб. По остальным заказам и у группы А и В наблюдаются заказы не выше 100 тыс. руб\n",
    "- *95-й и 99-й перцентили стоимости заказов:*    \n",
    "   - По группе A не более 5% пользователей оформляли на сумму свыше 29944.5 руб и не более 1% пользователей оформляли на сумму свыше 56064.18 руб.\n",
    "   - По группе В не более 5% пользователей оформляли на сумму свыше 27561.5 руб и не более 1% пользователей оформляли на сумму свыше 49553.6 руб\n",
    "- *Статистическая значимость различий в среднем количестве заказов на посетителя между группами по «сырым» данным:*     \n",
    "   - Нулевая гипотеза: различий в среднем количестве заказов на посетителя между группами нет.    \n",
    "   - Альтернативная гипотеза: различия в среднем между группами есть.По «сырым» данным различий в среднем числе заказов групп A и B есть.      \n",
    "Первое число — p-value меньше 0.05. Значит, нулевую гипотезу о том, что статистически значимых различий в среднем числе заказов между группами нет, отвергаем. Относительный проигрыш группы А равен 16% — второе число в выводе.\n",
    "- *Статистическая значимость различий в среднем чеке заказа между группами по «сырым» данным.*    \n",
    "   - Нулевая гипотеза: различий в среднем чеке между группами нет.       \n",
    "   - Альтернативная гипотеза: различия в среднем чеке между группами есть.      \n",
    "P-value значительно больше 0.05. Значит, причин отвергать нулевую гипотезу и считать, что в среднем чеке есть различия, нет. Впрочем, средний чек группы B значительно выше среднего чека группы A.\n",
    "-  *Статистическая значимость различий в среднем количестве заказов на посетителя между группами по «очищенным» данным.*    \n",
    "В качестве границ для отсечения аномальных заказов использовали 99 перцентил.Результаты по среднему количеству заказов практически не изменились.\n",
    "-  *Статистическая значимость различий в среднем чеке заказа между группами по «очищенным» данным.*    \n",
    "P-value увеличился. Значит, причин отвергать нулевую гипотезу и считать, что в среднем чеке есть различия, по-прежнему нет.\n",
    "\n",
    "\n",
    "\n",
    "**Вывод:**\n",
    "- Есть статистическая значимость различий в среднем количестве заказов на посетителя между группами как по сырым данным, так и после фильтрации аномалий.\n",
    "- Как по сырым, так и по данным без аномалий нет статистическая значимость различий в среднем чеке заказа между группами.\n",
    "- Графики сообщают, что результаты группы B лучше группы A: имеют тенденцию к росту, либо зафиксировались около среднего значения.\n",
    "- График различия среднего чека колеблется: он-то и позволил вам найти аномалии. Сделать из этого графика определённые выводы нельзя.\n",
    "- Останавливаем  тест, зафиксируем победу группы В\n"
   ]
  }
 ],
 "metadata": {
  "ExecuteTimeLog": [
   {
    "duration": 63,
    "start_time": "2023-01-20T11:21:43.935Z"
   },
   {
    "duration": 3,
    "start_time": "2023-01-20T11:41:06.620Z"
   },
   {
    "duration": 1292,
    "start_time": "2023-01-20T11:42:40.496Z"
   },
   {
    "duration": 4,
    "start_time": "2023-01-20T11:43:14.101Z"
   },
   {
    "duration": 247,
    "start_time": "2023-01-20T13:30:21.771Z"
   },
   {
    "duration": 14,
    "start_time": "2023-01-20T13:30:46.982Z"
   },
   {
    "duration": 10,
    "start_time": "2023-01-20T13:31:18.079Z"
   },
   {
    "duration": 97,
    "start_time": "2023-01-20T13:40:22.144Z"
   },
   {
    "duration": 19,
    "start_time": "2023-01-20T13:40:29.033Z"
   },
   {
    "duration": 10,
    "start_time": "2023-01-20T13:40:44.415Z"
   },
   {
    "duration": 9,
    "start_time": "2023-01-20T13:40:56.263Z"
   },
   {
    "duration": 17,
    "start_time": "2023-01-20T13:40:57.340Z"
   },
   {
    "duration": 13,
    "start_time": "2023-01-20T13:40:58.144Z"
   },
   {
    "duration": 3,
    "start_time": "2023-01-20T13:43:23.564Z"
   },
   {
    "duration": 3,
    "start_time": "2023-01-20T13:44:01.115Z"
   },
   {
    "duration": 11,
    "start_time": "2023-01-20T13:44:18.969Z"
   },
   {
    "duration": 8,
    "start_time": "2023-01-20T13:51:30.756Z"
   },
   {
    "duration": 6,
    "start_time": "2023-01-20T13:52:28.819Z"
   },
   {
    "duration": 12,
    "start_time": "2023-01-20T13:53:17.470Z"
   },
   {
    "duration": 6,
    "start_time": "2023-01-20T13:55:42.509Z"
   },
   {
    "duration": 12,
    "start_time": "2023-01-20T13:55:57.582Z"
   },
   {
    "duration": 1259,
    "start_time": "2023-01-20T13:56:13.737Z"
   },
   {
    "duration": 102,
    "start_time": "2023-01-20T13:56:14.998Z"
   },
   {
    "duration": 12,
    "start_time": "2023-01-20T13:56:15.102Z"
   },
   {
    "duration": 4,
    "start_time": "2023-01-20T13:56:15.116Z"
   },
   {
    "duration": 13,
    "start_time": "2023-01-20T13:56:15.122Z"
   },
   {
    "duration": 13,
    "start_time": "2023-01-20T13:56:15.136Z"
   },
   {
    "duration": 9,
    "start_time": "2023-01-20T13:56:15.150Z"
   },
   {
    "duration": 14,
    "start_time": "2023-01-20T13:56:15.161Z"
   },
   {
    "duration": 12,
    "start_time": "2023-01-20T13:56:15.177Z"
   },
   {
    "duration": 6,
    "start_time": "2023-01-20T13:56:15.192Z"
   },
   {
    "duration": 36,
    "start_time": "2023-01-20T13:56:15.200Z"
   },
   {
    "duration": 10,
    "start_time": "2023-01-20T13:56:15.239Z"
   },
   {
    "duration": 14,
    "start_time": "2023-01-20T13:56:38.163Z"
   },
   {
    "duration": 6,
    "start_time": "2023-01-20T13:56:39.779Z"
   },
   {
    "duration": 12,
    "start_time": "2023-01-20T13:56:41.124Z"
   },
   {
    "duration": 49,
    "start_time": "2023-01-20T13:57:16.242Z"
   },
   {
    "duration": 1219,
    "start_time": "2023-01-20T13:57:21.448Z"
   },
   {
    "duration": 102,
    "start_time": "2023-01-20T13:57:22.669Z"
   },
   {
    "duration": 13,
    "start_time": "2023-01-20T13:57:23.428Z"
   },
   {
    "duration": 3,
    "start_time": "2023-01-20T13:57:27.066Z"
   },
   {
    "duration": 14,
    "start_time": "2023-01-20T13:57:28.240Z"
   },
   {
    "duration": 6,
    "start_time": "2023-01-20T13:57:29.023Z"
   },
   {
    "duration": 6,
    "start_time": "2023-01-20T13:57:30.520Z"
   },
   {
    "duration": 15,
    "start_time": "2023-01-20T13:57:30.946Z"
   },
   {
    "duration": 12,
    "start_time": "2023-01-20T13:57:31.216Z"
   },
   {
    "duration": 7,
    "start_time": "2023-01-20T13:57:31.676Z"
   },
   {
    "duration": 12,
    "start_time": "2023-01-20T13:57:32.167Z"
   },
   {
    "duration": 11,
    "start_time": "2023-01-20T13:57:33.850Z"
   },
   {
    "duration": 6,
    "start_time": "2023-01-20T13:58:27.620Z"
   },
   {
    "duration": 14,
    "start_time": "2023-01-20T13:58:28.753Z"
   },
   {
    "duration": 7,
    "start_time": "2023-01-20T13:59:12.014Z"
   },
   {
    "duration": 8,
    "start_time": "2023-01-20T13:59:32.372Z"
   },
   {
    "duration": 7,
    "start_time": "2023-01-20T14:00:52.644Z"
   },
   {
    "duration": 14,
    "start_time": "2023-01-20T14:01:04.453Z"
   },
   {
    "duration": 5,
    "start_time": "2023-01-20T14:02:00.659Z"
   },
   {
    "duration": 12,
    "start_time": "2023-01-20T14:02:09.290Z"
   },
   {
    "duration": 7,
    "start_time": "2023-01-20T14:03:57.734Z"
   },
   {
    "duration": 5,
    "start_time": "2023-01-20T14:04:53.544Z"
   },
   {
    "duration": 6,
    "start_time": "2023-01-20T14:29:15.674Z"
   },
   {
    "duration": 12,
    "start_time": "2023-01-20T14:29:56.402Z"
   },
   {
    "duration": 11,
    "start_time": "2023-01-20T14:32:18.924Z"
   },
   {
    "duration": 3,
    "start_time": "2023-01-20T14:33:29.937Z"
   },
   {
    "duration": 48,
    "start_time": "2023-01-20T14:33:40.972Z"
   },
   {
    "duration": 51,
    "start_time": "2023-01-20T14:33:45.814Z"
   },
   {
    "duration": 871,
    "start_time": "2023-01-20T14:33:50.747Z"
   },
   {
    "duration": 4,
    "start_time": "2023-01-20T14:34:25.592Z"
   },
   {
    "duration": 50,
    "start_time": "2023-01-20T14:35:17.642Z"
   },
   {
    "duration": 4,
    "start_time": "2023-01-20T14:35:26.621Z"
   },
   {
    "duration": 12,
    "start_time": "2023-01-20T14:52:21.045Z"
   },
   {
    "duration": 12,
    "start_time": "2023-01-20T14:54:48.232Z"
   },
   {
    "duration": 5,
    "start_time": "2023-01-20T14:56:38.848Z"
   },
   {
    "duration": 13,
    "start_time": "2023-01-20T15:00:08.562Z"
   },
   {
    "duration": 13,
    "start_time": "2023-01-20T15:00:31.455Z"
   },
   {
    "duration": 14,
    "start_time": "2023-01-20T15:00:45.363Z"
   },
   {
    "duration": 5,
    "start_time": "2023-01-20T15:02:18.738Z"
   },
   {
    "duration": 5,
    "start_time": "2023-01-20T15:15:51.472Z"
   },
   {
    "duration": 5,
    "start_time": "2023-01-20T15:16:27.637Z"
   },
   {
    "duration": 13,
    "start_time": "2023-01-20T15:16:40.232Z"
   },
   {
    "duration": 99,
    "start_time": "2023-01-20T15:17:15.560Z"
   },
   {
    "duration": 9,
    "start_time": "2023-01-20T15:17:17.457Z"
   },
   {
    "duration": 100,
    "start_time": "2023-01-20T15:24:27.576Z"
   },
   {
    "duration": 9,
    "start_time": "2023-01-20T15:24:28.708Z"
   },
   {
    "duration": 827,
    "start_time": "2023-01-20T15:26:03.639Z"
   },
   {
    "duration": 1185,
    "start_time": "2023-01-20T15:26:19.786Z"
   },
   {
    "duration": 100,
    "start_time": "2023-01-20T15:26:20.973Z"
   },
   {
    "duration": 13,
    "start_time": "2023-01-20T15:26:21.076Z"
   },
   {
    "duration": 7,
    "start_time": "2023-01-20T15:26:21.092Z"
   },
   {
    "duration": 17,
    "start_time": "2023-01-20T15:26:21.101Z"
   },
   {
    "duration": 9,
    "start_time": "2023-01-20T15:26:21.120Z"
   },
   {
    "duration": 8,
    "start_time": "2023-01-20T15:26:21.131Z"
   },
   {
    "duration": 23,
    "start_time": "2023-01-20T15:26:21.140Z"
   },
   {
    "duration": 16,
    "start_time": "2023-01-20T15:26:21.166Z"
   },
   {
    "duration": 7,
    "start_time": "2023-01-20T15:26:21.186Z"
   },
   {
    "duration": 12,
    "start_time": "2023-01-20T15:26:21.195Z"
   },
   {
    "duration": 26,
    "start_time": "2023-01-20T15:26:21.209Z"
   },
   {
    "duration": 7,
    "start_time": "2023-01-20T15:26:21.238Z"
   },
   {
    "duration": 12,
    "start_time": "2023-01-20T15:26:21.246Z"
   },
   {
    "duration": 12,
    "start_time": "2023-01-20T15:26:21.260Z"
   },
   {
    "duration": 5,
    "start_time": "2023-01-20T15:26:21.274Z"
   },
   {
    "duration": 15,
    "start_time": "2023-01-20T15:26:21.281Z"
   },
   {
    "duration": 64,
    "start_time": "2023-01-20T15:26:21.298Z"
   },
   {
    "duration": 9,
    "start_time": "2023-01-20T15:26:21.364Z"
   },
   {
    "duration": 16,
    "start_time": "2023-01-20T15:26:21.376Z"
   },
   {
    "duration": 16,
    "start_time": "2023-01-20T15:26:21.394Z"
   },
   {
    "duration": 3,
    "start_time": "2023-01-20T15:55:31.100Z"
   },
   {
    "duration": 2,
    "start_time": "2023-01-20T15:55:43.249Z"
   },
   {
    "duration": 147,
    "start_time": "2023-01-20T16:49:28.147Z"
   },
   {
    "duration": 51,
    "start_time": "2023-01-20T17:01:24.654Z"
   },
   {
    "duration": 12,
    "start_time": "2023-01-20T17:01:45.115Z"
   },
   {
    "duration": 11,
    "start_time": "2023-01-20T17:02:17.691Z"
   },
   {
    "duration": 11,
    "start_time": "2023-01-20T17:02:57.724Z"
   },
   {
    "duration": 9,
    "start_time": "2023-01-20T17:03:14.610Z"
   },
   {
    "duration": 741,
    "start_time": "2023-01-20T17:07:38.566Z"
   },
   {
    "duration": 13,
    "start_time": "2023-01-20T17:08:24.824Z"
   },
   {
    "duration": 9,
    "start_time": "2023-01-20T17:09:30.648Z"
   },
   {
    "duration": 28,
    "start_time": "2023-01-20T18:43:56.780Z"
   },
   {
    "duration": 13,
    "start_time": "2023-01-20T18:44:23.851Z"
   },
   {
    "duration": 17,
    "start_time": "2023-01-20T18:45:42.105Z"
   },
   {
    "duration": 31,
    "start_time": "2023-01-20T18:46:01.180Z"
   },
   {
    "duration": 16,
    "start_time": "2023-01-20T18:48:15.526Z"
   },
   {
    "duration": 557,
    "start_time": "2023-01-20T18:48:43.554Z"
   },
   {
    "duration": 899,
    "start_time": "2023-01-20T18:52:33.365Z"
   },
   {
    "duration": 884,
    "start_time": "2023-01-20T18:53:19.004Z"
   },
   {
    "duration": 939,
    "start_time": "2023-01-20T18:53:55.564Z"
   },
   {
    "duration": 946,
    "start_time": "2023-01-20T18:54:09.853Z"
   },
   {
    "duration": 493,
    "start_time": "2023-01-20T18:54:53.036Z"
   },
   {
    "duration": 587,
    "start_time": "2023-01-20T18:55:07.002Z"
   },
   {
    "duration": 484,
    "start_time": "2023-01-20T18:55:13.893Z"
   },
   {
    "duration": 556,
    "start_time": "2023-01-20T18:55:22.752Z"
   },
   {
    "duration": 428,
    "start_time": "2023-01-20T18:55:47.705Z"
   },
   {
    "duration": 523,
    "start_time": "2023-01-20T18:55:59.740Z"
   },
   {
    "duration": 560,
    "start_time": "2023-01-20T18:56:19.917Z"
   },
   {
    "duration": 499,
    "start_time": "2023-01-20T18:56:31.072Z"
   },
   {
    "duration": 488,
    "start_time": "2023-01-20T18:57:06.067Z"
   },
   {
    "duration": 518,
    "start_time": "2023-01-20T18:57:24.067Z"
   },
   {
    "duration": 376,
    "start_time": "2023-01-20T20:30:50.888Z"
   },
   {
    "duration": 475,
    "start_time": "2023-01-20T20:31:10.222Z"
   },
   {
    "duration": 472,
    "start_time": "2023-01-20T20:32:46.799Z"
   },
   {
    "duration": 567,
    "start_time": "2023-01-20T20:33:27.262Z"
   },
   {
    "duration": 505,
    "start_time": "2023-01-20T20:34:02.565Z"
   },
   {
    "duration": 181,
    "start_time": "2023-01-20T20:39:48.616Z"
   },
   {
    "duration": 195,
    "start_time": "2023-01-20T20:40:07.795Z"
   },
   {
    "duration": 210,
    "start_time": "2023-01-20T20:44:25.409Z"
   },
   {
    "duration": 318,
    "start_time": "2023-01-20T20:47:48.230Z"
   },
   {
    "duration": 289,
    "start_time": "2023-01-20T20:48:21.207Z"
   },
   {
    "duration": 199,
    "start_time": "2023-01-20T20:53:18.024Z"
   },
   {
    "duration": 192,
    "start_time": "2023-01-20T20:53:52.884Z"
   },
   {
    "duration": 198,
    "start_time": "2023-01-20T20:54:21.417Z"
   },
   {
    "duration": 307,
    "start_time": "2023-01-20T20:54:58.716Z"
   },
   {
    "duration": 210,
    "start_time": "2023-01-20T20:55:18.636Z"
   },
   {
    "duration": 302,
    "start_time": "2023-01-20T21:02:24.555Z"
   },
   {
    "duration": 307,
    "start_time": "2023-01-20T21:02:37.638Z"
   },
   {
    "duration": 419,
    "start_time": "2023-01-20T21:03:47.350Z"
   },
   {
    "duration": 325,
    "start_time": "2023-01-20T21:08:29.330Z"
   },
   {
    "duration": 12,
    "start_time": "2023-01-20T21:26:35.583Z"
   },
   {
    "duration": 10,
    "start_time": "2023-01-20T21:27:51.672Z"
   },
   {
    "duration": 17,
    "start_time": "2023-01-20T21:29:16.909Z"
   },
   {
    "duration": 130,
    "start_time": "2023-01-20T21:29:46.820Z"
   },
   {
    "duration": 135,
    "start_time": "2023-01-20T21:30:03.881Z"
   },
   {
    "duration": 114,
    "start_time": "2023-01-20T21:31:39.069Z"
   },
   {
    "duration": 129,
    "start_time": "2023-01-20T21:34:05.953Z"
   },
   {
    "duration": 133,
    "start_time": "2023-01-20T21:35:12.554Z"
   },
   {
    "duration": 147,
    "start_time": "2023-01-20T21:35:15.380Z"
   },
   {
    "duration": 74,
    "start_time": "2023-01-20T21:36:54.706Z"
   },
   {
    "duration": 9,
    "start_time": "2023-01-20T21:41:00.566Z"
   },
   {
    "duration": 5,
    "start_time": "2023-01-20T21:41:31.540Z"
   },
   {
    "duration": 4,
    "start_time": "2023-01-20T21:41:56.747Z"
   },
   {
    "duration": 63,
    "start_time": "2023-01-21T10:00:15.435Z"
   },
   {
    "duration": 1714,
    "start_time": "2023-01-21T10:00:32.546Z"
   },
   {
    "duration": 276,
    "start_time": "2023-01-21T10:00:34.262Z"
   },
   {
    "duration": 12,
    "start_time": "2023-01-21T10:00:34.541Z"
   },
   {
    "duration": 6,
    "start_time": "2023-01-21T10:00:34.556Z"
   },
   {
    "duration": 19,
    "start_time": "2023-01-21T10:00:34.563Z"
   },
   {
    "duration": 37,
    "start_time": "2023-01-21T10:00:34.591Z"
   },
   {
    "duration": 6,
    "start_time": "2023-01-21T10:00:34.632Z"
   },
   {
    "duration": 22,
    "start_time": "2023-01-21T10:00:34.640Z"
   },
   {
    "duration": 14,
    "start_time": "2023-01-21T10:00:34.665Z"
   },
   {
    "duration": 37,
    "start_time": "2023-01-21T10:00:34.682Z"
   },
   {
    "duration": 13,
    "start_time": "2023-01-21T10:00:34.721Z"
   },
   {
    "duration": 9,
    "start_time": "2023-01-21T10:00:34.737Z"
   },
   {
    "duration": 9,
    "start_time": "2023-01-21T10:00:34.748Z"
   },
   {
    "duration": 11,
    "start_time": "2023-01-21T10:00:34.760Z"
   },
   {
    "duration": 33,
    "start_time": "2023-01-21T10:00:34.774Z"
   },
   {
    "duration": 13,
    "start_time": "2023-01-21T10:00:34.809Z"
   },
   {
    "duration": 14,
    "start_time": "2023-01-21T10:00:34.824Z"
   },
   {
    "duration": 11,
    "start_time": "2023-01-21T10:00:34.840Z"
   },
   {
    "duration": 13,
    "start_time": "2023-01-21T10:00:34.853Z"
   },
   {
    "duration": 38,
    "start_time": "2023-01-21T10:00:34.868Z"
   },
   {
    "duration": 27,
    "start_time": "2023-01-21T10:00:34.908Z"
   },
   {
    "duration": 14,
    "start_time": "2023-01-21T10:00:34.938Z"
   },
   {
    "duration": 10,
    "start_time": "2023-01-21T10:00:34.954Z"
   },
   {
    "duration": 166,
    "start_time": "2023-01-21T10:00:34.966Z"
   },
   {
    "duration": 0,
    "start_time": "2023-01-21T10:00:35.134Z"
   },
   {
    "duration": 0,
    "start_time": "2023-01-21T10:00:35.135Z"
   },
   {
    "duration": 0,
    "start_time": "2023-01-21T10:00:35.137Z"
   },
   {
    "duration": 0,
    "start_time": "2023-01-21T10:00:35.138Z"
   },
   {
    "duration": 0,
    "start_time": "2023-01-21T10:00:35.140Z"
   },
   {
    "duration": 0,
    "start_time": "2023-01-21T10:00:35.142Z"
   },
   {
    "duration": 0,
    "start_time": "2023-01-21T10:00:35.143Z"
   },
   {
    "duration": 0,
    "start_time": "2023-01-21T10:00:35.144Z"
   },
   {
    "duration": 0,
    "start_time": "2023-01-21T10:00:35.145Z"
   },
   {
    "duration": 5,
    "start_time": "2023-01-21T10:04:15.852Z"
   },
   {
    "duration": 166,
    "start_time": "2023-01-21T10:04:17.360Z"
   },
   {
    "duration": 12,
    "start_time": "2023-01-21T10:04:18.062Z"
   },
   {
    "duration": 6,
    "start_time": "2023-01-21T10:04:18.930Z"
   },
   {
    "duration": 14,
    "start_time": "2023-01-21T10:04:19.221Z"
   },
   {
    "duration": 8,
    "start_time": "2023-01-21T10:04:19.502Z"
   },
   {
    "duration": 9,
    "start_time": "2023-01-21T10:04:19.902Z"
   },
   {
    "duration": 20,
    "start_time": "2023-01-21T10:04:20.217Z"
   },
   {
    "duration": 15,
    "start_time": "2023-01-21T10:04:20.508Z"
   },
   {
    "duration": 7,
    "start_time": "2023-01-21T10:04:20.732Z"
   },
   {
    "duration": 18,
    "start_time": "2023-01-21T10:04:20.983Z"
   },
   {
    "duration": 10,
    "start_time": "2023-01-21T10:04:21.148Z"
   },
   {
    "duration": 9,
    "start_time": "2023-01-21T10:04:21.384Z"
   },
   {
    "duration": 17,
    "start_time": "2023-01-21T10:04:21.618Z"
   },
   {
    "duration": 13,
    "start_time": "2023-01-21T10:04:21.851Z"
   },
   {
    "duration": 5,
    "start_time": "2023-01-21T10:04:22.056Z"
   },
   {
    "duration": 27,
    "start_time": "2023-01-21T10:04:22.277Z"
   },
   {
    "duration": 8,
    "start_time": "2023-01-21T10:04:22.451Z"
   },
   {
    "duration": 7,
    "start_time": "2023-01-21T10:04:22.670Z"
   },
   {
    "duration": 18,
    "start_time": "2023-01-21T10:04:24.504Z"
   },
   {
    "duration": 17,
    "start_time": "2023-01-21T10:04:24.914Z"
   },
   {
    "duration": 12,
    "start_time": "2023-01-21T10:04:25.707Z"
   },
   {
    "duration": 11,
    "start_time": "2023-01-21T10:04:25.930Z"
   },
   {
    "duration": 32,
    "start_time": "2023-01-21T10:04:26.379Z"
   },
   {
    "duration": 154,
    "start_time": "2023-01-21T10:04:27.110Z"
   },
   {
    "duration": 4,
    "start_time": "2023-01-21T10:04:53.810Z"
   },
   {
    "duration": 151,
    "start_time": "2023-01-21T10:04:54.466Z"
   },
   {
    "duration": 12,
    "start_time": "2023-01-21T10:04:55.058Z"
   },
   {
    "duration": 5,
    "start_time": "2023-01-21T10:04:55.569Z"
   },
   {
    "duration": 15,
    "start_time": "2023-01-21T10:04:55.807Z"
   },
   {
    "duration": 8,
    "start_time": "2023-01-21T10:04:56.122Z"
   },
   {
    "duration": 7,
    "start_time": "2023-01-21T10:04:56.319Z"
   },
   {
    "duration": 14,
    "start_time": "2023-01-21T10:04:56.530Z"
   },
   {
    "duration": 15,
    "start_time": "2023-01-21T10:04:56.805Z"
   },
   {
    "duration": 7,
    "start_time": "2023-01-21T10:04:57.004Z"
   },
   {
    "duration": 12,
    "start_time": "2023-01-21T10:04:57.264Z"
   },
   {
    "duration": 9,
    "start_time": "2023-01-21T10:04:57.474Z"
   },
   {
    "duration": 8,
    "start_time": "2023-01-21T10:04:57.700Z"
   },
   {
    "duration": 15,
    "start_time": "2023-01-21T10:04:57.929Z"
   },
   {
    "duration": 18,
    "start_time": "2023-01-21T10:04:58.219Z"
   },
   {
    "duration": 6,
    "start_time": "2023-01-21T10:04:58.475Z"
   },
   {
    "duration": 15,
    "start_time": "2023-01-21T10:04:58.625Z"
   },
   {
    "duration": 8,
    "start_time": "2023-01-21T10:04:58.936Z"
   },
   {
    "duration": 7,
    "start_time": "2023-01-21T10:04:59.126Z"
   },
   {
    "duration": 19,
    "start_time": "2023-01-21T10:05:00.105Z"
   },
   {
    "duration": 23,
    "start_time": "2023-01-21T10:05:00.605Z"
   },
   {
    "duration": 12,
    "start_time": "2023-01-21T10:05:01.463Z"
   },
   {
    "duration": 13,
    "start_time": "2023-01-21T10:05:01.702Z"
   },
   {
    "duration": 24,
    "start_time": "2023-01-21T10:05:02.120Z"
   },
   {
    "duration": 158,
    "start_time": "2023-01-21T10:05:02.706Z"
   },
   {
    "duration": 733,
    "start_time": "2023-01-21T10:06:32.779Z"
   },
   {
    "duration": 235,
    "start_time": "2023-01-21T10:06:40.824Z"
   },
   {
    "duration": 369,
    "start_time": "2023-01-21T10:06:44.480Z"
   },
   {
    "duration": 268,
    "start_time": "2023-01-21T10:06:46.727Z"
   },
   {
    "duration": 363,
    "start_time": "2023-01-21T10:06:48.575Z"
   },
   {
    "duration": 254,
    "start_time": "2023-01-21T10:06:55.746Z"
   },
   {
    "duration": 193,
    "start_time": "2023-01-21T10:06:57.476Z"
   },
   {
    "duration": 7,
    "start_time": "2023-01-21T10:06:59.369Z"
   },
   {
    "duration": 5,
    "start_time": "2023-01-21T10:07:00.311Z"
   },
   {
    "duration": 1341,
    "start_time": "2023-01-21T10:07:02.204Z"
   },
   {
    "duration": 1063,
    "start_time": "2023-01-21T10:09:35.760Z"
   },
   {
    "duration": 161,
    "start_time": "2023-01-21T10:10:05.908Z"
   },
   {
    "duration": 186,
    "start_time": "2023-01-21T10:10:30.675Z"
   },
   {
    "duration": 191,
    "start_time": "2023-01-21T10:10:54.879Z"
   },
   {
    "duration": 161,
    "start_time": "2023-01-21T10:12:00.907Z"
   },
   {
    "duration": 169,
    "start_time": "2023-01-21T10:12:28.646Z"
   },
   {
    "duration": 95,
    "start_time": "2023-01-21T10:18:12.497Z"
   },
   {
    "duration": 108,
    "start_time": "2023-01-21T10:19:22.631Z"
   },
   {
    "duration": 6,
    "start_time": "2023-01-21T10:19:30.922Z"
   },
   {
    "duration": 6,
    "start_time": "2023-01-21T10:19:51.977Z"
   },
   {
    "duration": 12,
    "start_time": "2023-01-21T11:45:21.437Z"
   },
   {
    "duration": 16,
    "start_time": "2023-01-21T11:46:54.725Z"
   },
   {
    "duration": 18,
    "start_time": "2023-01-21T11:47:18.127Z"
   },
   {
    "duration": 61,
    "start_time": "2023-01-21T11:55:09.432Z"
   },
   {
    "duration": 5,
    "start_time": "2023-01-21T11:55:21.150Z"
   },
   {
    "duration": 1342,
    "start_time": "2023-01-21T11:55:28.933Z"
   },
   {
    "duration": 252,
    "start_time": "2023-01-21T11:55:30.278Z"
   },
   {
    "duration": 14,
    "start_time": "2023-01-21T11:55:30.531Z"
   },
   {
    "duration": 20,
    "start_time": "2023-01-21T11:55:30.547Z"
   },
   {
    "duration": 19,
    "start_time": "2023-01-21T11:55:30.569Z"
   },
   {
    "duration": 37,
    "start_time": "2023-01-21T11:55:30.589Z"
   },
   {
    "duration": 46,
    "start_time": "2023-01-21T11:55:30.628Z"
   },
   {
    "duration": 36,
    "start_time": "2023-01-21T11:55:30.675Z"
   },
   {
    "duration": 42,
    "start_time": "2023-01-21T11:55:30.713Z"
   },
   {
    "duration": 26,
    "start_time": "2023-01-21T11:55:30.758Z"
   },
   {
    "duration": 31,
    "start_time": "2023-01-21T11:55:30.786Z"
   },
   {
    "duration": 16,
    "start_time": "2023-01-21T11:55:30.819Z"
   },
   {
    "duration": 25,
    "start_time": "2023-01-21T11:55:30.836Z"
   },
   {
    "duration": 25,
    "start_time": "2023-01-21T11:55:30.862Z"
   },
   {
    "duration": 32,
    "start_time": "2023-01-21T11:55:30.889Z"
   },
   {
    "duration": 21,
    "start_time": "2023-01-21T11:55:30.922Z"
   },
   {
    "duration": 41,
    "start_time": "2023-01-21T11:55:30.945Z"
   },
   {
    "duration": 28,
    "start_time": "2023-01-21T11:55:30.988Z"
   },
   {
    "duration": 30,
    "start_time": "2023-01-21T11:55:31.018Z"
   },
   {
    "duration": 25,
    "start_time": "2023-01-21T11:55:31.050Z"
   },
   {
    "duration": 21,
    "start_time": "2023-01-21T11:55:31.077Z"
   },
   {
    "duration": 20,
    "start_time": "2023-01-21T11:55:31.099Z"
   },
   {
    "duration": 23,
    "start_time": "2023-01-21T11:55:31.121Z"
   },
   {
    "duration": 621,
    "start_time": "2023-01-21T11:55:31.145Z"
   },
   {
    "duration": 205,
    "start_time": "2023-01-21T11:55:31.768Z"
   },
   {
    "duration": 352,
    "start_time": "2023-01-21T11:55:31.975Z"
   },
   {
    "duration": 217,
    "start_time": "2023-01-21T11:55:32.329Z"
   },
   {
    "duration": 333,
    "start_time": "2023-01-21T11:55:32.549Z"
   },
   {
    "duration": 163,
    "start_time": "2023-01-21T11:55:32.884Z"
   },
   {
    "duration": 135,
    "start_time": "2023-01-21T11:55:33.049Z"
   },
   {
    "duration": 9,
    "start_time": "2023-01-21T11:55:33.185Z"
   },
   {
    "duration": 7,
    "start_time": "2023-01-21T11:55:33.196Z"
   },
   {
    "duration": 238,
    "start_time": "2023-01-21T11:55:33.205Z"
   },
   {
    "duration": 148,
    "start_time": "2023-01-21T11:55:33.444Z"
   },
   {
    "duration": 4,
    "start_time": "2023-01-21T11:55:33.593Z"
   },
   {
    "duration": 6,
    "start_time": "2023-01-21T11:55:33.599Z"
   },
   {
    "duration": 467,
    "start_time": "2023-01-21T11:55:33.607Z"
   },
   {
    "duration": 370,
    "start_time": "2023-01-21T11:56:06.609Z"
   },
   {
    "duration": 4,
    "start_time": "2023-01-21T11:56:33.133Z"
   },
   {
    "duration": 379,
    "start_time": "2023-01-21T11:56:37.203Z"
   },
   {
    "duration": 12,
    "start_time": "2023-01-21T12:06:40.789Z"
   },
   {
    "duration": 799,
    "start_time": "2023-01-21T16:38:15.291Z"
   },
   {
    "duration": 13,
    "start_time": "2023-01-21T16:38:32.066Z"
   },
   {
    "duration": 8,
    "start_time": "2023-01-21T16:39:11.961Z"
   },
   {
    "duration": 9,
    "start_time": "2023-01-21T16:40:06.418Z"
   },
   {
    "duration": 9,
    "start_time": "2023-01-21T16:40:21.164Z"
   },
   {
    "duration": 8,
    "start_time": "2023-01-21T16:43:30.755Z"
   },
   {
    "duration": 8,
    "start_time": "2023-01-21T16:43:41.390Z"
   },
   {
    "duration": 697,
    "start_time": "2023-01-21T16:44:28.448Z"
   },
   {
    "duration": 30,
    "start_time": "2023-01-21T16:44:49.007Z"
   },
   {
    "duration": 8,
    "start_time": "2023-01-21T16:48:53.625Z"
   },
   {
    "duration": 24,
    "start_time": "2023-01-21T16:50:52.500Z"
   },
   {
    "duration": 16,
    "start_time": "2023-01-21T16:57:55.957Z"
   },
   {
    "duration": 1117,
    "start_time": "2023-01-21T17:04:22.283Z"
   },
   {
    "duration": 108,
    "start_time": "2023-01-21T17:04:23.401Z"
   },
   {
    "duration": 11,
    "start_time": "2023-01-21T17:04:23.511Z"
   },
   {
    "duration": 3,
    "start_time": "2023-01-21T17:04:23.524Z"
   },
   {
    "duration": 13,
    "start_time": "2023-01-21T17:04:23.529Z"
   },
   {
    "duration": 8,
    "start_time": "2023-01-21T17:04:23.544Z"
   },
   {
    "duration": 14,
    "start_time": "2023-01-21T17:04:23.553Z"
   },
   {
    "duration": 12,
    "start_time": "2023-01-21T17:04:23.569Z"
   },
   {
    "duration": 15,
    "start_time": "2023-01-21T17:04:23.583Z"
   },
   {
    "duration": 4,
    "start_time": "2023-01-21T17:04:23.601Z"
   },
   {
    "duration": 17,
    "start_time": "2023-01-21T17:04:23.607Z"
   },
   {
    "duration": 7,
    "start_time": "2023-01-21T17:04:23.626Z"
   },
   {
    "duration": 7,
    "start_time": "2023-01-21T17:04:23.634Z"
   },
   {
    "duration": 9,
    "start_time": "2023-01-21T17:04:23.642Z"
   },
   {
    "duration": 10,
    "start_time": "2023-01-21T17:04:23.653Z"
   },
   {
    "duration": 4,
    "start_time": "2023-01-21T17:04:23.691Z"
   },
   {
    "duration": 14,
    "start_time": "2023-01-21T17:04:23.697Z"
   },
   {
    "duration": 6,
    "start_time": "2023-01-21T17:04:23.713Z"
   },
   {
    "duration": 8,
    "start_time": "2023-01-21T17:04:23.721Z"
   },
   {
    "duration": 13,
    "start_time": "2023-01-21T17:04:23.730Z"
   },
   {
    "duration": 11,
    "start_time": "2023-01-21T17:04:23.745Z"
   },
   {
    "duration": 37,
    "start_time": "2023-01-21T17:04:23.757Z"
   },
   {
    "duration": 9,
    "start_time": "2023-01-21T17:04:23.797Z"
   },
   {
    "duration": 556,
    "start_time": "2023-01-21T17:04:23.808Z"
   },
   {
    "duration": 195,
    "start_time": "2023-01-21T17:04:24.365Z"
   },
   {
    "duration": 302,
    "start_time": "2023-01-21T17:04:24.562Z"
   },
   {
    "duration": 216,
    "start_time": "2023-01-21T17:04:24.866Z"
   },
   {
    "duration": 302,
    "start_time": "2023-01-21T17:04:25.091Z"
   },
   {
    "duration": 137,
    "start_time": "2023-01-21T17:04:25.395Z"
   },
   {
    "duration": 144,
    "start_time": "2023-01-21T17:04:25.534Z"
   },
   {
    "duration": 5,
    "start_time": "2023-01-21T17:04:25.680Z"
   },
   {
    "duration": 9,
    "start_time": "2023-01-21T17:04:25.687Z"
   },
   {
    "duration": 239,
    "start_time": "2023-01-21T17:04:25.698Z"
   },
   {
    "duration": 180,
    "start_time": "2023-01-21T17:04:25.939Z"
   },
   {
    "duration": 5,
    "start_time": "2023-01-21T17:04:26.121Z"
   },
   {
    "duration": 15,
    "start_time": "2023-01-21T17:04:26.128Z"
   },
   {
    "duration": 423,
    "start_time": "2023-01-21T17:04:26.145Z"
   },
   {
    "duration": 10,
    "start_time": "2023-01-21T17:04:26.570Z"
   },
   {
    "duration": 7,
    "start_time": "2023-01-21T17:04:26.592Z"
   },
   {
    "duration": 26,
    "start_time": "2023-01-21T17:04:26.600Z"
   },
   {
    "duration": 13,
    "start_time": "2023-01-21T17:04:26.628Z"
   },
   {
    "duration": 3,
    "start_time": "2023-01-21T17:04:31.336Z"
   },
   {
    "duration": 103,
    "start_time": "2023-01-21T17:04:31.948Z"
   },
   {
    "duration": 8,
    "start_time": "2023-01-21T17:04:32.211Z"
   },
   {
    "duration": 3,
    "start_time": "2023-01-21T17:04:32.479Z"
   },
   {
    "duration": 11,
    "start_time": "2023-01-21T17:04:32.697Z"
   },
   {
    "duration": 6,
    "start_time": "2023-01-21T17:04:32.958Z"
   },
   {
    "duration": 6,
    "start_time": "2023-01-21T17:04:33.199Z"
   },
   {
    "duration": 12,
    "start_time": "2023-01-21T17:04:33.459Z"
   },
   {
    "duration": 11,
    "start_time": "2023-01-21T17:04:33.695Z"
   },
   {
    "duration": 5,
    "start_time": "2023-01-21T17:04:33.951Z"
   },
   {
    "duration": 10,
    "start_time": "2023-01-21T17:04:34.201Z"
   },
   {
    "duration": 7,
    "start_time": "2023-01-21T17:04:34.532Z"
   },
   {
    "duration": 6,
    "start_time": "2023-01-21T17:04:35.001Z"
   },
   {
    "duration": 11,
    "start_time": "2023-01-21T17:04:35.269Z"
   },
   {
    "duration": 11,
    "start_time": "2023-01-21T17:04:35.493Z"
   },
   {
    "duration": 4,
    "start_time": "2023-01-21T17:04:35.760Z"
   },
   {
    "duration": 11,
    "start_time": "2023-01-21T17:04:36.059Z"
   },
   {
    "duration": 8,
    "start_time": "2023-01-21T17:04:36.318Z"
   },
   {
    "duration": 5,
    "start_time": "2023-01-21T17:04:36.547Z"
   },
   {
    "duration": 12,
    "start_time": "2023-01-21T17:04:37.607Z"
   },
   {
    "duration": 12,
    "start_time": "2023-01-21T17:04:38.016Z"
   },
   {
    "duration": 8,
    "start_time": "2023-01-21T17:04:39.038Z"
   },
   {
    "duration": 9,
    "start_time": "2023-01-21T17:04:39.517Z"
   },
   {
    "duration": 468,
    "start_time": "2023-01-21T17:04:40.114Z"
   },
   {
    "duration": 186,
    "start_time": "2023-01-21T17:04:40.813Z"
   },
   {
    "duration": 293,
    "start_time": "2023-01-21T17:04:41.646Z"
   },
   {
    "duration": 211,
    "start_time": "2023-01-21T17:04:42.571Z"
   },
   {
    "duration": 302,
    "start_time": "2023-01-21T17:04:43.393Z"
   },
   {
    "duration": 127,
    "start_time": "2023-01-21T17:04:44.222Z"
   },
   {
    "duration": 133,
    "start_time": "2023-01-21T17:04:44.506Z"
   },
   {
    "duration": 5,
    "start_time": "2023-01-21T17:04:45.242Z"
   },
   {
    "duration": 5,
    "start_time": "2023-01-21T17:04:45.518Z"
   },
   {
    "duration": 163,
    "start_time": "2023-01-21T17:04:46.268Z"
   },
   {
    "duration": 173,
    "start_time": "2023-01-21T17:04:46.541Z"
   },
   {
    "duration": 4,
    "start_time": "2023-01-21T17:04:48.037Z"
   },
   {
    "duration": 4,
    "start_time": "2023-01-21T17:04:48.854Z"
   },
   {
    "duration": 363,
    "start_time": "2023-01-21T17:04:54.046Z"
   },
   {
    "duration": 12,
    "start_time": "2023-01-21T17:05:02.409Z"
   },
   {
    "duration": 46,
    "start_time": "2023-01-21T17:05:38.764Z"
   },
   {
    "duration": 9,
    "start_time": "2023-01-21T17:06:25.262Z"
   },
   {
    "duration": 25,
    "start_time": "2023-01-21T17:06:25.657Z"
   },
   {
    "duration": 14,
    "start_time": "2023-01-21T17:06:26.844Z"
   },
   {
    "duration": 435,
    "start_time": "2023-01-21T17:18:34.357Z"
   },
   {
    "duration": 1140,
    "start_time": "2023-01-21T18:55:06.926Z"
   },
   {
    "duration": 104,
    "start_time": "2023-01-21T18:55:08.068Z"
   },
   {
    "duration": 12,
    "start_time": "2023-01-21T18:55:08.173Z"
   },
   {
    "duration": 3,
    "start_time": "2023-01-21T18:55:08.188Z"
   },
   {
    "duration": 18,
    "start_time": "2023-01-21T18:55:08.193Z"
   },
   {
    "duration": 8,
    "start_time": "2023-01-21T18:55:08.212Z"
   },
   {
    "duration": 7,
    "start_time": "2023-01-21T18:55:08.221Z"
   },
   {
    "duration": 13,
    "start_time": "2023-01-21T18:55:08.229Z"
   },
   {
    "duration": 11,
    "start_time": "2023-01-21T18:55:08.243Z"
   },
   {
    "duration": 5,
    "start_time": "2023-01-21T18:55:08.256Z"
   },
   {
    "duration": 36,
    "start_time": "2023-01-21T18:55:08.262Z"
   },
   {
    "duration": 10,
    "start_time": "2023-01-21T18:55:08.300Z"
   },
   {
    "duration": 7,
    "start_time": "2023-01-21T18:55:08.312Z"
   },
   {
    "duration": 10,
    "start_time": "2023-01-21T18:55:08.321Z"
   },
   {
    "duration": 22,
    "start_time": "2023-01-21T18:55:08.333Z"
   },
   {
    "duration": 5,
    "start_time": "2023-01-21T18:55:08.357Z"
   },
   {
    "duration": 13,
    "start_time": "2023-01-21T18:55:08.363Z"
   },
   {
    "duration": 6,
    "start_time": "2023-01-21T18:55:08.392Z"
   },
   {
    "duration": 7,
    "start_time": "2023-01-21T18:55:08.400Z"
   },
   {
    "duration": 15,
    "start_time": "2023-01-21T18:55:08.408Z"
   },
   {
    "duration": 12,
    "start_time": "2023-01-21T18:55:08.425Z"
   },
   {
    "duration": 9,
    "start_time": "2023-01-21T18:55:08.439Z"
   },
   {
    "duration": 10,
    "start_time": "2023-01-21T18:55:08.449Z"
   },
   {
    "duration": 557,
    "start_time": "2023-01-21T18:55:08.493Z"
   },
   {
    "duration": 199,
    "start_time": "2023-01-21T18:55:09.052Z"
   },
   {
    "duration": 285,
    "start_time": "2023-01-21T18:55:09.253Z"
   },
   {
    "duration": 210,
    "start_time": "2023-01-21T18:55:09.540Z"
   },
   {
    "duration": 312,
    "start_time": "2023-01-21T18:55:09.754Z"
   },
   {
    "duration": 147,
    "start_time": "2023-01-21T18:55:10.068Z"
   },
   {
    "duration": 149,
    "start_time": "2023-01-21T18:55:10.217Z"
   },
   {
    "duration": 4,
    "start_time": "2023-01-21T18:55:10.368Z"
   },
   {
    "duration": 6,
    "start_time": "2023-01-21T18:55:10.373Z"
   },
   {
    "duration": 212,
    "start_time": "2023-01-21T18:55:10.391Z"
   },
   {
    "duration": 148,
    "start_time": "2023-01-21T18:55:10.605Z"
   },
   {
    "duration": 3,
    "start_time": "2023-01-21T18:55:10.755Z"
   },
   {
    "duration": 6,
    "start_time": "2023-01-21T18:55:10.760Z"
   },
   {
    "duration": 365,
    "start_time": "2023-01-21T18:55:10.768Z"
   },
   {
    "duration": 9,
    "start_time": "2023-01-21T18:55:11.135Z"
   },
   {
    "duration": 10,
    "start_time": "2023-01-21T18:55:11.146Z"
   },
   {
    "duration": 47,
    "start_time": "2023-01-21T18:55:11.158Z"
   },
   {
    "duration": 15,
    "start_time": "2023-01-21T18:55:11.206Z"
   },
   {
    "duration": 4,
    "start_time": "2023-01-21T18:55:16.260Z"
   },
   {
    "duration": 96,
    "start_time": "2023-01-21T18:55:16.932Z"
   },
   {
    "duration": 9,
    "start_time": "2023-01-21T18:55:17.605Z"
   },
   {
    "duration": 3,
    "start_time": "2023-01-21T18:55:17.948Z"
   },
   {
    "duration": 10,
    "start_time": "2023-01-21T18:55:18.346Z"
   },
   {
    "duration": 6,
    "start_time": "2023-01-21T18:55:18.753Z"
   },
   {
    "duration": 5,
    "start_time": "2023-01-21T18:55:19.132Z"
   },
   {
    "duration": 13,
    "start_time": "2023-01-21T18:55:19.427Z"
   },
   {
    "duration": 10,
    "start_time": "2023-01-21T18:55:19.839Z"
   },
   {
    "duration": 5,
    "start_time": "2023-01-21T18:55:20.300Z"
   },
   {
    "duration": 11,
    "start_time": "2023-01-21T18:55:20.787Z"
   },
   {
    "duration": 7,
    "start_time": "2023-01-21T18:55:21.205Z"
   },
   {
    "duration": 6,
    "start_time": "2023-01-21T18:55:21.523Z"
   },
   {
    "duration": 12,
    "start_time": "2023-01-21T18:55:21.751Z"
   },
   {
    "duration": 11,
    "start_time": "2023-01-21T18:55:22.190Z"
   },
   {
    "duration": 4,
    "start_time": "2023-01-21T18:55:22.479Z"
   },
   {
    "duration": 10,
    "start_time": "2023-01-21T18:55:22.719Z"
   },
   {
    "duration": 6,
    "start_time": "2023-01-21T18:55:22.966Z"
   },
   {
    "duration": 5,
    "start_time": "2023-01-21T18:55:23.266Z"
   },
   {
    "duration": 10,
    "start_time": "2023-01-21T18:55:24.379Z"
   },
   {
    "duration": 13,
    "start_time": "2023-01-21T18:55:24.990Z"
   },
   {
    "duration": 9,
    "start_time": "2023-01-21T18:55:26.451Z"
   },
   {
    "duration": 9,
    "start_time": "2023-01-21T18:55:26.732Z"
   },
   {
    "duration": 451,
    "start_time": "2023-01-21T18:55:27.631Z"
   },
   {
    "duration": 178,
    "start_time": "2023-01-21T18:55:29.579Z"
   },
   {
    "duration": 309,
    "start_time": "2023-01-21T18:55:31.966Z"
   },
   {
    "duration": 191,
    "start_time": "2023-01-21T18:55:34.428Z"
   },
   {
    "duration": 265,
    "start_time": "2023-01-21T18:55:37.144Z"
   },
   {
    "duration": 125,
    "start_time": "2023-01-21T18:55:39.805Z"
   },
   {
    "duration": 123,
    "start_time": "2023-01-21T18:55:40.348Z"
   },
   {
    "duration": 4,
    "start_time": "2023-01-21T18:55:42.753Z"
   },
   {
    "duration": 4,
    "start_time": "2023-01-21T18:55:43.189Z"
   },
   {
    "duration": 137,
    "start_time": "2023-01-21T18:55:45.171Z"
   },
   {
    "duration": 166,
    "start_time": "2023-01-21T18:55:45.952Z"
   },
   {
    "duration": 5,
    "start_time": "2023-01-21T18:55:49.236Z"
   },
   {
    "duration": 3,
    "start_time": "2023-01-21T18:55:49.611Z"
   },
   {
    "duration": 352,
    "start_time": "2023-01-21T18:55:50.606Z"
   },
   {
    "duration": 12,
    "start_time": "2023-01-21T18:55:51.522Z"
   },
   {
    "duration": 10,
    "start_time": "2023-01-21T18:55:52.367Z"
   },
   {
    "duration": 24,
    "start_time": "2023-01-21T18:55:52.655Z"
   },
   {
    "duration": 15,
    "start_time": "2023-01-21T18:55:53.774Z"
   },
   {
    "duration": 1244,
    "start_time": "2023-01-21T19:54:25.008Z"
   },
   {
    "duration": 302,
    "start_time": "2023-01-21T19:54:26.254Z"
   },
   {
    "duration": 10,
    "start_time": "2023-01-21T19:54:26.558Z"
   },
   {
    "duration": 12,
    "start_time": "2023-01-21T19:54:26.570Z"
   },
   {
    "duration": 28,
    "start_time": "2023-01-21T19:54:26.583Z"
   },
   {
    "duration": 9,
    "start_time": "2023-01-21T19:54:26.612Z"
   },
   {
    "duration": 8,
    "start_time": "2023-01-21T19:54:26.622Z"
   },
   {
    "duration": 12,
    "start_time": "2023-01-21T19:54:26.631Z"
   },
   {
    "duration": 11,
    "start_time": "2023-01-21T19:54:26.645Z"
   },
   {
    "duration": 5,
    "start_time": "2023-01-21T19:54:26.658Z"
   },
   {
    "duration": 11,
    "start_time": "2023-01-21T19:54:26.665Z"
   },
   {
    "duration": 15,
    "start_time": "2023-01-21T19:54:26.678Z"
   },
   {
    "duration": 6,
    "start_time": "2023-01-21T19:54:26.695Z"
   },
   {
    "duration": 9,
    "start_time": "2023-01-21T19:54:26.703Z"
   },
   {
    "duration": 10,
    "start_time": "2023-01-21T19:54:26.713Z"
   },
   {
    "duration": 21,
    "start_time": "2023-01-21T19:54:26.725Z"
   },
   {
    "duration": 16,
    "start_time": "2023-01-21T19:54:26.747Z"
   },
   {
    "duration": 7,
    "start_time": "2023-01-21T19:54:26.764Z"
   },
   {
    "duration": 7,
    "start_time": "2023-01-21T19:54:26.772Z"
   },
   {
    "duration": 13,
    "start_time": "2023-01-21T19:54:26.780Z"
   },
   {
    "duration": 12,
    "start_time": "2023-01-21T19:54:26.795Z"
   },
   {
    "duration": 11,
    "start_time": "2023-01-21T19:54:26.809Z"
   },
   {
    "duration": 40,
    "start_time": "2023-01-21T19:54:26.821Z"
   },
   {
    "duration": 529,
    "start_time": "2023-01-21T19:54:26.863Z"
   },
   {
    "duration": 250,
    "start_time": "2023-01-21T19:54:27.394Z"
   },
   {
    "duration": 516,
    "start_time": "2023-01-21T19:54:27.647Z"
   },
   {
    "duration": 419,
    "start_time": "2023-01-21T19:54:28.165Z"
   },
   {
    "duration": 488,
    "start_time": "2023-01-21T19:54:28.587Z"
   },
   {
    "duration": 287,
    "start_time": "2023-01-21T19:54:29.077Z"
   },
   {
    "duration": 221,
    "start_time": "2023-01-21T19:54:29.366Z"
   },
   {
    "duration": 4,
    "start_time": "2023-01-21T19:54:29.589Z"
   },
   {
    "duration": 11,
    "start_time": "2023-01-21T19:54:29.595Z"
   },
   {
    "duration": 211,
    "start_time": "2023-01-21T19:54:29.608Z"
   },
   {
    "duration": 124,
    "start_time": "2023-01-21T19:54:29.821Z"
   },
   {
    "duration": 4,
    "start_time": "2023-01-21T19:54:29.947Z"
   },
   {
    "duration": 13,
    "start_time": "2023-01-21T19:54:29.953Z"
   },
   {
    "duration": 356,
    "start_time": "2023-01-21T19:54:29.967Z"
   },
   {
    "duration": 20,
    "start_time": "2023-01-21T19:54:30.325Z"
   },
   {
    "duration": 30,
    "start_time": "2023-01-21T19:54:30.347Z"
   },
   {
    "duration": 93,
    "start_time": "2023-01-21T19:54:30.379Z"
   },
   {
    "duration": 14,
    "start_time": "2023-01-21T19:54:30.474Z"
   },
   {
    "duration": 45,
    "start_time": "2023-01-23T09:14:42.404Z"
   },
   {
    "duration": 1322,
    "start_time": "2023-01-23T09:14:51.351Z"
   },
   {
    "duration": 264,
    "start_time": "2023-01-23T09:14:52.676Z"
   },
   {
    "duration": 14,
    "start_time": "2023-01-23T09:14:52.941Z"
   },
   {
    "duration": 3,
    "start_time": "2023-01-23T09:14:52.958Z"
   },
   {
    "duration": 14,
    "start_time": "2023-01-23T09:14:52.963Z"
   },
   {
    "duration": 9,
    "start_time": "2023-01-23T09:14:52.979Z"
   },
   {
    "duration": 9,
    "start_time": "2023-01-23T09:14:52.989Z"
   },
   {
    "duration": 23,
    "start_time": "2023-01-23T09:14:53.000Z"
   },
   {
    "duration": 21,
    "start_time": "2023-01-23T09:14:53.025Z"
   },
   {
    "duration": 8,
    "start_time": "2023-01-23T09:14:53.050Z"
   },
   {
    "duration": 15,
    "start_time": "2023-01-23T09:14:53.060Z"
   },
   {
    "duration": 12,
    "start_time": "2023-01-23T09:14:53.077Z"
   },
   {
    "duration": 8,
    "start_time": "2023-01-23T09:14:53.091Z"
   },
   {
    "duration": 29,
    "start_time": "2023-01-23T09:14:53.101Z"
   },
   {
    "duration": 11,
    "start_time": "2023-01-23T09:14:53.132Z"
   },
   {
    "duration": 7,
    "start_time": "2023-01-23T09:14:53.145Z"
   },
   {
    "duration": 17,
    "start_time": "2023-01-23T09:14:53.154Z"
   },
   {
    "duration": 8,
    "start_time": "2023-01-23T09:14:53.173Z"
   },
   {
    "duration": 17,
    "start_time": "2023-01-23T09:14:53.183Z"
   },
   {
    "duration": 37,
    "start_time": "2023-01-23T09:14:53.201Z"
   },
   {
    "duration": 19,
    "start_time": "2023-01-23T09:14:53.239Z"
   },
   {
    "duration": 22,
    "start_time": "2023-01-23T09:14:53.259Z"
   },
   {
    "duration": 20,
    "start_time": "2023-01-23T09:14:53.283Z"
   },
   {
    "duration": 566,
    "start_time": "2023-01-23T09:14:53.304Z"
   },
   {
    "duration": 208,
    "start_time": "2023-01-23T09:14:53.872Z"
   },
   {
    "duration": 379,
    "start_time": "2023-01-23T09:14:54.083Z"
   },
   {
    "duration": 269,
    "start_time": "2023-01-23T09:14:54.464Z"
   },
   {
    "duration": 287,
    "start_time": "2023-01-23T09:14:54.737Z"
   },
   {
    "duration": 166,
    "start_time": "2023-01-23T09:14:55.026Z"
   },
   {
    "duration": 141,
    "start_time": "2023-01-23T09:14:55.194Z"
   },
   {
    "duration": 4,
    "start_time": "2023-01-23T09:14:55.337Z"
   },
   {
    "duration": 6,
    "start_time": "2023-01-23T09:14:55.343Z"
   },
   {
    "duration": 230,
    "start_time": "2023-01-23T09:14:55.351Z"
   },
   {
    "duration": 147,
    "start_time": "2023-01-23T09:14:55.582Z"
   },
   {
    "duration": 4,
    "start_time": "2023-01-23T09:14:55.730Z"
   },
   {
    "duration": 6,
    "start_time": "2023-01-23T09:14:55.736Z"
   },
   {
    "duration": 404,
    "start_time": "2023-01-23T09:14:55.744Z"
   },
   {
    "duration": 12,
    "start_time": "2023-01-23T09:14:56.150Z"
   },
   {
    "duration": 8,
    "start_time": "2023-01-23T09:14:56.164Z"
   },
   {
    "duration": 49,
    "start_time": "2023-01-23T09:14:56.174Z"
   },
   {
    "duration": 14,
    "start_time": "2023-01-23T09:14:56.225Z"
   },
   {
    "duration": 12,
    "start_time": "2023-01-23T09:17:17.654Z"
   },
   {
    "duration": 12,
    "start_time": "2023-01-23T09:17:33.831Z"
   },
   {
    "duration": 11,
    "start_time": "2023-01-23T09:18:42.587Z"
   },
   {
    "duration": 5,
    "start_time": "2023-01-23T09:20:51.068Z"
   },
   {
    "duration": 105,
    "start_time": "2023-01-23T09:29:08.436Z"
   },
   {
    "duration": 12,
    "start_time": "2023-01-23T09:29:28.663Z"
   },
   {
    "duration": 8,
    "start_time": "2023-01-23T09:30:25.287Z"
   },
   {
    "duration": 17,
    "start_time": "2023-01-23T09:31:12.471Z"
   },
   {
    "duration": 49,
    "start_time": "2023-01-23T09:34:14.550Z"
   },
   {
    "duration": 11,
    "start_time": "2023-01-23T09:34:24.469Z"
   },
   {
    "duration": 1096,
    "start_time": "2023-01-23T09:34:39.248Z"
   },
   {
    "duration": 818,
    "start_time": "2023-01-23T09:35:07.282Z"
   },
   {
    "duration": 10,
    "start_time": "2023-01-23T09:35:16.822Z"
   },
   {
    "duration": 9,
    "start_time": "2023-01-23T09:35:17.852Z"
   },
   {
    "duration": 830,
    "start_time": "2023-01-23T09:35:18.935Z"
   },
   {
    "duration": 769,
    "start_time": "2023-01-23T09:36:23.270Z"
   },
   {
    "duration": 13,
    "start_time": "2023-01-23T09:38:13.670Z"
   },
   {
    "duration": 16,
    "start_time": "2023-01-23T09:38:39.327Z"
   },
   {
    "duration": 15,
    "start_time": "2023-01-23T09:38:57.829Z"
   },
   {
    "duration": 761,
    "start_time": "2023-01-23T10:04:54.781Z"
   },
   {
    "duration": 4,
    "start_time": "2023-01-23T10:06:31.836Z"
   },
   {
    "duration": 17,
    "start_time": "2023-01-23T10:07:01.991Z"
   },
   {
    "duration": 818,
    "start_time": "2023-01-23T10:07:38.369Z"
   },
   {
    "duration": 845,
    "start_time": "2023-01-23T10:08:59.495Z"
   },
   {
    "duration": 34,
    "start_time": "2023-01-23T10:09:18.138Z"
   },
   {
    "duration": 6,
    "start_time": "2023-01-23T10:09:38.882Z"
   },
   {
    "duration": 7,
    "start_time": "2023-01-23T10:09:46.480Z"
   },
   {
    "duration": 7,
    "start_time": "2023-01-23T10:10:00.374Z"
   },
   {
    "duration": 14,
    "start_time": "2023-01-23T10:10:05.409Z"
   },
   {
    "duration": 7,
    "start_time": "2023-01-23T10:10:10.073Z"
   },
   {
    "duration": 6,
    "start_time": "2023-01-23T10:10:10.814Z"
   },
   {
    "duration": 1224,
    "start_time": "2023-01-23T10:10:20.823Z"
   },
   {
    "duration": 99,
    "start_time": "2023-01-23T10:10:22.049Z"
   },
   {
    "duration": 11,
    "start_time": "2023-01-23T10:10:22.150Z"
   },
   {
    "duration": 3,
    "start_time": "2023-01-23T10:10:22.164Z"
   },
   {
    "duration": 13,
    "start_time": "2023-01-23T10:10:22.169Z"
   },
   {
    "duration": 9,
    "start_time": "2023-01-23T10:10:22.184Z"
   },
   {
    "duration": 14,
    "start_time": "2023-01-23T10:10:22.196Z"
   },
   {
    "duration": 24,
    "start_time": "2023-01-23T10:10:22.211Z"
   },
   {
    "duration": 17,
    "start_time": "2023-01-23T10:10:22.237Z"
   },
   {
    "duration": 11,
    "start_time": "2023-01-23T10:10:22.257Z"
   },
   {
    "duration": 14,
    "start_time": "2023-01-23T10:10:22.270Z"
   },
   {
    "duration": 6,
    "start_time": "2023-01-23T10:10:22.286Z"
   },
   {
    "duration": 9,
    "start_time": "2023-01-23T10:10:22.294Z"
   },
   {
    "duration": 25,
    "start_time": "2023-01-23T10:10:22.305Z"
   },
   {
    "duration": 14,
    "start_time": "2023-01-23T10:10:22.331Z"
   },
   {
    "duration": 8,
    "start_time": "2023-01-23T10:10:22.347Z"
   },
   {
    "duration": 13,
    "start_time": "2023-01-23T10:10:22.357Z"
   },
   {
    "duration": 10,
    "start_time": "2023-01-23T10:10:22.372Z"
   },
   {
    "duration": 7,
    "start_time": "2023-01-23T10:10:22.384Z"
   },
   {
    "duration": 38,
    "start_time": "2023-01-23T10:10:22.392Z"
   },
   {
    "duration": 13,
    "start_time": "2023-01-23T10:10:22.432Z"
   },
   {
    "duration": 13,
    "start_time": "2023-01-23T10:10:22.446Z"
   },
   {
    "duration": 14,
    "start_time": "2023-01-23T10:10:22.460Z"
   },
   {
    "duration": 16,
    "start_time": "2023-01-23T10:10:22.475Z"
   },
   {
    "duration": 34,
    "start_time": "2023-01-23T10:10:22.492Z"
   },
   {
    "duration": 8,
    "start_time": "2023-01-23T10:10:22.528Z"
   },
   {
    "duration": 589,
    "start_time": "2023-01-23T10:10:22.538Z"
   },
   {
    "duration": 220,
    "start_time": "2023-01-23T10:10:23.131Z"
   },
   {
    "duration": 268,
    "start_time": "2023-01-23T10:10:23.353Z"
   },
   {
    "duration": 189,
    "start_time": "2023-01-23T10:10:23.622Z"
   },
   {
    "duration": 323,
    "start_time": "2023-01-23T10:10:23.813Z"
   },
   {
    "duration": 165,
    "start_time": "2023-01-23T10:10:24.137Z"
   },
   {
    "duration": 159,
    "start_time": "2023-01-23T10:10:24.305Z"
   },
   {
    "duration": 4,
    "start_time": "2023-01-23T10:10:24.466Z"
   },
   {
    "duration": 7,
    "start_time": "2023-01-23T10:10:24.472Z"
   },
   {
    "duration": 243,
    "start_time": "2023-01-23T10:10:24.480Z"
   },
   {
    "duration": 162,
    "start_time": "2023-01-23T10:10:24.724Z"
   },
   {
    "duration": 5,
    "start_time": "2023-01-23T10:10:24.887Z"
   },
   {
    "duration": 9,
    "start_time": "2023-01-23T10:10:24.894Z"
   },
   {
    "duration": 377,
    "start_time": "2023-01-23T10:10:24.905Z"
   },
   {
    "duration": 10,
    "start_time": "2023-01-23T10:10:25.284Z"
   },
   {
    "duration": 8,
    "start_time": "2023-01-23T10:10:25.295Z"
   },
   {
    "duration": 45,
    "start_time": "2023-01-23T10:10:25.305Z"
   },
   {
    "duration": 13,
    "start_time": "2023-01-23T10:10:25.352Z"
   },
   {
    "duration": 17,
    "start_time": "2023-01-23T10:10:40.136Z"
   },
   {
    "duration": 7,
    "start_time": "2023-01-23T10:10:41.671Z"
   },
   {
    "duration": 5,
    "start_time": "2023-01-23T10:10:42.164Z"
   },
   {
    "duration": 1153,
    "start_time": "2023-01-23T10:10:53.666Z"
   },
   {
    "duration": 103,
    "start_time": "2023-01-23T10:10:54.820Z"
   },
   {
    "duration": 12,
    "start_time": "2023-01-23T10:10:55.007Z"
   },
   {
    "duration": 3,
    "start_time": "2023-01-23T10:10:55.476Z"
   },
   {
    "duration": 12,
    "start_time": "2023-01-23T10:10:56.217Z"
   },
   {
    "duration": 6,
    "start_time": "2023-01-23T10:10:56.458Z"
   },
   {
    "duration": 6,
    "start_time": "2023-01-23T10:10:56.868Z"
   },
   {
    "duration": 12,
    "start_time": "2023-01-23T10:10:57.132Z"
   },
   {
    "duration": 11,
    "start_time": "2023-01-23T10:10:57.343Z"
   },
   {
    "duration": 5,
    "start_time": "2023-01-23T10:10:57.571Z"
   },
   {
    "duration": 12,
    "start_time": "2023-01-23T10:10:58.877Z"
   },
   {
    "duration": 7,
    "start_time": "2023-01-23T10:10:59.136Z"
   },
   {
    "duration": 5,
    "start_time": "2023-01-23T10:10:59.383Z"
   },
   {
    "duration": 10,
    "start_time": "2023-01-23T10:10:59.613Z"
   },
   {
    "duration": 11,
    "start_time": "2023-01-23T10:10:59.855Z"
   },
   {
    "duration": 4,
    "start_time": "2023-01-23T10:11:00.119Z"
   },
   {
    "duration": 12,
    "start_time": "2023-01-23T10:11:00.389Z"
   },
   {
    "duration": 7,
    "start_time": "2023-01-23T10:11:00.605Z"
   },
   {
    "duration": 5,
    "start_time": "2023-01-23T10:11:00.852Z"
   },
   {
    "duration": 12,
    "start_time": "2023-01-23T10:11:02.292Z"
   },
   {
    "duration": 12,
    "start_time": "2023-01-23T10:11:03.120Z"
   },
   {
    "duration": 12,
    "start_time": "2023-01-23T10:11:05.557Z"
   },
   {
    "duration": 11,
    "start_time": "2023-01-23T10:11:06.923Z"
   },
   {
    "duration": 15,
    "start_time": "2023-01-23T10:11:08.450Z"
   },
   {
    "duration": 6,
    "start_time": "2023-01-23T10:11:13.264Z"
   },
   {
    "duration": 7,
    "start_time": "2023-01-23T10:11:14.340Z"
   },
   {
    "duration": 17,
    "start_time": "2023-01-23T10:12:08.423Z"
   },
   {
    "duration": 1215,
    "start_time": "2023-01-23T10:12:22.143Z"
   },
   {
    "duration": 110,
    "start_time": "2023-01-23T10:12:23.360Z"
   },
   {
    "duration": 13,
    "start_time": "2023-01-23T10:12:23.472Z"
   },
   {
    "duration": 6,
    "start_time": "2023-01-23T10:12:23.488Z"
   },
   {
    "duration": 13,
    "start_time": "2023-01-23T10:12:23.496Z"
   },
   {
    "duration": 17,
    "start_time": "2023-01-23T10:12:23.511Z"
   },
   {
    "duration": 10,
    "start_time": "2023-01-23T10:12:23.530Z"
   },
   {
    "duration": 28,
    "start_time": "2023-01-23T10:12:23.541Z"
   },
   {
    "duration": 22,
    "start_time": "2023-01-23T10:12:23.570Z"
   },
   {
    "duration": 13,
    "start_time": "2023-01-23T10:12:23.594Z"
   },
   {
    "duration": 19,
    "start_time": "2023-01-23T10:12:23.609Z"
   },
   {
    "duration": 26,
    "start_time": "2023-01-23T10:12:23.630Z"
   },
   {
    "duration": 16,
    "start_time": "2023-01-23T10:12:23.657Z"
   },
   {
    "duration": 20,
    "start_time": "2023-01-23T10:12:23.675Z"
   },
   {
    "duration": 19,
    "start_time": "2023-01-23T10:12:23.697Z"
   },
   {
    "duration": 18,
    "start_time": "2023-01-23T10:12:23.718Z"
   },
   {
    "duration": 36,
    "start_time": "2023-01-23T10:12:23.738Z"
   },
   {
    "duration": 9,
    "start_time": "2023-01-23T10:12:23.776Z"
   },
   {
    "duration": 8,
    "start_time": "2023-01-23T10:12:23.787Z"
   },
   {
    "duration": 23,
    "start_time": "2023-01-23T10:12:23.796Z"
   },
   {
    "duration": 14,
    "start_time": "2023-01-23T10:12:23.820Z"
   },
   {
    "duration": 33,
    "start_time": "2023-01-23T10:12:23.835Z"
   },
   {
    "duration": 31,
    "start_time": "2023-01-23T10:12:23.870Z"
   },
   {
    "duration": 16,
    "start_time": "2023-01-23T10:12:23.903Z"
   },
   {
    "duration": 6,
    "start_time": "2023-01-23T10:12:23.921Z"
   },
   {
    "duration": 36,
    "start_time": "2023-01-23T10:12:23.929Z"
   },
   {
    "duration": 592,
    "start_time": "2023-01-23T10:12:23.967Z"
   },
   {
    "duration": 262,
    "start_time": "2023-01-23T10:12:24.564Z"
   },
   {
    "duration": 309,
    "start_time": "2023-01-23T10:12:24.827Z"
   },
   {
    "duration": 207,
    "start_time": "2023-01-23T10:12:25.138Z"
   },
   {
    "duration": 304,
    "start_time": "2023-01-23T10:12:25.347Z"
   },
   {
    "duration": 153,
    "start_time": "2023-01-23T10:12:25.652Z"
   },
   {
    "duration": 151,
    "start_time": "2023-01-23T10:12:25.807Z"
   },
   {
    "duration": 5,
    "start_time": "2023-01-23T10:12:25.960Z"
   },
   {
    "duration": 14,
    "start_time": "2023-01-23T10:12:25.967Z"
   },
   {
    "duration": 230,
    "start_time": "2023-01-23T10:12:25.983Z"
   },
   {
    "duration": 159,
    "start_time": "2023-01-23T10:12:26.216Z"
   },
   {
    "duration": 4,
    "start_time": "2023-01-23T10:12:26.378Z"
   },
   {
    "duration": 18,
    "start_time": "2023-01-23T10:12:26.384Z"
   },
   {
    "duration": 390,
    "start_time": "2023-01-23T10:12:26.404Z"
   },
   {
    "duration": 11,
    "start_time": "2023-01-23T10:12:26.796Z"
   },
   {
    "duration": 10,
    "start_time": "2023-01-23T10:12:26.821Z"
   },
   {
    "duration": 49,
    "start_time": "2023-01-23T10:12:26.833Z"
   },
   {
    "duration": 15,
    "start_time": "2023-01-23T10:12:26.884Z"
   },
   {
    "duration": 4,
    "start_time": "2023-01-23T10:13:59.712Z"
   },
   {
    "duration": 1245,
    "start_time": "2023-01-23T10:14:58.493Z"
   },
   {
    "duration": 121,
    "start_time": "2023-01-23T10:14:59.740Z"
   },
   {
    "duration": 12,
    "start_time": "2023-01-23T10:14:59.863Z"
   },
   {
    "duration": 7,
    "start_time": "2023-01-23T10:14:59.876Z"
   },
   {
    "duration": 12,
    "start_time": "2023-01-23T10:15:01.251Z"
   },
   {
    "duration": 7,
    "start_time": "2023-01-23T10:15:01.529Z"
   },
   {
    "duration": 5,
    "start_time": "2023-01-23T10:15:02.098Z"
   },
   {
    "duration": 13,
    "start_time": "2023-01-23T10:15:02.381Z"
   },
   {
    "duration": 11,
    "start_time": "2023-01-23T10:15:02.630Z"
   },
   {
    "duration": 5,
    "start_time": "2023-01-23T10:15:02.895Z"
   },
   {
    "duration": 11,
    "start_time": "2023-01-23T10:15:03.398Z"
   },
   {
    "duration": 6,
    "start_time": "2023-01-23T10:15:03.655Z"
   },
   {
    "duration": 6,
    "start_time": "2023-01-23T10:15:03.967Z"
   },
   {
    "duration": 10,
    "start_time": "2023-01-23T10:15:04.435Z"
   },
   {
    "duration": 11,
    "start_time": "2023-01-23T10:15:05.492Z"
   },
   {
    "duration": 4,
    "start_time": "2023-01-23T10:15:06.234Z"
   },
   {
    "duration": 12,
    "start_time": "2023-01-23T10:15:07.317Z"
   },
   {
    "duration": 6,
    "start_time": "2023-01-23T10:15:08.059Z"
   },
   {
    "duration": 5,
    "start_time": "2023-01-23T10:15:08.785Z"
   },
   {
    "duration": 12,
    "start_time": "2023-01-23T10:15:12.213Z"
   },
   {
    "duration": 14,
    "start_time": "2023-01-23T10:15:12.850Z"
   },
   {
    "duration": 11,
    "start_time": "2023-01-23T10:15:16.685Z"
   },
   {
    "duration": 13,
    "start_time": "2023-01-23T10:15:18.538Z"
   },
   {
    "duration": 16,
    "start_time": "2023-01-23T10:15:20.630Z"
   },
   {
    "duration": 9,
    "start_time": "2023-01-23T10:15:22.762Z"
   },
   {
    "duration": 20,
    "start_time": "2023-01-23T10:15:24.699Z"
   },
   {
    "duration": 4,
    "start_time": "2023-01-23T10:15:25.771Z"
   },
   {
    "duration": 61,
    "start_time": "2023-01-23T10:19:37.540Z"
   },
   {
    "duration": 12,
    "start_time": "2023-01-23T10:21:07.192Z"
   },
   {
    "duration": 13,
    "start_time": "2023-01-23T10:23:34.032Z"
   },
   {
    "duration": 12,
    "start_time": "2023-01-23T10:24:02.191Z"
   },
   {
    "duration": 11,
    "start_time": "2023-01-23T10:31:50.154Z"
   },
   {
    "duration": 11,
    "start_time": "2023-01-23T10:32:41.214Z"
   },
   {
    "duration": 6,
    "start_time": "2023-01-23T10:35:56.435Z"
   },
   {
    "duration": 9,
    "start_time": "2023-01-23T10:37:14.704Z"
   },
   {
    "duration": 8,
    "start_time": "2023-01-23T10:47:57.399Z"
   },
   {
    "duration": 10,
    "start_time": "2023-01-23T10:48:09.490Z"
   },
   {
    "duration": 8,
    "start_time": "2023-01-23T10:48:11.456Z"
   },
   {
    "duration": 1244,
    "start_time": "2023-01-23T10:48:36.958Z"
   },
   {
    "duration": 111,
    "start_time": "2023-01-23T10:48:38.204Z"
   },
   {
    "duration": 13,
    "start_time": "2023-01-23T10:48:38.316Z"
   },
   {
    "duration": 4,
    "start_time": "2023-01-23T10:48:38.332Z"
   },
   {
    "duration": 16,
    "start_time": "2023-01-23T10:48:38.338Z"
   },
   {
    "duration": 9,
    "start_time": "2023-01-23T10:48:38.355Z"
   },
   {
    "duration": 11,
    "start_time": "2023-01-23T10:48:38.366Z"
   },
   {
    "duration": 15,
    "start_time": "2023-01-23T10:48:38.380Z"
   },
   {
    "duration": 11,
    "start_time": "2023-01-23T10:48:38.420Z"
   },
   {
    "duration": 5,
    "start_time": "2023-01-23T10:48:38.436Z"
   },
   {
    "duration": 13,
    "start_time": "2023-01-23T10:48:38.443Z"
   },
   {
    "duration": 6,
    "start_time": "2023-01-23T10:48:38.459Z"
   },
   {
    "duration": 7,
    "start_time": "2023-01-23T10:48:38.467Z"
   },
   {
    "duration": 48,
    "start_time": "2023-01-23T10:48:38.476Z"
   },
   {
    "duration": 13,
    "start_time": "2023-01-23T10:48:38.526Z"
   },
   {
    "duration": 6,
    "start_time": "2023-01-23T10:48:38.541Z"
   },
   {
    "duration": 12,
    "start_time": "2023-01-23T10:48:38.549Z"
   },
   {
    "duration": 7,
    "start_time": "2023-01-23T10:48:38.562Z"
   },
   {
    "duration": 6,
    "start_time": "2023-01-23T10:48:38.570Z"
   },
   {
    "duration": 16,
    "start_time": "2023-01-23T10:48:38.578Z"
   },
   {
    "duration": 14,
    "start_time": "2023-01-23T10:48:38.621Z"
   },
   {
    "duration": 19,
    "start_time": "2023-01-23T10:48:38.636Z"
   },
   {
    "duration": 9,
    "start_time": "2023-01-23T10:48:38.657Z"
   },
   {
    "duration": 18,
    "start_time": "2023-01-23T10:48:38.667Z"
   },
   {
    "duration": 34,
    "start_time": "2023-01-23T10:48:38.687Z"
   },
   {
    "duration": 23,
    "start_time": "2023-01-23T10:48:38.723Z"
   },
   {
    "duration": 4,
    "start_time": "2023-01-23T10:48:38.748Z"
   },
   {
    "duration": 12,
    "start_time": "2023-01-23T10:48:38.757Z"
   },
   {
    "duration": 11,
    "start_time": "2023-01-23T10:48:38.771Z"
   },
   {
    "duration": 649,
    "start_time": "2023-01-23T10:48:38.784Z"
   },
   {
    "duration": 254,
    "start_time": "2023-01-23T10:48:39.435Z"
   },
   {
    "duration": 312,
    "start_time": "2023-01-23T10:48:39.690Z"
   },
   {
    "duration": 240,
    "start_time": "2023-01-23T10:48:40.004Z"
   },
   {
    "duration": 321,
    "start_time": "2023-01-23T10:48:40.246Z"
   },
   {
    "duration": 164,
    "start_time": "2023-01-23T10:48:40.569Z"
   },
   {
    "duration": 172,
    "start_time": "2023-01-23T10:48:40.735Z"
   },
   {
    "duration": 14,
    "start_time": "2023-01-23T10:48:40.910Z"
   },
   {
    "duration": 18,
    "start_time": "2023-01-23T10:48:40.927Z"
   },
   {
    "duration": 232,
    "start_time": "2023-01-23T10:48:40.947Z"
   },
   {
    "duration": 173,
    "start_time": "2023-01-23T10:48:41.180Z"
   },
   {
    "duration": 5,
    "start_time": "2023-01-23T10:48:41.356Z"
   },
   {
    "duration": 11,
    "start_time": "2023-01-23T10:48:41.362Z"
   },
   {
    "duration": 412,
    "start_time": "2023-01-23T10:48:41.375Z"
   },
   {
    "duration": 11,
    "start_time": "2023-01-23T10:48:41.789Z"
   },
   {
    "duration": 24,
    "start_time": "2023-01-23T10:48:41.802Z"
   },
   {
    "duration": 38,
    "start_time": "2023-01-23T10:48:41.828Z"
   },
   {
    "duration": 14,
    "start_time": "2023-01-23T10:48:41.868Z"
   },
   {
    "duration": 3,
    "start_time": "2023-01-23T10:48:53.423Z"
   },
   {
    "duration": 110,
    "start_time": "2023-01-23T10:48:53.708Z"
   },
   {
    "duration": 9,
    "start_time": "2023-01-23T10:48:54.155Z"
   },
   {
    "duration": 3,
    "start_time": "2023-01-23T10:48:54.376Z"
   },
   {
    "duration": 14,
    "start_time": "2023-01-23T10:48:54.784Z"
   },
   {
    "duration": 6,
    "start_time": "2023-01-23T10:48:55.003Z"
   },
   {
    "duration": 5,
    "start_time": "2023-01-23T10:48:55.396Z"
   },
   {
    "duration": 13,
    "start_time": "2023-01-23T10:48:55.778Z"
   },
   {
    "duration": 11,
    "start_time": "2023-01-23T10:48:56.022Z"
   },
   {
    "duration": 6,
    "start_time": "2023-01-23T10:48:56.207Z"
   },
   {
    "duration": 12,
    "start_time": "2023-01-23T10:48:56.561Z"
   },
   {
    "duration": 7,
    "start_time": "2023-01-23T10:48:56.774Z"
   },
   {
    "duration": 7,
    "start_time": "2023-01-23T10:48:56.955Z"
   },
   {
    "duration": 12,
    "start_time": "2023-01-23T10:48:57.210Z"
   },
   {
    "duration": 11,
    "start_time": "2023-01-23T10:48:57.395Z"
   },
   {
    "duration": 4,
    "start_time": "2023-01-23T10:48:57.603Z"
   },
   {
    "duration": 12,
    "start_time": "2023-01-23T10:48:57.854Z"
   },
   {
    "duration": 7,
    "start_time": "2023-01-23T10:48:58.034Z"
   },
   {
    "duration": 7,
    "start_time": "2023-01-23T10:48:58.259Z"
   },
   {
    "duration": 11,
    "start_time": "2023-01-23T10:48:59.453Z"
   },
   {
    "duration": 14,
    "start_time": "2023-01-23T10:49:00.753Z"
   },
   {
    "duration": 12,
    "start_time": "2023-01-23T10:49:02.130Z"
   },
   {
    "duration": 10,
    "start_time": "2023-01-23T10:49:02.372Z"
   },
   {
    "duration": 18,
    "start_time": "2023-01-23T10:49:03.911Z"
   },
   {
    "duration": 7,
    "start_time": "2023-01-23T10:49:06.102Z"
   },
   {
    "duration": 16,
    "start_time": "2023-01-23T10:49:07.501Z"
   },
   {
    "duration": 5,
    "start_time": "2023-01-23T10:49:08.761Z"
   },
   {
    "duration": 12,
    "start_time": "2023-01-23T10:49:09.847Z"
   },
   {
    "duration": 9,
    "start_time": "2023-01-23T10:49:13.556Z"
   },
   {
    "duration": 206,
    "start_time": "2023-01-23T10:52:49.661Z"
   },
   {
    "duration": 89,
    "start_time": "2023-01-23T10:53:27.359Z"
   },
   {
    "duration": 346,
    "start_time": "2023-01-23T10:53:58.919Z"
   },
   {
    "duration": 477,
    "start_time": "2023-01-23T10:54:32.945Z"
   },
   {
    "duration": 188,
    "start_time": "2023-01-23T10:54:37.650Z"
   },
   {
    "duration": 288,
    "start_time": "2023-01-23T10:54:42.508Z"
   },
   {
    "duration": 191,
    "start_time": "2023-01-23T10:54:49.971Z"
   },
   {
    "duration": 321,
    "start_time": "2023-01-23T10:54:54.255Z"
   },
   {
    "duration": 149,
    "start_time": "2023-01-23T10:54:58.305Z"
   },
   {
    "duration": 139,
    "start_time": "2023-01-23T10:54:59.689Z"
   },
   {
    "duration": 4,
    "start_time": "2023-01-23T10:55:02.066Z"
   },
   {
    "duration": 4,
    "start_time": "2023-01-23T10:55:02.757Z"
   },
   {
    "duration": 136,
    "start_time": "2023-01-23T10:55:05.076Z"
   },
   {
    "duration": 143,
    "start_time": "2023-01-23T10:55:06.349Z"
   },
   {
    "duration": 253,
    "start_time": "2023-01-23T10:56:04.883Z"
   },
   {
    "duration": 140,
    "start_time": "2023-01-23T10:56:31.895Z"
   },
   {
    "duration": 132,
    "start_time": "2023-01-23T10:56:33.455Z"
   },
   {
    "duration": 195,
    "start_time": "2023-01-23T10:57:14.114Z"
   },
   {
    "duration": 125,
    "start_time": "2023-01-23T10:57:27.460Z"
   },
   {
    "duration": 50,
    "start_time": "2023-01-23T11:56:45.550Z"
   },
   {
    "duration": 1307,
    "start_time": "2023-01-23T11:56:55.452Z"
   },
   {
    "duration": 249,
    "start_time": "2023-01-23T11:56:56.760Z"
   },
   {
    "duration": 13,
    "start_time": "2023-01-23T11:56:57.011Z"
   },
   {
    "duration": 3,
    "start_time": "2023-01-23T11:56:57.026Z"
   },
   {
    "duration": 13,
    "start_time": "2023-01-23T11:56:57.031Z"
   },
   {
    "duration": 10,
    "start_time": "2023-01-23T11:56:57.046Z"
   },
   {
    "duration": 11,
    "start_time": "2023-01-23T11:56:57.058Z"
   },
   {
    "duration": 14,
    "start_time": "2023-01-23T11:56:57.071Z"
   },
   {
    "duration": 11,
    "start_time": "2023-01-23T11:56:57.087Z"
   },
   {
    "duration": 5,
    "start_time": "2023-01-23T11:56:57.122Z"
   },
   {
    "duration": 12,
    "start_time": "2023-01-23T11:56:57.129Z"
   },
   {
    "duration": 8,
    "start_time": "2023-01-23T11:56:57.143Z"
   },
   {
    "duration": 5,
    "start_time": "2023-01-23T11:56:57.153Z"
   },
   {
    "duration": 10,
    "start_time": "2023-01-23T11:56:57.160Z"
   },
   {
    "duration": 9,
    "start_time": "2023-01-23T11:56:57.171Z"
   },
   {
    "duration": 6,
    "start_time": "2023-01-23T11:56:57.181Z"
   },
   {
    "duration": 41,
    "start_time": "2023-01-23T11:56:57.188Z"
   },
   {
    "duration": 17,
    "start_time": "2023-01-23T11:56:57.230Z"
   },
   {
    "duration": 16,
    "start_time": "2023-01-23T11:56:57.248Z"
   },
   {
    "duration": 14,
    "start_time": "2023-01-23T11:56:57.265Z"
   },
   {
    "duration": 12,
    "start_time": "2023-01-23T11:56:57.280Z"
   },
   {
    "duration": 24,
    "start_time": "2023-01-23T11:56:57.293Z"
   },
   {
    "duration": 40,
    "start_time": "2023-01-23T11:56:57.318Z"
   },
   {
    "duration": 24,
    "start_time": "2023-01-23T11:56:57.360Z"
   },
   {
    "duration": 10,
    "start_time": "2023-01-23T11:56:57.385Z"
   },
   {
    "duration": 22,
    "start_time": "2023-01-23T11:56:57.396Z"
   },
   {
    "duration": 14,
    "start_time": "2023-01-23T11:56:57.420Z"
   },
   {
    "duration": 16,
    "start_time": "2023-01-23T11:56:57.437Z"
   },
   {
    "duration": 11,
    "start_time": "2023-01-23T11:56:57.455Z"
   },
   {
    "duration": 553,
    "start_time": "2023-01-23T11:56:57.467Z"
   },
   {
    "duration": 187,
    "start_time": "2023-01-23T11:56:58.022Z"
   },
   {
    "duration": 336,
    "start_time": "2023-01-23T11:56:58.210Z"
   },
   {
    "duration": 210,
    "start_time": "2023-01-23T11:56:58.548Z"
   },
   {
    "duration": 292,
    "start_time": "2023-01-23T11:56:58.760Z"
   },
   {
    "duration": 147,
    "start_time": "2023-01-23T11:56:59.054Z"
   },
   {
    "duration": 219,
    "start_time": "2023-01-23T11:56:59.203Z"
   },
   {
    "duration": 6,
    "start_time": "2023-01-23T11:56:59.424Z"
   },
   {
    "duration": 41,
    "start_time": "2023-01-23T11:56:59.432Z"
   },
   {
    "duration": 129,
    "start_time": "2023-01-23T11:56:59.474Z"
   },
   {
    "duration": 128,
    "start_time": "2023-01-23T11:56:59.605Z"
   },
   {
    "duration": 160,
    "start_time": "2023-01-23T11:56:59.735Z"
   },
   {
    "duration": 140,
    "start_time": "2023-01-23T11:56:59.896Z"
   },
   {
    "duration": 5,
    "start_time": "2023-01-23T11:57:00.038Z"
   },
   {
    "duration": 10,
    "start_time": "2023-01-23T11:57:00.045Z"
   },
   {
    "duration": 233,
    "start_time": "2023-01-23T11:57:00.057Z"
   },
   {
    "duration": 0,
    "start_time": "2023-01-23T11:57:00.292Z"
   },
   {
    "duration": 0,
    "start_time": "2023-01-23T11:57:00.293Z"
   },
   {
    "duration": 0,
    "start_time": "2023-01-23T11:57:00.294Z"
   },
   {
    "duration": 0,
    "start_time": "2023-01-23T11:57:00.295Z"
   },
   {
    "duration": 11,
    "start_time": "2023-01-23T11:59:12.621Z"
   },
   {
    "duration": 9,
    "start_time": "2023-01-23T12:07:02.644Z"
   },
   {
    "duration": 8,
    "start_time": "2023-01-23T12:07:22.014Z"
   },
   {
    "duration": 31,
    "start_time": "2023-01-23T12:07:40.567Z"
   },
   {
    "duration": 152,
    "start_time": "2023-01-23T12:17:14.812Z"
   },
   {
    "duration": 9,
    "start_time": "2023-01-23T12:17:29.935Z"
   },
   {
    "duration": 293,
    "start_time": "2023-01-23T12:17:42.493Z"
   },
   {
    "duration": 66,
    "start_time": "2023-01-23T12:18:06.771Z"
   },
   {
    "duration": 101,
    "start_time": "2023-01-23T12:18:24.669Z"
   },
   {
    "duration": 52,
    "start_time": "2023-01-23T12:18:46.232Z"
   },
   {
    "duration": 6,
    "start_time": "2023-01-23T12:21:19.461Z"
   },
   {
    "duration": 49,
    "start_time": "2023-01-23T12:21:38.081Z"
   },
   {
    "duration": 66,
    "start_time": "2023-01-23T12:22:27.868Z"
   },
   {
    "duration": 152,
    "start_time": "2023-01-23T12:22:36.221Z"
   },
   {
    "duration": 198,
    "start_time": "2023-01-23T12:22:48.461Z"
   },
   {
    "duration": 146,
    "start_time": "2023-01-23T12:22:53.083Z"
   },
   {
    "duration": 25,
    "start_time": "2023-01-23T12:22:53.866Z"
   },
   {
    "duration": 50,
    "start_time": "2023-01-23T13:52:18.198Z"
   },
   {
    "duration": 8,
    "start_time": "2023-01-23T13:54:43.910Z"
   },
   {
    "duration": 1420,
    "start_time": "2023-01-23T13:54:52.024Z"
   },
   {
    "duration": 268,
    "start_time": "2023-01-23T13:54:53.447Z"
   },
   {
    "duration": 13,
    "start_time": "2023-01-23T13:54:53.717Z"
   },
   {
    "duration": 18,
    "start_time": "2023-01-23T13:54:53.732Z"
   },
   {
    "duration": 44,
    "start_time": "2023-01-23T13:54:53.752Z"
   },
   {
    "duration": 9,
    "start_time": "2023-01-23T13:54:53.798Z"
   },
   {
    "duration": 29,
    "start_time": "2023-01-23T13:54:53.808Z"
   },
   {
    "duration": 29,
    "start_time": "2023-01-23T13:54:53.839Z"
   },
   {
    "duration": 20,
    "start_time": "2023-01-23T13:54:53.870Z"
   },
   {
    "duration": 8,
    "start_time": "2023-01-23T13:54:53.894Z"
   },
   {
    "duration": 21,
    "start_time": "2023-01-23T13:54:53.904Z"
   },
   {
    "duration": 9,
    "start_time": "2023-01-23T13:54:53.927Z"
   },
   {
    "duration": 7,
    "start_time": "2023-01-23T13:54:53.938Z"
   },
   {
    "duration": 17,
    "start_time": "2023-01-23T13:54:53.954Z"
   },
   {
    "duration": 22,
    "start_time": "2023-01-23T13:54:53.972Z"
   },
   {
    "duration": 18,
    "start_time": "2023-01-23T13:54:53.996Z"
   },
   {
    "duration": 22,
    "start_time": "2023-01-23T13:54:54.016Z"
   },
   {
    "duration": 11,
    "start_time": "2023-01-23T13:54:54.040Z"
   },
   {
    "duration": 25,
    "start_time": "2023-01-23T13:54:54.054Z"
   },
   {
    "duration": 15,
    "start_time": "2023-01-23T13:54:54.081Z"
   },
   {
    "duration": 11,
    "start_time": "2023-01-23T13:54:54.098Z"
   },
   {
    "duration": 16,
    "start_time": "2023-01-23T13:54:54.111Z"
   },
   {
    "duration": 12,
    "start_time": "2023-01-23T13:54:54.128Z"
   },
   {
    "duration": 28,
    "start_time": "2023-01-23T13:54:54.141Z"
   },
   {
    "duration": 9,
    "start_time": "2023-01-23T13:54:54.171Z"
   },
   {
    "duration": 22,
    "start_time": "2023-01-23T13:54:54.182Z"
   },
   {
    "duration": 4,
    "start_time": "2023-01-23T13:54:54.206Z"
   },
   {
    "duration": 28,
    "start_time": "2023-01-23T13:54:54.216Z"
   },
   {
    "duration": 40,
    "start_time": "2023-01-23T13:54:54.246Z"
   },
   {
    "duration": 558,
    "start_time": "2023-01-23T13:54:54.288Z"
   },
   {
    "duration": 218,
    "start_time": "2023-01-23T13:54:54.854Z"
   },
   {
    "duration": 309,
    "start_time": "2023-01-23T13:54:55.073Z"
   },
   {
    "duration": 229,
    "start_time": "2023-01-23T13:54:55.383Z"
   },
   {
    "duration": 382,
    "start_time": "2023-01-23T13:54:55.614Z"
   },
   {
    "duration": 166,
    "start_time": "2023-01-23T13:54:55.998Z"
   },
   {
    "duration": 155,
    "start_time": "2023-01-23T13:54:56.167Z"
   },
   {
    "duration": 5,
    "start_time": "2023-01-23T13:54:56.324Z"
   },
   {
    "duration": 21,
    "start_time": "2023-01-23T13:54:56.331Z"
   },
   {
    "duration": 218,
    "start_time": "2023-01-23T13:54:56.354Z"
   },
   {
    "duration": 147,
    "start_time": "2023-01-23T13:54:56.574Z"
   },
   {
    "duration": 158,
    "start_time": "2023-01-23T13:54:56.723Z"
   },
   {
    "duration": 137,
    "start_time": "2023-01-23T13:54:56.883Z"
   },
   {
    "duration": 3,
    "start_time": "2023-01-23T13:54:57.022Z"
   },
   {
    "duration": 6,
    "start_time": "2023-01-23T13:54:57.027Z"
   },
   {
    "duration": 289,
    "start_time": "2023-01-23T13:54:57.034Z"
   },
   {
    "duration": 0,
    "start_time": "2023-01-23T13:54:57.325Z"
   },
   {
    "duration": 0,
    "start_time": "2023-01-23T13:54:57.327Z"
   },
   {
    "duration": 0,
    "start_time": "2023-01-23T13:54:57.328Z"
   },
   {
    "duration": 0,
    "start_time": "2023-01-23T13:54:57.329Z"
   },
   {
    "duration": 0,
    "start_time": "2023-01-23T13:54:57.330Z"
   },
   {
    "duration": 3,
    "start_time": "2023-01-23T13:55:11.005Z"
   },
   {
    "duration": 121,
    "start_time": "2023-01-23T13:55:11.245Z"
   },
   {
    "duration": 11,
    "start_time": "2023-01-23T13:55:11.662Z"
   },
   {
    "duration": 4,
    "start_time": "2023-01-23T13:55:11.935Z"
   },
   {
    "duration": 14,
    "start_time": "2023-01-23T13:55:12.391Z"
   },
   {
    "duration": 7,
    "start_time": "2023-01-23T13:55:12.635Z"
   },
   {
    "duration": 6,
    "start_time": "2023-01-23T13:55:13.112Z"
   },
   {
    "duration": 23,
    "start_time": "2023-01-23T13:55:13.356Z"
   },
   {
    "duration": 17,
    "start_time": "2023-01-23T13:55:13.555Z"
   },
   {
    "duration": 6,
    "start_time": "2023-01-23T13:55:13.791Z"
   },
   {
    "duration": 12,
    "start_time": "2023-01-23T13:55:14.326Z"
   },
   {
    "duration": 9,
    "start_time": "2023-01-23T13:55:14.579Z"
   },
   {
    "duration": 6,
    "start_time": "2023-01-23T13:55:14.795Z"
   },
   {
    "duration": 10,
    "start_time": "2023-01-23T13:55:15.022Z"
   },
   {
    "duration": 26,
    "start_time": "2023-01-23T13:55:15.241Z"
   },
   {
    "duration": 4,
    "start_time": "2023-01-23T13:55:15.479Z"
   },
   {
    "duration": 14,
    "start_time": "2023-01-23T13:55:15.704Z"
   },
   {
    "duration": 8,
    "start_time": "2023-01-23T13:55:15.930Z"
   },
   {
    "duration": 6,
    "start_time": "2023-01-23T13:55:16.115Z"
   },
   {
    "duration": 11,
    "start_time": "2023-01-23T13:55:17.282Z"
   },
   {
    "duration": 16,
    "start_time": "2023-01-23T13:55:17.752Z"
   },
   {
    "duration": 10,
    "start_time": "2023-01-23T13:55:19.127Z"
   },
   {
    "duration": 9,
    "start_time": "2023-01-23T13:55:19.369Z"
   },
   {
    "duration": 15,
    "start_time": "2023-01-23T13:55:19.667Z"
   },
   {
    "duration": 6,
    "start_time": "2023-01-23T13:55:19.917Z"
   },
   {
    "duration": 16,
    "start_time": "2023-01-23T13:55:20.144Z"
   },
   {
    "duration": 5,
    "start_time": "2023-01-23T13:55:20.419Z"
   },
   {
    "duration": 11,
    "start_time": "2023-01-23T13:55:20.669Z"
   },
   {
    "duration": 10,
    "start_time": "2023-01-23T13:55:20.941Z"
   },
   {
    "duration": 507,
    "start_time": "2023-01-23T13:55:23.985Z"
   },
   {
    "duration": 204,
    "start_time": "2023-01-23T13:55:25.627Z"
   },
   {
    "duration": 272,
    "start_time": "2023-01-23T13:55:26.671Z"
   },
   {
    "duration": 211,
    "start_time": "2023-01-23T13:55:27.732Z"
   },
   {
    "duration": 334,
    "start_time": "2023-01-23T13:55:28.960Z"
   },
   {
    "duration": 149,
    "start_time": "2023-01-23T13:55:31.948Z"
   },
   {
    "duration": 153,
    "start_time": "2023-01-23T13:55:32.446Z"
   },
   {
    "duration": 6,
    "start_time": "2023-01-23T13:55:33.168Z"
   },
   {
    "duration": 4,
    "start_time": "2023-01-23T13:55:33.470Z"
   },
   {
    "duration": 132,
    "start_time": "2023-01-23T13:55:36.298Z"
   },
   {
    "duration": 137,
    "start_time": "2023-01-23T13:55:36.636Z"
   },
   {
    "duration": 141,
    "start_time": "2023-01-23T13:55:37.099Z"
   },
   {
    "duration": 238,
    "start_time": "2023-01-23T13:55:38.553Z"
   },
   {
    "duration": 4,
    "start_time": "2023-01-23T13:55:41.175Z"
   },
   {
    "duration": 5,
    "start_time": "2023-01-23T13:55:41.468Z"
   },
   {
    "duration": 164,
    "start_time": "2023-01-23T13:55:42.883Z"
   },
   {
    "duration": 119,
    "start_time": "2023-01-23T13:56:24.680Z"
   },
   {
    "duration": 25,
    "start_time": "2023-01-23T13:56:27.080Z"
   },
   {
    "duration": 24,
    "start_time": "2023-01-23T14:09:50.213Z"
   },
   {
    "duration": 83,
    "start_time": "2023-01-23T14:11:42.221Z"
   },
   {
    "duration": 38,
    "start_time": "2023-01-23T14:11:56.608Z"
   },
   {
    "duration": 85,
    "start_time": "2023-01-23T14:11:59.782Z"
   },
   {
    "duration": 15,
    "start_time": "2023-01-23T14:12:13.121Z"
   },
   {
    "duration": 14,
    "start_time": "2023-01-23T14:12:30.322Z"
   },
   {
    "duration": 1231,
    "start_time": "2023-01-23T14:53:08.001Z"
   },
   {
    "duration": 110,
    "start_time": "2023-01-23T14:53:09.234Z"
   },
   {
    "duration": 13,
    "start_time": "2023-01-23T14:53:10.338Z"
   },
   {
    "duration": 3,
    "start_time": "2023-01-23T14:53:11.171Z"
   },
   {
    "duration": 11,
    "start_time": "2023-01-23T14:53:12.471Z"
   },
   {
    "duration": 6,
    "start_time": "2023-01-23T14:53:13.172Z"
   },
   {
    "duration": 5,
    "start_time": "2023-01-23T14:53:14.640Z"
   },
   {
    "duration": 13,
    "start_time": "2023-01-23T14:53:15.010Z"
   },
   {
    "duration": 12,
    "start_time": "2023-01-23T14:53:15.373Z"
   },
   {
    "duration": 6,
    "start_time": "2023-01-23T14:53:15.595Z"
   },
   {
    "duration": 20,
    "start_time": "2023-01-23T14:53:16.046Z"
   },
   {
    "duration": 12,
    "start_time": "2023-01-23T14:53:16.274Z"
   },
   {
    "duration": 7,
    "start_time": "2023-01-23T14:53:16.521Z"
   },
   {
    "duration": 15,
    "start_time": "2023-01-23T14:53:16.740Z"
   },
   {
    "duration": 14,
    "start_time": "2023-01-23T14:53:17.014Z"
   },
   {
    "duration": 11,
    "start_time": "2023-01-23T14:53:17.351Z"
   },
   {
    "duration": 12,
    "start_time": "2023-01-23T14:53:17.552Z"
   },
   {
    "duration": 8,
    "start_time": "2023-01-23T14:53:17.853Z"
   },
   {
    "duration": 5,
    "start_time": "2023-01-23T14:53:18.095Z"
   },
   {
    "duration": 12,
    "start_time": "2023-01-23T14:53:20.217Z"
   },
   {
    "duration": 16,
    "start_time": "2023-01-23T14:53:21.262Z"
   },
   {
    "duration": 12,
    "start_time": "2023-01-23T14:53:24.668Z"
   },
   {
    "duration": 9,
    "start_time": "2023-01-23T14:53:24.967Z"
   },
   {
    "duration": 16,
    "start_time": "2023-01-23T14:53:25.203Z"
   },
   {
    "duration": 7,
    "start_time": "2023-01-23T14:53:25.445Z"
   },
   {
    "duration": 15,
    "start_time": "2023-01-23T14:53:25.705Z"
   },
   {
    "duration": 9,
    "start_time": "2023-01-23T14:53:25.950Z"
   },
   {
    "duration": 13,
    "start_time": "2023-01-23T14:53:26.134Z"
   },
   {
    "duration": 11,
    "start_time": "2023-01-23T14:53:26.372Z"
   },
   {
    "duration": 590,
    "start_time": "2023-01-23T14:53:42.513Z"
   },
   {
    "duration": 221,
    "start_time": "2023-01-23T14:53:47.294Z"
   },
   {
    "duration": 297,
    "start_time": "2023-01-23T14:53:49.587Z"
   },
   {
    "duration": 211,
    "start_time": "2023-01-23T14:53:51.406Z"
   },
   {
    "duration": 375,
    "start_time": "2023-01-23T14:53:53.941Z"
   },
   {
    "duration": 152,
    "start_time": "2023-01-23T14:53:56.244Z"
   },
   {
    "duration": 174,
    "start_time": "2023-01-23T14:54:02.008Z"
   },
   {
    "duration": 5,
    "start_time": "2023-01-23T14:54:05.186Z"
   },
   {
    "duration": 4,
    "start_time": "2023-01-23T14:54:06.176Z"
   },
   {
    "duration": 115,
    "start_time": "2023-01-23T14:59:03.079Z"
   },
   {
    "duration": 12,
    "start_time": "2023-01-23T14:59:10.752Z"
   },
   {
    "duration": 222,
    "start_time": "2023-01-23T14:59:15.686Z"
   },
   {
    "duration": 39,
    "start_time": "2023-01-23T14:59:16.535Z"
   },
   {
    "duration": 11,
    "start_time": "2023-01-23T14:59:19.080Z"
   },
   {
    "duration": 17,
    "start_time": "2023-01-23T14:59:20.731Z"
   },
   {
    "duration": 95,
    "start_time": "2023-01-23T14:59:53.268Z"
   },
   {
    "duration": 90,
    "start_time": "2023-01-23T15:00:14.100Z"
   },
   {
    "duration": 6,
    "start_time": "2023-01-23T15:00:21.624Z"
   },
   {
    "duration": 5,
    "start_time": "2023-01-23T15:00:32.595Z"
   },
   {
    "duration": 4,
    "start_time": "2023-01-23T15:00:49.839Z"
   },
   {
    "duration": 5,
    "start_time": "2023-01-23T15:01:01.467Z"
   },
   {
    "duration": 86,
    "start_time": "2023-01-23T15:01:06.730Z"
   },
   {
    "duration": 9,
    "start_time": "2023-01-23T15:02:33.410Z"
   },
   {
    "duration": 13,
    "start_time": "2023-01-23T15:14:33.273Z"
   },
   {
    "duration": 10,
    "start_time": "2023-01-23T15:17:20.800Z"
   },
   {
    "duration": 10,
    "start_time": "2023-01-23T15:17:33.095Z"
   },
   {
    "duration": 12,
    "start_time": "2023-01-23T15:18:11.556Z"
   },
   {
    "duration": 11,
    "start_time": "2023-01-23T15:18:17.506Z"
   },
   {
    "duration": 13,
    "start_time": "2023-01-23T15:25:41.270Z"
   },
   {
    "duration": 126,
    "start_time": "2023-01-23T15:26:03.701Z"
   },
   {
    "duration": 138,
    "start_time": "2023-01-23T15:26:05.312Z"
   },
   {
    "duration": 972,
    "start_time": "2023-01-23T15:26:35.712Z"
   },
   {
    "duration": 1101,
    "start_time": "2023-01-23T15:26:55.087Z"
   },
   {
    "duration": 4,
    "start_time": "2023-01-23T15:27:01.872Z"
   },
   {
    "duration": 199,
    "start_time": "2023-01-23T15:27:02.117Z"
   },
   {
    "duration": 10,
    "start_time": "2023-01-23T15:27:03.088Z"
   },
   {
    "duration": 4,
    "start_time": "2023-01-23T15:27:03.370Z"
   },
   {
    "duration": 11,
    "start_time": "2023-01-23T15:27:03.834Z"
   },
   {
    "duration": 8,
    "start_time": "2023-01-23T15:27:04.071Z"
   },
   {
    "duration": 10,
    "start_time": "2023-01-23T15:27:04.452Z"
   },
   {
    "duration": 12,
    "start_time": "2023-01-23T15:27:04.692Z"
   },
   {
    "duration": 13,
    "start_time": "2023-01-23T15:27:04.886Z"
   },
   {
    "duration": 6,
    "start_time": "2023-01-23T15:27:05.124Z"
   },
   {
    "duration": 14,
    "start_time": "2023-01-23T15:27:05.574Z"
   },
   {
    "duration": 6,
    "start_time": "2023-01-23T15:27:05.773Z"
   },
   {
    "duration": 9,
    "start_time": "2023-01-23T15:27:06.002Z"
   },
   {
    "duration": 11,
    "start_time": "2023-01-23T15:27:06.229Z"
   },
   {
    "duration": 13,
    "start_time": "2023-01-23T15:27:06.506Z"
   },
   {
    "duration": 4,
    "start_time": "2023-01-23T15:27:06.701Z"
   },
   {
    "duration": 10,
    "start_time": "2023-01-23T15:27:06.897Z"
   },
   {
    "duration": 8,
    "start_time": "2023-01-23T15:27:07.933Z"
   },
   {
    "duration": 7,
    "start_time": "2023-01-23T15:27:08.247Z"
   },
   {
    "duration": 12,
    "start_time": "2023-01-23T15:27:09.114Z"
   },
   {
    "duration": 17,
    "start_time": "2023-01-23T15:27:09.540Z"
   },
   {
    "duration": 21,
    "start_time": "2023-01-23T15:27:10.757Z"
   },
   {
    "duration": 10,
    "start_time": "2023-01-23T15:27:11.029Z"
   },
   {
    "duration": 15,
    "start_time": "2023-01-23T15:27:11.215Z"
   },
   {
    "duration": 10,
    "start_time": "2023-01-23T15:27:11.446Z"
   },
   {
    "duration": 17,
    "start_time": "2023-01-23T15:27:11.632Z"
   },
   {
    "duration": 4,
    "start_time": "2023-01-23T15:27:11.907Z"
   },
   {
    "duration": 13,
    "start_time": "2023-01-23T15:27:12.092Z"
   },
   {
    "duration": 11,
    "start_time": "2023-01-23T15:27:12.324Z"
   },
   {
    "duration": 503,
    "start_time": "2023-01-23T15:27:13.170Z"
   },
   {
    "duration": 197,
    "start_time": "2023-01-23T15:27:14.139Z"
   },
   {
    "duration": 277,
    "start_time": "2023-01-23T15:27:15.006Z"
   },
   {
    "duration": 222,
    "start_time": "2023-01-23T15:27:15.821Z"
   },
   {
    "duration": 357,
    "start_time": "2023-01-23T15:27:16.931Z"
   },
   {
    "duration": 150,
    "start_time": "2023-01-23T15:27:17.959Z"
   },
   {
    "duration": 158,
    "start_time": "2023-01-23T15:27:18.421Z"
   },
   {
    "duration": 5,
    "start_time": "2023-01-23T15:27:19.067Z"
   },
   {
    "duration": 4,
    "start_time": "2023-01-23T15:27:19.294Z"
   },
   {
    "duration": 158,
    "start_time": "2023-01-23T15:27:20.237Z"
   },
   {
    "duration": 133,
    "start_time": "2023-01-23T15:27:20.606Z"
   },
   {
    "duration": 140,
    "start_time": "2023-01-23T15:27:20.777Z"
   },
   {
    "duration": 162,
    "start_time": "2023-01-23T15:27:21.080Z"
   },
   {
    "duration": 4,
    "start_time": "2023-01-23T15:27:23.331Z"
   },
   {
    "duration": 4,
    "start_time": "2023-01-23T15:27:24.137Z"
   },
   {
    "duration": 270,
    "start_time": "2023-01-23T15:27:26.916Z"
   },
   {
    "duration": 25,
    "start_time": "2023-01-23T15:27:27.192Z"
   },
   {
    "duration": 10,
    "start_time": "2023-01-23T15:27:29.285Z"
   },
   {
    "duration": 1039,
    "start_time": "2023-01-23T15:27:30.290Z"
   },
   {
    "duration": 0,
    "start_time": "2023-01-23T15:27:31.331Z"
   },
   {
    "duration": 990,
    "start_time": "2023-01-23T15:28:05.023Z"
   },
   {
    "duration": 5,
    "start_time": "2023-01-23T15:28:36.211Z"
   },
   {
    "duration": 943,
    "start_time": "2023-01-23T15:28:51.174Z"
   },
   {
    "duration": 1068,
    "start_time": "2023-01-23T15:29:33.974Z"
   },
   {
    "duration": 6,
    "start_time": "2023-01-23T15:30:33.875Z"
   },
   {
    "duration": 10,
    "start_time": "2023-01-23T15:30:49.699Z"
   },
   {
    "duration": 10,
    "start_time": "2023-01-23T15:51:31.369Z"
   },
   {
    "duration": 12,
    "start_time": "2023-01-23T15:52:56.929Z"
   },
   {
    "duration": 40,
    "start_time": "2023-01-23T15:56:52.328Z"
   },
   {
    "duration": 33,
    "start_time": "2023-01-23T15:59:02.475Z"
   },
   {
    "duration": 19,
    "start_time": "2023-01-23T15:59:19.890Z"
   },
   {
    "duration": 18,
    "start_time": "2023-01-23T16:00:30.383Z"
   },
   {
    "duration": 4,
    "start_time": "2023-01-23T21:51:57.405Z"
   },
   {
    "duration": 134,
    "start_time": "2023-01-23T21:51:58.177Z"
   },
   {
    "duration": 9,
    "start_time": "2023-01-23T21:51:59.309Z"
   },
   {
    "duration": 3,
    "start_time": "2023-01-23T21:51:59.625Z"
   },
   {
    "duration": 15,
    "start_time": "2023-01-23T21:52:00.021Z"
   },
   {
    "duration": 7,
    "start_time": "2023-01-23T21:52:00.265Z"
   },
   {
    "duration": 7,
    "start_time": "2023-01-23T21:52:00.637Z"
   },
   {
    "duration": 15,
    "start_time": "2023-01-23T21:52:00.861Z"
   },
   {
    "duration": 11,
    "start_time": "2023-01-23T21:52:01.105Z"
   },
   {
    "duration": 5,
    "start_time": "2023-01-23T21:52:01.317Z"
   },
   {
    "duration": 12,
    "start_time": "2023-01-23T21:52:01.851Z"
   },
   {
    "duration": 6,
    "start_time": "2023-01-23T21:52:02.033Z"
   },
   {
    "duration": 9,
    "start_time": "2023-01-23T21:52:02.248Z"
   },
   {
    "duration": 12,
    "start_time": "2023-01-23T21:52:02.705Z"
   },
   {
    "duration": 15,
    "start_time": "2023-01-23T21:52:02.949Z"
   },
   {
    "duration": 5,
    "start_time": "2023-01-23T21:52:03.200Z"
   },
   {
    "duration": 13,
    "start_time": "2023-01-23T21:52:03.373Z"
   },
   {
    "duration": 8,
    "start_time": "2023-01-23T21:52:03.609Z"
   },
   {
    "duration": 5,
    "start_time": "2023-01-23T21:52:03.805Z"
   },
   {
    "duration": 12,
    "start_time": "2023-01-23T21:52:05.445Z"
   },
   {
    "duration": 14,
    "start_time": "2023-01-23T21:52:06.271Z"
   },
   {
    "duration": 12,
    "start_time": "2023-01-23T21:52:07.701Z"
   },
   {
    "duration": 11,
    "start_time": "2023-01-23T21:52:08.770Z"
   },
   {
    "duration": 18,
    "start_time": "2023-01-23T21:52:09.425Z"
   },
   {
    "duration": 8,
    "start_time": "2023-01-23T21:52:10.300Z"
   },
   {
    "duration": 19,
    "start_time": "2023-01-23T21:52:10.941Z"
   },
   {
    "duration": 4,
    "start_time": "2023-01-23T21:52:11.577Z"
   },
   {
    "duration": 11,
    "start_time": "2023-01-23T21:52:14.589Z"
   },
   {
    "duration": 12,
    "start_time": "2023-01-23T21:52:15.870Z"
   },
   {
    "duration": 1241,
    "start_time": "2023-01-23T21:52:39.599Z"
   },
   {
    "duration": 104,
    "start_time": "2023-01-23T21:52:40.842Z"
   },
   {
    "duration": 17,
    "start_time": "2023-01-23T21:52:40.948Z"
   },
   {
    "duration": 9,
    "start_time": "2023-01-23T21:52:40.976Z"
   },
   {
    "duration": 12,
    "start_time": "2023-01-23T21:52:41.677Z"
   },
   {
    "duration": 7,
    "start_time": "2023-01-23T21:52:42.007Z"
   },
   {
    "duration": 7,
    "start_time": "2023-01-23T21:52:42.677Z"
   },
   {
    "duration": 14,
    "start_time": "2023-01-23T21:52:43.026Z"
   },
   {
    "duration": 12,
    "start_time": "2023-01-23T21:52:43.263Z"
   },
   {
    "duration": 5,
    "start_time": "2023-01-23T21:52:43.505Z"
   },
   {
    "duration": 15,
    "start_time": "2023-01-23T21:52:44.057Z"
   },
   {
    "duration": 7,
    "start_time": "2023-01-23T21:52:44.273Z"
   },
   {
    "duration": 7,
    "start_time": "2023-01-23T21:52:44.591Z"
   },
   {
    "duration": 14,
    "start_time": "2023-01-23T21:52:44.781Z"
   },
   {
    "duration": 17,
    "start_time": "2023-01-23T21:52:45.042Z"
   },
   {
    "duration": 5,
    "start_time": "2023-01-23T21:52:45.337Z"
   },
   {
    "duration": 15,
    "start_time": "2023-01-23T21:52:45.639Z"
   },
   {
    "duration": 6,
    "start_time": "2023-01-23T21:52:45.923Z"
   },
   {
    "duration": 7,
    "start_time": "2023-01-23T21:52:46.240Z"
   },
   {
    "duration": 21,
    "start_time": "2023-01-23T21:52:48.194Z"
   },
   {
    "duration": 14,
    "start_time": "2023-01-23T21:52:48.728Z"
   },
   {
    "duration": 16,
    "start_time": "2023-01-23T21:52:50.146Z"
   },
   {
    "duration": 10,
    "start_time": "2023-01-23T21:52:51.310Z"
   },
   {
    "duration": 22,
    "start_time": "2023-01-23T21:52:55.316Z"
   },
   {
    "duration": 8,
    "start_time": "2023-01-23T21:52:56.775Z"
   },
   {
    "duration": 19,
    "start_time": "2023-01-23T21:52:58.271Z"
   },
   {
    "duration": 5,
    "start_time": "2023-01-23T21:52:59.680Z"
   },
   {
    "duration": 11,
    "start_time": "2023-01-23T21:53:02.164Z"
   },
   {
    "duration": 10,
    "start_time": "2023-01-23T21:53:03.339Z"
   },
   {
    "duration": 605,
    "start_time": "2023-01-23T21:53:16.210Z"
   },
   {
    "duration": 247,
    "start_time": "2023-01-23T21:53:34.981Z"
   },
   {
    "duration": 315,
    "start_time": "2023-01-23T21:53:36.430Z"
   },
   {
    "duration": 214,
    "start_time": "2023-01-23T21:53:37.884Z"
   },
   {
    "duration": 307,
    "start_time": "2023-01-23T21:53:39.574Z"
   },
   {
    "duration": 154,
    "start_time": "2023-01-23T21:53:41.468Z"
   },
   {
    "duration": 163,
    "start_time": "2023-01-23T21:53:42.243Z"
   },
   {
    "duration": 5,
    "start_time": "2023-01-23T21:53:43.027Z"
   },
   {
    "duration": 4,
    "start_time": "2023-01-23T21:53:43.331Z"
   },
   {
    "duration": 232,
    "start_time": "2023-01-23T21:53:45.626Z"
   },
   {
    "duration": 137,
    "start_time": "2023-01-23T21:53:45.934Z"
   },
   {
    "duration": 149,
    "start_time": "2023-01-23T21:53:46.409Z"
   },
   {
    "duration": 153,
    "start_time": "2023-01-23T21:53:47.008Z"
   },
   {
    "duration": 5,
    "start_time": "2023-01-23T21:53:49.240Z"
   },
   {
    "duration": 5,
    "start_time": "2023-01-23T21:53:49.566Z"
   },
   {
    "duration": 135,
    "start_time": "2023-01-23T21:53:52.477Z"
   },
   {
    "duration": 27,
    "start_time": "2023-01-23T21:53:52.746Z"
   },
   {
    "duration": 14,
    "start_time": "2023-01-23T21:53:55.438Z"
   },
   {
    "duration": 13,
    "start_time": "2023-01-23T21:53:56.683Z"
   },
   {
    "duration": 52,
    "start_time": "2023-01-23T21:53:57.444Z"
   },
   {
    "duration": 14,
    "start_time": "2023-01-23T21:53:59.117Z"
   },
   {
    "duration": 1060,
    "start_time": "2023-01-24T07:36:36.044Z"
   },
   {
    "duration": 253,
    "start_time": "2023-01-24T07:36:37.106Z"
   },
   {
    "duration": 10,
    "start_time": "2023-01-24T07:36:37.361Z"
   },
   {
    "duration": 7,
    "start_time": "2023-01-24T07:36:37.373Z"
   },
   {
    "duration": 25,
    "start_time": "2023-01-24T07:36:37.382Z"
   },
   {
    "duration": 21,
    "start_time": "2023-01-24T07:36:37.409Z"
   },
   {
    "duration": 17,
    "start_time": "2023-01-24T07:36:37.432Z"
   },
   {
    "duration": 15,
    "start_time": "2023-01-24T07:36:37.450Z"
   },
   {
    "duration": 21,
    "start_time": "2023-01-24T07:36:37.466Z"
   },
   {
    "duration": 10,
    "start_time": "2023-01-24T07:36:37.490Z"
   },
   {
    "duration": 19,
    "start_time": "2023-01-24T07:36:37.501Z"
   },
   {
    "duration": 17,
    "start_time": "2023-01-24T07:36:37.522Z"
   },
   {
    "duration": 12,
    "start_time": "2023-01-24T07:36:37.541Z"
   },
   {
    "duration": 10,
    "start_time": "2023-01-24T07:36:37.554Z"
   },
   {
    "duration": 12,
    "start_time": "2023-01-24T07:36:37.566Z"
   },
   {
    "duration": 28,
    "start_time": "2023-01-24T07:36:37.580Z"
   },
   {
    "duration": 16,
    "start_time": "2023-01-24T07:36:37.610Z"
   },
   {
    "duration": 7,
    "start_time": "2023-01-24T07:36:37.628Z"
   },
   {
    "duration": 8,
    "start_time": "2023-01-24T07:36:37.636Z"
   },
   {
    "duration": 12,
    "start_time": "2023-01-24T07:36:37.645Z"
   },
   {
    "duration": 13,
    "start_time": "2023-01-24T07:36:37.659Z"
   },
   {
    "duration": 19,
    "start_time": "2023-01-24T07:36:37.673Z"
   },
   {
    "duration": 7,
    "start_time": "2023-01-24T07:36:37.693Z"
   },
   {
    "duration": 16,
    "start_time": "2023-01-24T07:36:37.702Z"
   },
   {
    "duration": 5,
    "start_time": "2023-01-24T07:36:37.719Z"
   },
   {
    "duration": 31,
    "start_time": "2023-01-24T07:36:37.725Z"
   },
   {
    "duration": 4,
    "start_time": "2023-01-24T07:36:37.757Z"
   },
   {
    "duration": 12,
    "start_time": "2023-01-24T07:36:37.763Z"
   },
   {
    "duration": 8,
    "start_time": "2023-01-24T07:36:37.776Z"
   },
   {
    "duration": 543,
    "start_time": "2023-01-24T07:36:37.785Z"
   },
   {
    "duration": 196,
    "start_time": "2023-01-24T07:36:38.330Z"
   },
   {
    "duration": 281,
    "start_time": "2023-01-24T07:36:38.527Z"
   },
   {
    "duration": 357,
    "start_time": "2023-01-24T07:36:38.809Z"
   },
   {
    "duration": 579,
    "start_time": "2023-01-24T07:36:39.167Z"
   },
   {
    "duration": 243,
    "start_time": "2023-01-24T07:36:39.748Z"
   },
   {
    "duration": 302,
    "start_time": "2023-01-24T07:36:40.044Z"
   },
   {
    "duration": 5,
    "start_time": "2023-01-24T07:36:40.348Z"
   },
   {
    "duration": 12,
    "start_time": "2023-01-24T07:36:40.355Z"
   },
   {
    "duration": 408,
    "start_time": "2023-01-24T07:36:40.369Z"
   },
   {
    "duration": 143,
    "start_time": "2023-01-24T07:36:40.779Z"
   },
   {
    "duration": 134,
    "start_time": "2023-01-24T07:36:40.924Z"
   },
   {
    "duration": 131,
    "start_time": "2023-01-24T07:36:41.060Z"
   },
   {
    "duration": 3,
    "start_time": "2023-01-24T07:36:41.193Z"
   },
   {
    "duration": 23,
    "start_time": "2023-01-24T07:36:41.198Z"
   },
   {
    "duration": 131,
    "start_time": "2023-01-24T07:36:41.222Z"
   },
   {
    "duration": 23,
    "start_time": "2023-01-24T07:36:41.355Z"
   },
   {
    "duration": 9,
    "start_time": "2023-01-24T07:36:41.380Z"
   },
   {
    "duration": 9,
    "start_time": "2023-01-24T07:36:41.391Z"
   },
   {
    "duration": 53,
    "start_time": "2023-01-24T07:36:41.401Z"
   },
   {
    "duration": 13,
    "start_time": "2023-01-24T07:36:41.456Z"
   },
   {
    "duration": 1243,
    "start_time": "2023-04-01T21:22:46.558Z"
   },
   {
    "duration": 329,
    "start_time": "2023-04-01T21:22:47.805Z"
   },
   {
    "duration": 14,
    "start_time": "2023-04-01T21:22:48.136Z"
   },
   {
    "duration": 3,
    "start_time": "2023-04-01T21:22:48.152Z"
   },
   {
    "duration": 16,
    "start_time": "2023-04-01T21:22:48.156Z"
   },
   {
    "duration": 19,
    "start_time": "2023-04-01T21:22:48.174Z"
   },
   {
    "duration": 62,
    "start_time": "2023-04-01T21:22:48.194Z"
   },
   {
    "duration": 19,
    "start_time": "2023-04-01T21:22:48.258Z"
   },
   {
    "duration": 45,
    "start_time": "2023-04-01T21:22:48.279Z"
   },
   {
    "duration": 5,
    "start_time": "2023-04-01T21:22:48.327Z"
   },
   {
    "duration": 15,
    "start_time": "2023-04-01T21:22:48.334Z"
   },
   {
    "duration": 10,
    "start_time": "2023-04-01T21:22:48.350Z"
   },
   {
    "duration": 8,
    "start_time": "2023-04-01T21:22:48.362Z"
   },
   {
    "duration": 11,
    "start_time": "2023-04-01T21:22:48.372Z"
   },
   {
    "duration": 49,
    "start_time": "2023-04-01T21:22:48.385Z"
   },
   {
    "duration": 6,
    "start_time": "2023-04-01T21:22:48.436Z"
   },
   {
    "duration": 14,
    "start_time": "2023-04-01T21:22:48.444Z"
   },
   {
    "duration": 22,
    "start_time": "2023-04-01T21:22:48.460Z"
   },
   {
    "duration": 14,
    "start_time": "2023-04-01T21:22:48.485Z"
   },
   {
    "duration": 33,
    "start_time": "2023-04-01T21:22:48.503Z"
   },
   {
    "duration": 13,
    "start_time": "2023-04-01T21:22:48.538Z"
   },
   {
    "duration": 13,
    "start_time": "2023-04-01T21:22:48.553Z"
   },
   {
    "duration": 13,
    "start_time": "2023-04-01T21:22:48.567Z"
   },
   {
    "duration": 22,
    "start_time": "2023-04-01T21:22:48.581Z"
   },
   {
    "duration": 12,
    "start_time": "2023-04-01T21:22:48.604Z"
   },
   {
    "duration": 16,
    "start_time": "2023-04-01T21:22:48.620Z"
   },
   {
    "duration": 4,
    "start_time": "2023-04-01T21:22:48.638Z"
   },
   {
    "duration": 13,
    "start_time": "2023-04-01T21:22:48.646Z"
   },
   {
    "duration": 40,
    "start_time": "2023-04-01T21:22:48.661Z"
   },
   {
    "duration": 630,
    "start_time": "2023-04-01T21:22:48.706Z"
   },
   {
    "duration": 219,
    "start_time": "2023-04-01T21:22:49.338Z"
   },
   {
    "duration": 309,
    "start_time": "2023-04-01T21:22:49.559Z"
   },
   {
    "duration": 240,
    "start_time": "2023-04-01T21:22:49.870Z"
   },
   {
    "duration": 360,
    "start_time": "2023-04-01T21:22:50.113Z"
   },
   {
    "duration": 193,
    "start_time": "2023-04-01T21:22:50.476Z"
   },
   {
    "duration": 190,
    "start_time": "2023-04-01T21:22:50.671Z"
   },
   {
    "duration": 5,
    "start_time": "2023-04-01T21:22:50.863Z"
   },
   {
    "duration": 12,
    "start_time": "2023-04-01T21:22:50.870Z"
   },
   {
    "duration": 261,
    "start_time": "2023-04-01T21:22:50.884Z"
   },
   {
    "duration": 164,
    "start_time": "2023-04-01T21:22:51.147Z"
   },
   {
    "duration": 142,
    "start_time": "2023-04-01T21:22:51.318Z"
   },
   {
    "duration": 165,
    "start_time": "2023-04-01T21:22:51.462Z"
   },
   {
    "duration": 6,
    "start_time": "2023-04-01T21:22:51.628Z"
   },
   {
    "duration": 22,
    "start_time": "2023-04-01T21:22:51.636Z"
   },
   {
    "duration": 153,
    "start_time": "2023-04-01T21:22:51.660Z"
   },
   {
    "duration": 29,
    "start_time": "2023-04-01T21:22:51.819Z"
   },
   {
    "duration": 13,
    "start_time": "2023-04-01T21:22:51.850Z"
   },
   {
    "duration": 13,
    "start_time": "2023-04-01T21:22:51.865Z"
   },
   {
    "duration": 71,
    "start_time": "2023-04-01T21:22:51.880Z"
   },
   {
    "duration": 20,
    "start_time": "2023-04-01T21:22:51.953Z"
   }
  ],
  "kernelspec": {
   "display_name": "Python 3 (ipykernel)",
   "language": "python",
   "name": "python3"
  },
  "language_info": {
   "codemirror_mode": {
    "name": "ipython",
    "version": 3
   },
   "file_extension": ".py",
   "mimetype": "text/x-python",
   "name": "python",
   "nbconvert_exporter": "python",
   "pygments_lexer": "ipython3",
   "version": "3.10.9"
  },
  "toc": {
   "base_numbering": 1,
   "nav_menu": {},
   "number_sections": true,
   "sideBar": true,
   "skip_h1_title": true,
   "title_cell": "Table of Contents",
   "title_sidebar": "Contents",
   "toc_cell": false,
   "toc_position": {},
   "toc_section_display": true,
   "toc_window_display": false
  }
 },
 "nbformat": 4,
 "nbformat_minor": 2
}
